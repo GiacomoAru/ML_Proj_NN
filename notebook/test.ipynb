{
 "cells": [
  {
   "cell_type": "code",
   "execution_count": 1,
   "metadata": {},
   "outputs": [],
   "source": [
    "import matplotlib.pyplot as plt\n",
    "import numpy as np\n",
    "import math\n",
    "import sys\n",
    "import os\n",
    "\n",
    "sys.path.append(os.path.abspath('../src/'))\n",
    "import ActivationFunctions\n",
    "from NeuralNetwork import *\n",
    "from MyUtils import *\n",
    "from ModelSelection import *"
   ]
  },
  {
   "cell_type": "code",
   "execution_count": 2,
   "metadata": {},
   "outputs": [],
   "source": [
    "out_df = pd.DataFrame(columns=['ciao1', 'ciao2', 'cacca3'])\n",
    "out_df.to_csv('../data/gs_data/test.csv', mode='w+', index=False, header=True)"
   ]
  },
  {
   "cell_type": "code",
   "execution_count": 3,
   "metadata": {},
   "outputs": [
    {
     "data": {
      "text/html": [
       "<div>\n",
       "<style scoped>\n",
       "    .dataframe tbody tr th:only-of-type {\n",
       "        vertical-align: middle;\n",
       "    }\n",
       "\n",
       "    .dataframe tbody tr th {\n",
       "        vertical-align: top;\n",
       "    }\n",
       "\n",
       "    .dataframe thead th {\n",
       "        text-align: right;\n",
       "    }\n",
       "</style>\n",
       "<table border=\"1\" class=\"dataframe\">\n",
       "  <thead>\n",
       "    <tr style=\"text-align: right;\">\n",
       "      <th></th>\n",
       "      <th>ciao1</th>\n",
       "      <th>ciao2</th>\n",
       "      <th>cacca3</th>\n",
       "      <th>0</th>\n",
       "    </tr>\n",
       "  </thead>\n",
       "  <tbody>\n",
       "    <tr>\n",
       "      <th>0</th>\n",
       "      <td>NaN</td>\n",
       "      <td>NaN</td>\n",
       "      <td>NaN</td>\n",
       "      <td>1</td>\n",
       "    </tr>\n",
       "    <tr>\n",
       "      <th>1</th>\n",
       "      <td>NaN</td>\n",
       "      <td>NaN</td>\n",
       "      <td>NaN</td>\n",
       "      <td>2</td>\n",
       "    </tr>\n",
       "    <tr>\n",
       "      <th>2</th>\n",
       "      <td>NaN</td>\n",
       "      <td>NaN</td>\n",
       "      <td>NaN</td>\n",
       "      <td>3</td>\n",
       "    </tr>\n",
       "  </tbody>\n",
       "</table>\n",
       "</div>"
      ],
      "text/plain": [
       "  ciao1 ciao2 cacca3  0\n",
       "0   NaN   NaN    NaN  1\n",
       "1   NaN   NaN    NaN  2\n",
       "2   NaN   NaN    NaN  3"
      ]
     },
     "execution_count": 3,
     "metadata": {},
     "output_type": "execute_result"
    }
   ],
   "source": [
    "out_df"
   ]
  },
  {
   "cell_type": "code",
   "execution_count": 4,
   "metadata": {},
   "outputs": [
    {
     "data": {
      "text/html": [
       "<div>\n",
       "<style scoped>\n",
       "    .dataframe tbody tr th:only-of-type {\n",
       "        vertical-align: middle;\n",
       "    }\n",
       "\n",
       "    .dataframe tbody tr th {\n",
       "        vertical-align: top;\n",
       "    }\n",
       "\n",
       "    .dataframe thead th {\n",
       "        text-align: right;\n",
       "    }\n",
       "</style>\n",
       "<table border=\"1\" class=\"dataframe\">\n",
       "  <thead>\n",
       "    <tr style=\"text-align: right;\">\n",
       "      <th></th>\n",
       "      <th>ciao1</th>\n",
       "      <th>ciao2</th>\n",
       "      <th>cacca3</th>\n",
       "    </tr>\n",
       "  </thead>\n",
       "  <tbody>\n",
       "  </tbody>\n",
       "</table>\n",
       "</div>"
      ],
      "text/plain": [
       "Empty DataFrame\n",
       "Columns: [ciao1, ciao2, cacca3]\n",
       "Index: []"
      ]
     },
     "execution_count": 4,
     "metadata": {},
     "output_type": "execute_result"
    }
   ],
   "source": [
    "blubbo = pd.DataFrame(columns=['ciao1', 'ciao2', 'cacca3'])\n",
    "blubbo"
   ]
  },
  {
   "cell_type": "code",
   "execution_count": null,
   "metadata": {},
   "outputs": [],
   "source": [
    "for i in range(10):\n",
    "    out_df.iloc[0] =  [1 + i,2 - i,3,4]\n",
    "    out_df.to_csv('../data/gs_data/test.csv', mode='a+', index=False, header=False)"
   ]
  },
  {
   "cell_type": "code",
   "execution_count": null,
   "metadata": {},
   "outputs": [],
   "source": [
    "act_fun = [ActivationFunctions.identity, ActivationFunctions.gaussian, ActivationFunctions.sigmoid, ActivationFunctions.softplus, ActivationFunctions.tanh,\n",
    "           ActivationFunctions.ReLU]"
   ]
  },
  {
   "cell_type": "code",
   "execution_count": null,
   "metadata": {},
   "outputs": [],
   "source": [
    "for fun in act_fun:\n",
    "    param = 1\n",
    "    x = []\n",
    "    y = []\n",
    "    deriv_y = []\n",
    "\n",
    "    for i in range(-1000,1000):\n",
    "        real_i = i/100\n",
    "        x.append(real_i)\n",
    "        y.append(fun(real_i, param))\n",
    "\n",
    "        deriv_y.append(ActivationFunctions.derivative(fun, real_i, param))\n",
    "    plt.plot(x,y,label='fun')\n",
    "    plt.plot(x, deriv_y, label='derivate')\n",
    "    plt.title(str(fun.__name__))\n",
    "    plt.grid()\n",
    "    plt.legend()\n",
    "    plt.show()"
   ]
  },
  {
   "cell_type": "code",
   "execution_count": null,
   "metadata": {},
   "outputs": [],
   "source": [
    "topology = {'0': ['input', 'None', [], ['3', '4', '5', '6', '7']], \n",
    "                '1': ['input', 'None', [], ['3', '4', '5', '6', '7']],\n",
    "                '2': ['input', 'None', [], ['3', '4', '5', '6', '7']],\n",
    "\n",
    "                '3': ['hidden', 'sigmoid', ['0','1','2'], ['8', '9']],\n",
    "                '4': ['hidden', 'sigmoid', ['0','1','2'], ['8', '9']],\n",
    "                '5': ['hidden', 'sigmoid', ['0','1','2'], ['8', '9']],\n",
    "                '6': ['hidden', 'sigmoid', ['0','1','2'], ['8', '9']],\n",
    "                '7': ['hidden', 'sigmoid', ['0','1','2'], ['8', '9']],\n",
    "\n",
    "                '8': ['output', 'identity', [], []],\n",
    "                '9': ['output', 'identity', [], []]}\n",
    "\n",
    "for key in topology:\n",
    "    print(key)"
   ]
  },
  {
   "cell_type": "code",
   "execution_count": null,
   "metadata": {},
   "outputs": [],
   "source": [
    "# imports\n",
    "import pandas as pd\n",
    "import plotly.express as px\n",
    "import plotly.graph_objects as go\n",
    "\n",
    "# data\n",
    "df = px.data.stocks().set_index('date')\n",
    "maps = {'group 1': ['GOOG', 'AAPL', 'AMZN', 'FB'],\n",
    "           'group 2':['NFLX', 'MSFT']}\n",
    "\n",
    "# plotly figure\n",
    "fig = px.line(df, x=df.index, y = df.columns) \n",
    "\n",
    "# groups and trace visibilities\n",
    "group = []\n",
    "vis = []\n",
    "visList = []\n",
    "for m in maps.keys():\n",
    "    for col in df.columns:\n",
    "        if col in maps[m]:\n",
    "            vis.append(True)\n",
    "        else:\n",
    "            vis.append(False)\n",
    "    group.append(m)\n",
    "    visList.append(vis)\n",
    "    vis = []\n",
    "\n",
    "# buttons for each group\n",
    "buttons = []\n",
    "for i, g in enumerate(group):\n",
    "    button =  dict(label=g,\n",
    "                   method = 'restyle',\n",
    "                    args = ['visible',visList[i]])\n",
    "    buttons.append(button)\n",
    "\n",
    "buttons = [{'label': 'all',\n",
    "                 'method': 'restyle',\n",
    "                 'args': ['visible', [True, True, True, True, True, True]]}] + buttons\n",
    "\n",
    "                     \n",
    "\n",
    "# update layout with buttons                       \n",
    "fig.update_layout(\n",
    "    updatemenus=[\n",
    "        dict(\n",
    "        type=\"dropdown\",\n",
    "        direction=\"down\",\n",
    "        buttons = buttons)\n",
    "    ],\n",
    ")\n",
    "# buttons\n",
    "fig.show()"
   ]
  },
  {
   "cell_type": "code",
   "execution_count": null,
   "metadata": {},
   "outputs": [],
   "source": [
    "TR_INPUT = 17\n",
    "TR_OUTPUT = 1\n",
    "hidden_len = 4\n",
    "topology = create_stratified_topology([TR_INPUT,hidden_len,TR_OUTPUT], \n",
    "                                      [[None,[]]]*TR_INPUT + [['sigmoid', [1]]]*hidden_len + [['sigmoid', [1]]])\n",
    "NeuralNetwork.display_topology(topology)"
   ]
  }
 ],
 "metadata": {
  "kernelspec": {
   "display_name": "DM_Proj",
   "language": "python",
   "name": "python3"
  },
  "language_info": {
   "codemirror_mode": {
    "name": "ipython",
    "version": 3
   },
   "file_extension": ".py",
   "mimetype": "text/x-python",
   "name": "python",
   "nbconvert_exporter": "python",
   "pygments_lexer": "ipython3",
   "version": "3.12.1"
  }
 },
 "nbformat": 4,
 "nbformat_minor": 2
}
