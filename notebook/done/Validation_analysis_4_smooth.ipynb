{
 "cells": [
  {
   "cell_type": "code",
   "execution_count": 1,
   "metadata": {},
   "outputs": [],
   "source": [
    "import matplotlib.pyplot as plt\n",
    "import numpy as np\n",
    "import sys\n",
    "import os\n",
    "import pandas as pd\n",
    "import plotly.express as px\n",
    "from sklearn.preprocessing import MinMaxScaler, StandardScaler\n",
    "import ast\n",
    "import warnings\n",
    "\n",
    "sys.path.append(os.path.abspath('../src/'))\n",
    "from ActivationFunctions import *\n",
    "from NeuralNetwork import *\n",
    "from MyUtils import *\n",
    "from ModelSelection import *\n",
    "\n",
    "\n",
    "%matplotlib inline"
   ]
  },
  {
   "cell_type": "code",
   "execution_count": 2,
   "metadata": {},
   "outputs": [],
   "source": [
    "tr_norm_df = pd.read_csv('../data/divided_std_train_0_8.csv')\n",
    "test_norm_df = pd.read_csv('../data/divided_std_test_0_2.csv')\n",
    "\n",
    "tr_df = pd.read_csv('../data/divided_train_0_8.csv')\n",
    "test_df = pd.read_csv('../data/divided_test_0_2.csv')\n",
    "\n",
    "TR_INPUT = 10\n",
    "TR_OUTPUT = 3\n",
    "\n",
    "tr_normalized = tr_norm_df.values\n",
    "test_normalized = test_norm_df.values\n",
    "training_set = tr_df.values\n",
    "test_set = test_df.values\n",
    "\n",
    "scaler_out = StandardScaler()\n",
    "scaler_out.fit(training_set[:,TR_INPUT:])\n",
    "\n",
    "training_len = len(tr_norm_df)\n",
    "test_len = len(test_norm_df)"
   ]
  },
  {
   "cell_type": "code",
   "execution_count": 3,
   "metadata": {},
   "outputs": [
    {
     "data": {
      "text/plain": [
       "array([[ 0.53174777,  0.93677744, -1.05640618],\n",
       "       [ 0.75168221, -0.24730591,  0.38017113],\n",
       "       [-2.13910246,  0.81628324, -0.59278468],\n",
       "       ...,\n",
       "       [ 0.44348996,  0.82282244,  0.27445264],\n",
       "       [-0.8963816 ,  0.87544672, -1.13567506],\n",
       "       [ 0.69225741,  1.00001584, -1.57977562]])"
      ]
     },
     "execution_count": 3,
     "metadata": {},
     "output_type": "execute_result"
    }
   ],
   "source": [
    "tr_normalized[:,TR_INPUT:]"
   ]
  },
  {
   "cell_type": "code",
   "execution_count": 4,
   "metadata": {},
   "outputs": [],
   "source": [
    "def load_obj(path):    \n",
    "    with open(path, 'r') as file:\n",
    "        ret = json.load(file)\n",
    "    for el in ret:\n",
    "        with open(el['nn_file_name'], 'r') as file:\n",
    "                el['model'] = NeuralNetwork.fromJSON(file.read())\n",
    "    return ret\n",
    "            \n",
    "def save_obj(obj, path):\n",
    "    for i in obj:\n",
    "        with open(i['nn_file_name'], 'w+') as file:\n",
    "            file.write(i['model'].toJSON())\n",
    "        i['model'] = None\n",
    "    json.dump(obj, path, default=str)"
   ]
  },
  {
   "cell_type": "code",
   "execution_count": 5,
   "metadata": {},
   "outputs": [],
   "source": [
    "def remove_useless_val(x):\n",
    "    a =['learning_rate', 'lr_decay_tau', 'alpha_momentum']\n",
    "    b =['adamax_learning_rate', 'exp_decay_rate_1', 'exp_decay_rate_2']\n",
    "    if x['adamax']:\n",
    "        for i in a:\n",
    "            if i in x.keys():\n",
    "                x[i] = None\n",
    "    else:\n",
    "        for i in b:\n",
    "            if i in x.keys():\n",
    "                x[i] = None   \n",
    "    return x"
   ]
  },
  {
   "cell_type": "code",
   "execution_count": 6,
   "metadata": {},
   "outputs": [],
   "source": [
    "columns_order = ['topology', 'stats',\n",
    " 'batch_size',\n",
    " 'min_epochs',\n",
    " 'max_epochs',\n",
    " 'patience',\n",
    " 'error_increase_tolerance',\n",
    " 'lambda_tikhonov',\n",
    " \n",
    " 'learning_rate',\n",
    " 'alpha_momentum',\n",
    " 'lr_decay_tau',\n",
    " \n",
    " 'adamax',\n",
    " 'adamax_learning_rate',\n",
    " 'exp_decay_rate_1',\n",
    " 'exp_decay_rate_2',\n",
    " \n",
    " 'mean_mean_euclidean_error',\n",
    " 'mean_mean_squared_error',\n",
    " 'var_mean_euclidean_error',\n",
    " 'var_mean_squared_error',\n",
    " 'mean_best_validation_training_error']"
   ]
  },
  {
   "cell_type": "code",
   "execution_count": 7,
   "metadata": {},
   "outputs": [
    {
     "data": {
      "text/html": [
       "<div>\n",
       "<style scoped>\n",
       "    .dataframe tbody tr th:only-of-type {\n",
       "        vertical-align: middle;\n",
       "    }\n",
       "\n",
       "    .dataframe tbody tr th {\n",
       "        vertical-align: top;\n",
       "    }\n",
       "\n",
       "    .dataframe thead th {\n",
       "        text-align: right;\n",
       "    }\n",
       "</style>\n",
       "<table border=\"1\" class=\"dataframe\">\n",
       "  <thead>\n",
       "    <tr style=\"text-align: right;\">\n",
       "      <th></th>\n",
       "      <th>adamax</th>\n",
       "      <th>alpha_momentum</th>\n",
       "      <th>batch_size</th>\n",
       "      <th>error_increase_tolerance</th>\n",
       "      <th>lambda_tikhonov</th>\n",
       "      <th>learning_rate</th>\n",
       "      <th>lr_decay_tau</th>\n",
       "      <th>max_epochs</th>\n",
       "      <th>min_epochs</th>\n",
       "      <th>patience</th>\n",
       "      <th>topology</th>\n",
       "      <th>stats</th>\n",
       "      <th>mean_mean_euclidean_error</th>\n",
       "      <th>mean_mean_squared_error</th>\n",
       "      <th>var_mean_euclidean_error</th>\n",
       "      <th>var_mean_squared_error</th>\n",
       "      <th>mean_best_validation_training_error</th>\n",
       "    </tr>\n",
       "  </thead>\n",
       "  <tbody>\n",
       "    <tr>\n",
       "      <th>0</th>\n",
       "      <td>False</td>\n",
       "      <td>0.75</td>\n",
       "      <td>10</td>\n",
       "      <td>0.00001</td>\n",
       "      <td>0.000001</td>\n",
       "      <td>0.001</td>\n",
       "      <td>250</td>\n",
       "      <td>400</td>\n",
       "      <td>100</td>\n",
       "      <td>5</td>\n",
       "      <td>32_sigmoid</td>\n",
       "      <td>{'min_epochs': 100, 'lambda_tikhonov': 1e-06, ...</td>\n",
       "      <td>0.297037</td>\n",
       "      <td>0.118063</td>\n",
       "      <td>0.000083</td>\n",
       "      <td>0.000043</td>\n",
       "      <td>0.113909</td>\n",
       "    </tr>\n",
       "  </tbody>\n",
       "</table>\n",
       "</div>"
      ],
      "text/plain": [
       "   adamax  alpha_momentum  batch_size  error_increase_tolerance  \\\n",
       "0   False            0.75          10                   0.00001   \n",
       "\n",
       "   lambda_tikhonov  learning_rate  lr_decay_tau  max_epochs  min_epochs  \\\n",
       "0         0.000001          0.001           250         400         100   \n",
       "\n",
       "   patience    topology                                              stats  \\\n",
       "0         5  32_sigmoid  {'min_epochs': 100, 'lambda_tikhonov': 1e-06, ...   \n",
       "\n",
       "   mean_mean_euclidean_error  mean_mean_squared_error  \\\n",
       "0                   0.297037                 0.118063   \n",
       "\n",
       "   var_mean_euclidean_error  var_mean_squared_error  \\\n",
       "0                  0.000083                0.000043   \n",
       "\n",
       "   mean_best_validation_training_error  \n",
       "0                             0.113909  "
      ]
     },
     "execution_count": 7,
     "metadata": {},
     "output_type": "execute_result"
    }
   ],
   "source": [
    "results_files = ['1l_sigmoid_4_smooth.csv']\n",
    "topologies = ['32_sigmoid']\n",
    "folder = '../data/gs_data/'\n",
    "topologies_dict = {}\n",
    "gs_results = []\n",
    "for i, f in enumerate(results_files):\n",
    "    if os.path.isfile(folder+ f):\n",
    "        dummy = pd.read_csv(folder + f)\n",
    "        topologies_dict[topologies[i]] = ast.literal_eval(dummy['topology'][0])\n",
    "        dummy['topology'] = topologies[i]\n",
    "        \n",
    "        gs_results.append(dummy)\n",
    "    \n",
    "\n",
    "\n",
    "orig_df = pd.concat(gs_results)\n",
    "orig_df.head(1)"
   ]
  },
  {
   "cell_type": "code",
   "execution_count": 8,
   "metadata": {},
   "outputs": [],
   "source": [
    "columns_order = [x for x in columns_order if x in orig_df.columns]\n",
    "orig_df = orig_df[columns_order]\n",
    "\n",
    "order_by = 'mean_mean_euclidean_error'\n",
    "orig_df.sort_values(by=[order_by], inplace=True)\n",
    "orig_df = orig_df.reset_index(drop=True)\n",
    "gs_results = orig_df.drop(['stats'], axis=1)"
   ]
  },
  {
   "cell_type": "code",
   "execution_count": 9,
   "metadata": {},
   "outputs": [],
   "source": [
    "#warnings.simplefilter(action='ignore', category=FutureWarning)\n",
    "gs_results = gs_results.apply(remove_useless_val, axis=1)\n",
    "#warnings.simplefilter(action='default', category=FutureWarning)\n",
    "for i in gs_results.columns[1:]:\n",
    "    gs_results[i] = gs_results[i].astype(float)"
   ]
  },
  {
   "cell_type": "code",
   "execution_count": 10,
   "metadata": {},
   "outputs": [],
   "source": [
    "numerical_col = list(gs_results.columns)\n",
    "numerical_col.remove('topology')\n",
    "st_opt_col = ['learning_rate','lr_decay_tau','alpha_momentum']\n",
    "adamax_opt_col = ['adamax','adamax_learning_rate','exp_decay_rate_1','exp_decay_rate_2']\n",
    "metrics_col = [x for x in gs_results.columns if x.startswith(('var', 'mean'))]\n",
    "general_col = [item for item in list(gs_results.columns) if item not in st_opt_col and item not in metrics_col and item not in adamax_opt_col]\n",
    "tr_input_col = [item for item in list(gs_results.columns) if item not in metrics_col]"
   ]
  },
  {
   "cell_type": "code",
   "execution_count": 11,
   "metadata": {},
   "outputs": [
    {
     "data": {
      "text/html": [
       "<style type=\"text/css\">\n",
       "#T_a55dd_row0_col1, #T_a55dd_row0_col2, #T_a55dd_row0_col3, #T_a55dd_row0_col4, #T_a55dd_row0_col5, #T_a55dd_row0_col6, #T_a55dd_row0_col8, #T_a55dd_row0_col10, #T_a55dd_row0_col11, #T_a55dd_row0_col12, #T_a55dd_row0_col14, #T_a55dd_row0_col15, #T_a55dd_row1_col1, #T_a55dd_row1_col2, #T_a55dd_row1_col3, #T_a55dd_row1_col4, #T_a55dd_row1_col5, #T_a55dd_row1_col6, #T_a55dd_row1_col8, #T_a55dd_row1_col9, #T_a55dd_row1_col10, #T_a55dd_row2_col1, #T_a55dd_row2_col2, #T_a55dd_row2_col3, #T_a55dd_row2_col4, #T_a55dd_row2_col5, #T_a55dd_row2_col6, #T_a55dd_row2_col8, #T_a55dd_row2_col10, #T_a55dd_row3_col1, #T_a55dd_row3_col2, #T_a55dd_row3_col3, #T_a55dd_row3_col4, #T_a55dd_row3_col5, #T_a55dd_row3_col6, #T_a55dd_row3_col8, #T_a55dd_row3_col9, #T_a55dd_row3_col10, #T_a55dd_row4_col1, #T_a55dd_row4_col2, #T_a55dd_row4_col3, #T_a55dd_row4_col4, #T_a55dd_row4_col5, #T_a55dd_row4_col6, #T_a55dd_row4_col8, #T_a55dd_row4_col10, #T_a55dd_row5_col1, #T_a55dd_row5_col2, #T_a55dd_row5_col3, #T_a55dd_row5_col4, #T_a55dd_row5_col5, #T_a55dd_row5_col6, #T_a55dd_row5_col8, #T_a55dd_row5_col9, #T_a55dd_row5_col10, #T_a55dd_row6_col1, #T_a55dd_row6_col2, #T_a55dd_row6_col3, #T_a55dd_row6_col4, #T_a55dd_row6_col5, #T_a55dd_row6_col6, #T_a55dd_row6_col7, #T_a55dd_row6_col8, #T_a55dd_row6_col10, #T_a55dd_row6_col13, #T_a55dd_row7_col1, #T_a55dd_row7_col2, #T_a55dd_row7_col3, #T_a55dd_row7_col4, #T_a55dd_row7_col5, #T_a55dd_row7_col6, #T_a55dd_row7_col7, #T_a55dd_row7_col8, #T_a55dd_row7_col9, #T_a55dd_row7_col10 {\n",
       "  background-color: #f7fbff;\n",
       "  color: #000000;\n",
       "}\n",
       "#T_a55dd_row0_col7, #T_a55dd_row0_col9, #T_a55dd_row1_col7, #T_a55dd_row2_col9, #T_a55dd_row4_col9, #T_a55dd_row4_col13, #T_a55dd_row4_col14, #T_a55dd_row6_col9, #T_a55dd_row7_col11, #T_a55dd_row7_col12, #T_a55dd_row7_col15 {\n",
       "  background-color: #08306b;\n",
       "  color: #f1f1f1;\n",
       "}\n",
       "#T_a55dd_row0_col13 {\n",
       "  background-color: #caddf0;\n",
       "  color: #000000;\n",
       "}\n",
       "#T_a55dd_row1_col11 {\n",
       "  background-color: #b4d3e9;\n",
       "  color: #000000;\n",
       "}\n",
       "#T_a55dd_row1_col12 {\n",
       "  background-color: #bdd7ec;\n",
       "  color: #000000;\n",
       "}\n",
       "#T_a55dd_row1_col13 {\n",
       "  background-color: #dce9f6;\n",
       "  color: #000000;\n",
       "}\n",
       "#T_a55dd_row1_col14 {\n",
       "  background-color: #eff6fc;\n",
       "  color: #000000;\n",
       "}\n",
       "#T_a55dd_row1_col15 {\n",
       "  background-color: #bfd8ed;\n",
       "  color: #000000;\n",
       "}\n",
       "#T_a55dd_row2_col7, #T_a55dd_row3_col7 {\n",
       "  background-color: #abd0e6;\n",
       "  color: #000000;\n",
       "}\n",
       "#T_a55dd_row2_col11, #T_a55dd_row5_col13 {\n",
       "  background-color: #539ecd;\n",
       "  color: #f1f1f1;\n",
       "}\n",
       "#T_a55dd_row2_col12 {\n",
       "  background-color: #519ccc;\n",
       "  color: #f1f1f1;\n",
       "}\n",
       "#T_a55dd_row2_col13 {\n",
       "  background-color: #cee0f2;\n",
       "  color: #000000;\n",
       "}\n",
       "#T_a55dd_row2_col14 {\n",
       "  background-color: #63a8d3;\n",
       "  color: #f1f1f1;\n",
       "}\n",
       "#T_a55dd_row2_col15 {\n",
       "  background-color: #4e9acb;\n",
       "  color: #f1f1f1;\n",
       "}\n",
       "#T_a55dd_row3_col11 {\n",
       "  background-color: #4594c7;\n",
       "  color: #f1f1f1;\n",
       "}\n",
       "#T_a55dd_row3_col12 {\n",
       "  background-color: #3e8ec4;\n",
       "  color: #f1f1f1;\n",
       "}\n",
       "#T_a55dd_row3_col13 {\n",
       "  background-color: #e8f1fa;\n",
       "  color: #000000;\n",
       "}\n",
       "#T_a55dd_row3_col14 {\n",
       "  background-color: #b9d6ea;\n",
       "  color: #000000;\n",
       "}\n",
       "#T_a55dd_row3_col15 {\n",
       "  background-color: #3d8dc4;\n",
       "  color: #f1f1f1;\n",
       "}\n",
       "#T_a55dd_row4_col7, #T_a55dd_row5_col7 {\n",
       "  background-color: #e1edf8;\n",
       "  color: #000000;\n",
       "}\n",
       "#T_a55dd_row4_col11, #T_a55dd_row4_col15 {\n",
       "  background-color: #2c7cba;\n",
       "  color: #f1f1f1;\n",
       "}\n",
       "#T_a55dd_row4_col12 {\n",
       "  background-color: #2474b7;\n",
       "  color: #f1f1f1;\n",
       "}\n",
       "#T_a55dd_row5_col11 {\n",
       "  background-color: #2070b4;\n",
       "  color: #f1f1f1;\n",
       "}\n",
       "#T_a55dd_row5_col12 {\n",
       "  background-color: #1f6eb3;\n",
       "  color: #f1f1f1;\n",
       "}\n",
       "#T_a55dd_row5_col14 {\n",
       "  background-color: #8abfdd;\n",
       "  color: #000000;\n",
       "}\n",
       "#T_a55dd_row5_col15 {\n",
       "  background-color: #1e6db2;\n",
       "  color: #f1f1f1;\n",
       "}\n",
       "#T_a55dd_row6_col11 {\n",
       "  background-color: #084a91;\n",
       "  color: #f1f1f1;\n",
       "}\n",
       "#T_a55dd_row6_col12 {\n",
       "  background-color: #08488e;\n",
       "  color: #f1f1f1;\n",
       "}\n",
       "#T_a55dd_row6_col14 {\n",
       "  background-color: #ebf3fb;\n",
       "  color: #000000;\n",
       "}\n",
       "#T_a55dd_row6_col15 {\n",
       "  background-color: #084b93;\n",
       "  color: #f1f1f1;\n",
       "}\n",
       "#T_a55dd_row7_col13 {\n",
       "  background-color: #d3e4f3;\n",
       "  color: #000000;\n",
       "}\n",
       "#T_a55dd_row7_col14 {\n",
       "  background-color: #e3eef8;\n",
       "  color: #000000;\n",
       "}\n",
       "</style>\n",
       "<table id=\"T_a55dd\">\n",
       "  <thead>\n",
       "    <tr>\n",
       "      <th class=\"blank level0\" >&nbsp;</th>\n",
       "      <th id=\"T_a55dd_level0_col0\" class=\"col_heading level0 col0\" >topology</th>\n",
       "      <th id=\"T_a55dd_level0_col1\" class=\"col_heading level0 col1\" >batch_size</th>\n",
       "      <th id=\"T_a55dd_level0_col2\" class=\"col_heading level0 col2\" >min_epochs</th>\n",
       "      <th id=\"T_a55dd_level0_col3\" class=\"col_heading level0 col3\" >max_epochs</th>\n",
       "      <th id=\"T_a55dd_level0_col4\" class=\"col_heading level0 col4\" >patience</th>\n",
       "      <th id=\"T_a55dd_level0_col5\" class=\"col_heading level0 col5\" >error_increase_tolerance</th>\n",
       "      <th id=\"T_a55dd_level0_col6\" class=\"col_heading level0 col6\" >lambda_tikhonov</th>\n",
       "      <th id=\"T_a55dd_level0_col7\" class=\"col_heading level0 col7\" >learning_rate</th>\n",
       "      <th id=\"T_a55dd_level0_col8\" class=\"col_heading level0 col8\" >alpha_momentum</th>\n",
       "      <th id=\"T_a55dd_level0_col9\" class=\"col_heading level0 col9\" >lr_decay_tau</th>\n",
       "      <th id=\"T_a55dd_level0_col10\" class=\"col_heading level0 col10\" >adamax</th>\n",
       "      <th id=\"T_a55dd_level0_col11\" class=\"col_heading level0 col11\" >mean_mean_euclidean_error</th>\n",
       "      <th id=\"T_a55dd_level0_col12\" class=\"col_heading level0 col12\" >mean_mean_squared_error</th>\n",
       "      <th id=\"T_a55dd_level0_col13\" class=\"col_heading level0 col13\" >var_mean_euclidean_error</th>\n",
       "      <th id=\"T_a55dd_level0_col14\" class=\"col_heading level0 col14\" >var_mean_squared_error</th>\n",
       "      <th id=\"T_a55dd_level0_col15\" class=\"col_heading level0 col15\" >mean_best_validation_training_error</th>\n",
       "    </tr>\n",
       "  </thead>\n",
       "  <tbody>\n",
       "    <tr>\n",
       "      <th id=\"T_a55dd_level0_row0\" class=\"row_heading level0 row0\" >0</th>\n",
       "      <td id=\"T_a55dd_row0_col0\" class=\"data row0 col0\" >32_sigmoid</td>\n",
       "      <td id=\"T_a55dd_row0_col1\" class=\"data row0 col1\" >10.000000</td>\n",
       "      <td id=\"T_a55dd_row0_col2\" class=\"data row0 col2\" >100.000000</td>\n",
       "      <td id=\"T_a55dd_row0_col3\" class=\"data row0 col3\" >400.000000</td>\n",
       "      <td id=\"T_a55dd_row0_col4\" class=\"data row0 col4\" >5.000000</td>\n",
       "      <td id=\"T_a55dd_row0_col5\" class=\"data row0 col5\" >0.000010</td>\n",
       "      <td id=\"T_a55dd_row0_col6\" class=\"data row0 col6\" >0.000001</td>\n",
       "      <td id=\"T_a55dd_row0_col7\" class=\"data row0 col7\" >0.005000</td>\n",
       "      <td id=\"T_a55dd_row0_col8\" class=\"data row0 col8\" >0.750000</td>\n",
       "      <td id=\"T_a55dd_row0_col9\" class=\"data row0 col9\" >300.000000</td>\n",
       "      <td id=\"T_a55dd_row0_col10\" class=\"data row0 col10\" >0.000000</td>\n",
       "      <td id=\"T_a55dd_row0_col11\" class=\"data row0 col11\" >0.240853</td>\n",
       "      <td id=\"T_a55dd_row0_col12\" class=\"data row0 col12\" >0.076503</td>\n",
       "      <td id=\"T_a55dd_row0_col13\" class=\"data row0 col13\" >0.000039</td>\n",
       "      <td id=\"T_a55dd_row0_col14\" class=\"data row0 col14\" >0.000016</td>\n",
       "      <td id=\"T_a55dd_row0_col15\" class=\"data row0 col15\" >0.071470</td>\n",
       "    </tr>\n",
       "    <tr>\n",
       "      <th id=\"T_a55dd_level0_row1\" class=\"row_heading level0 row1\" >1</th>\n",
       "      <td id=\"T_a55dd_row1_col0\" class=\"data row1 col0\" >32_sigmoid</td>\n",
       "      <td id=\"T_a55dd_row1_col1\" class=\"data row1 col1\" >10.000000</td>\n",
       "      <td id=\"T_a55dd_row1_col2\" class=\"data row1 col2\" >100.000000</td>\n",
       "      <td id=\"T_a55dd_row1_col3\" class=\"data row1 col3\" >400.000000</td>\n",
       "      <td id=\"T_a55dd_row1_col4\" class=\"data row1 col4\" >5.000000</td>\n",
       "      <td id=\"T_a55dd_row1_col5\" class=\"data row1 col5\" >0.000010</td>\n",
       "      <td id=\"T_a55dd_row1_col6\" class=\"data row1 col6\" >0.000001</td>\n",
       "      <td id=\"T_a55dd_row1_col7\" class=\"data row1 col7\" >0.005000</td>\n",
       "      <td id=\"T_a55dd_row1_col8\" class=\"data row1 col8\" >0.750000</td>\n",
       "      <td id=\"T_a55dd_row1_col9\" class=\"data row1 col9\" >250.000000</td>\n",
       "      <td id=\"T_a55dd_row1_col10\" class=\"data row1 col10\" >0.000000</td>\n",
       "      <td id=\"T_a55dd_row1_col11\" class=\"data row1 col11\" >0.263758</td>\n",
       "      <td id=\"T_a55dd_row1_col12\" class=\"data row1 col12\" >0.091766</td>\n",
       "      <td id=\"T_a55dd_row1_col13\" class=\"data row1 col13\" >0.000027</td>\n",
       "      <td id=\"T_a55dd_row1_col14\" class=\"data row1 col14\" >0.000018</td>\n",
       "      <td id=\"T_a55dd_row1_col15\" class=\"data row1 col15\" >0.086637</td>\n",
       "    </tr>\n",
       "    <tr>\n",
       "      <th id=\"T_a55dd_level0_row2\" class=\"row_heading level0 row2\" >2</th>\n",
       "      <td id=\"T_a55dd_row2_col0\" class=\"data row2 col0\" >32_sigmoid</td>\n",
       "      <td id=\"T_a55dd_row2_col1\" class=\"data row2 col1\" >10.000000</td>\n",
       "      <td id=\"T_a55dd_row2_col2\" class=\"data row2 col2\" >100.000000</td>\n",
       "      <td id=\"T_a55dd_row2_col3\" class=\"data row2 col3\" >400.000000</td>\n",
       "      <td id=\"T_a55dd_row2_col4\" class=\"data row2 col4\" >5.000000</td>\n",
       "      <td id=\"T_a55dd_row2_col5\" class=\"data row2 col5\" >0.000010</td>\n",
       "      <td id=\"T_a55dd_row2_col6\" class=\"data row2 col6\" >0.000001</td>\n",
       "      <td id=\"T_a55dd_row2_col7\" class=\"data row2 col7\" >0.002000</td>\n",
       "      <td id=\"T_a55dd_row2_col8\" class=\"data row2 col8\" >0.750000</td>\n",
       "      <td id=\"T_a55dd_row2_col9\" class=\"data row2 col9\" >300.000000</td>\n",
       "      <td id=\"T_a55dd_row2_col10\" class=\"data row2 col10\" >0.000000</td>\n",
       "      <td id=\"T_a55dd_row2_col11\" class=\"data row2 col11\" >0.283531</td>\n",
       "      <td id=\"T_a55dd_row2_col12\" class=\"data row2 col12\" >0.108130</td>\n",
       "      <td id=\"T_a55dd_row2_col13\" class=\"data row2 col13\" >0.000036</td>\n",
       "      <td id=\"T_a55dd_row2_col14\" class=\"data row2 col14\" >0.000049</td>\n",
       "      <td id=\"T_a55dd_row2_col15\" class=\"data row2 col15\" >0.104046</td>\n",
       "    </tr>\n",
       "    <tr>\n",
       "      <th id=\"T_a55dd_level0_row3\" class=\"row_heading level0 row3\" >3</th>\n",
       "      <td id=\"T_a55dd_row3_col0\" class=\"data row3 col0\" >32_sigmoid</td>\n",
       "      <td id=\"T_a55dd_row3_col1\" class=\"data row3 col1\" >10.000000</td>\n",
       "      <td id=\"T_a55dd_row3_col2\" class=\"data row3 col2\" >100.000000</td>\n",
       "      <td id=\"T_a55dd_row3_col3\" class=\"data row3 col3\" >400.000000</td>\n",
       "      <td id=\"T_a55dd_row3_col4\" class=\"data row3 col4\" >5.000000</td>\n",
       "      <td id=\"T_a55dd_row3_col5\" class=\"data row3 col5\" >0.000010</td>\n",
       "      <td id=\"T_a55dd_row3_col6\" class=\"data row3 col6\" >0.000001</td>\n",
       "      <td id=\"T_a55dd_row3_col7\" class=\"data row3 col7\" >0.002000</td>\n",
       "      <td id=\"T_a55dd_row3_col8\" class=\"data row3 col8\" >0.750000</td>\n",
       "      <td id=\"T_a55dd_row3_col9\" class=\"data row3 col9\" >250.000000</td>\n",
       "      <td id=\"T_a55dd_row3_col10\" class=\"data row3 col10\" >0.000000</td>\n",
       "      <td id=\"T_a55dd_row3_col11\" class=\"data row3 col11\" >0.286752</td>\n",
       "      <td id=\"T_a55dd_row3_col12\" class=\"data row3 col12\" >0.111395</td>\n",
       "      <td id=\"T_a55dd_row3_col13\" class=\"data row3 col13\" >0.000019</td>\n",
       "      <td id=\"T_a55dd_row3_col14\" class=\"data row3 col14\" >0.000034</td>\n",
       "      <td id=\"T_a55dd_row3_col15\" class=\"data row3 col15\" >0.107221</td>\n",
       "    </tr>\n",
       "    <tr>\n",
       "      <th id=\"T_a55dd_level0_row4\" class=\"row_heading level0 row4\" >4</th>\n",
       "      <td id=\"T_a55dd_row4_col0\" class=\"data row4 col0\" >32_sigmoid</td>\n",
       "      <td id=\"T_a55dd_row4_col1\" class=\"data row4 col1\" >10.000000</td>\n",
       "      <td id=\"T_a55dd_row4_col2\" class=\"data row4 col2\" >100.000000</td>\n",
       "      <td id=\"T_a55dd_row4_col3\" class=\"data row4 col3\" >400.000000</td>\n",
       "      <td id=\"T_a55dd_row4_col4\" class=\"data row4 col4\" >5.000000</td>\n",
       "      <td id=\"T_a55dd_row4_col5\" class=\"data row4 col5\" >0.000010</td>\n",
       "      <td id=\"T_a55dd_row4_col6\" class=\"data row4 col6\" >0.000001</td>\n",
       "      <td id=\"T_a55dd_row4_col7\" class=\"data row4 col7\" >0.001000</td>\n",
       "      <td id=\"T_a55dd_row4_col8\" class=\"data row4 col8\" >0.750000</td>\n",
       "      <td id=\"T_a55dd_row4_col9\" class=\"data row4 col9\" >300.000000</td>\n",
       "      <td id=\"T_a55dd_row4_col10\" class=\"data row4 col10\" >0.000000</td>\n",
       "      <td id=\"T_a55dd_row4_col11\" class=\"data row4 col11\" >0.293778</td>\n",
       "      <td id=\"T_a55dd_row4_col12\" class=\"data row4 col12\" >0.116790</td>\n",
       "      <td id=\"T_a55dd_row4_col13\" class=\"data row4 col13\" >0.000138</td>\n",
       "      <td id=\"T_a55dd_row4_col14\" class=\"data row4 col14\" >0.000079</td>\n",
       "      <td id=\"T_a55dd_row4_col15\" class=\"data row4 col15\" >0.110918</td>\n",
       "    </tr>\n",
       "    <tr>\n",
       "      <th id=\"T_a55dd_level0_row5\" class=\"row_heading level0 row5\" >5</th>\n",
       "      <td id=\"T_a55dd_row5_col0\" class=\"data row5 col0\" >32_sigmoid</td>\n",
       "      <td id=\"T_a55dd_row5_col1\" class=\"data row5 col1\" >10.000000</td>\n",
       "      <td id=\"T_a55dd_row5_col2\" class=\"data row5 col2\" >100.000000</td>\n",
       "      <td id=\"T_a55dd_row5_col3\" class=\"data row5 col3\" >400.000000</td>\n",
       "      <td id=\"T_a55dd_row5_col4\" class=\"data row5 col4\" >5.000000</td>\n",
       "      <td id=\"T_a55dd_row5_col5\" class=\"data row5 col5\" >0.000010</td>\n",
       "      <td id=\"T_a55dd_row5_col6\" class=\"data row5 col6\" >0.000001</td>\n",
       "      <td id=\"T_a55dd_row5_col7\" class=\"data row5 col7\" >0.001000</td>\n",
       "      <td id=\"T_a55dd_row5_col8\" class=\"data row5 col8\" >0.750000</td>\n",
       "      <td id=\"T_a55dd_row5_col9\" class=\"data row5 col9\" >250.000000</td>\n",
       "      <td id=\"T_a55dd_row5_col10\" class=\"data row5 col10\" >0.000000</td>\n",
       "      <td id=\"T_a55dd_row5_col11\" class=\"data row5 col11\" >0.297037</td>\n",
       "      <td id=\"T_a55dd_row5_col12\" class=\"data row5 col12\" >0.118063</td>\n",
       "      <td id=\"T_a55dd_row5_col13\" class=\"data row5 col13\" >0.000083</td>\n",
       "      <td id=\"T_a55dd_row5_col14\" class=\"data row5 col14\" >0.000043</td>\n",
       "      <td id=\"T_a55dd_row5_col15\" class=\"data row5 col15\" >0.113909</td>\n",
       "    </tr>\n",
       "    <tr>\n",
       "      <th id=\"T_a55dd_level0_row6\" class=\"row_heading level0 row6\" >6</th>\n",
       "      <td id=\"T_a55dd_row6_col0\" class=\"data row6 col0\" >32_sigmoid</td>\n",
       "      <td id=\"T_a55dd_row6_col1\" class=\"data row6 col1\" >10.000000</td>\n",
       "      <td id=\"T_a55dd_row6_col2\" class=\"data row6 col2\" >100.000000</td>\n",
       "      <td id=\"T_a55dd_row6_col3\" class=\"data row6 col3\" >400.000000</td>\n",
       "      <td id=\"T_a55dd_row6_col4\" class=\"data row6 col4\" >5.000000</td>\n",
       "      <td id=\"T_a55dd_row6_col5\" class=\"data row6 col5\" >0.000010</td>\n",
       "      <td id=\"T_a55dd_row6_col6\" class=\"data row6 col6\" >0.000001</td>\n",
       "      <td id=\"T_a55dd_row6_col7\" class=\"data row6 col7\" >0.000500</td>\n",
       "      <td id=\"T_a55dd_row6_col8\" class=\"data row6 col8\" >0.750000</td>\n",
       "      <td id=\"T_a55dd_row6_col9\" class=\"data row6 col9\" >300.000000</td>\n",
       "      <td id=\"T_a55dd_row6_col10\" class=\"data row6 col10\" >0.000000</td>\n",
       "      <td id=\"T_a55dd_row6_col11\" class=\"data row6 col11\" >0.308185</td>\n",
       "      <td id=\"T_a55dd_row6_col12\" class=\"data row6 col12\" >0.126131</td>\n",
       "      <td id=\"T_a55dd_row6_col13\" class=\"data row6 col13\" >0.000009</td>\n",
       "      <td id=\"T_a55dd_row6_col14\" class=\"data row6 col14\" >0.000020</td>\n",
       "      <td id=\"T_a55dd_row6_col15\" class=\"data row6 col15\" >0.121316</td>\n",
       "    </tr>\n",
       "    <tr>\n",
       "      <th id=\"T_a55dd_level0_row7\" class=\"row_heading level0 row7\" >7</th>\n",
       "      <td id=\"T_a55dd_row7_col0\" class=\"data row7 col0\" >32_sigmoid</td>\n",
       "      <td id=\"T_a55dd_row7_col1\" class=\"data row7 col1\" >10.000000</td>\n",
       "      <td id=\"T_a55dd_row7_col2\" class=\"data row7 col2\" >100.000000</td>\n",
       "      <td id=\"T_a55dd_row7_col3\" class=\"data row7 col3\" >400.000000</td>\n",
       "      <td id=\"T_a55dd_row7_col4\" class=\"data row7 col4\" >5.000000</td>\n",
       "      <td id=\"T_a55dd_row7_col5\" class=\"data row7 col5\" >0.000010</td>\n",
       "      <td id=\"T_a55dd_row7_col6\" class=\"data row7 col6\" >0.000001</td>\n",
       "      <td id=\"T_a55dd_row7_col7\" class=\"data row7 col7\" >0.000500</td>\n",
       "      <td id=\"T_a55dd_row7_col8\" class=\"data row7 col8\" >0.750000</td>\n",
       "      <td id=\"T_a55dd_row7_col9\" class=\"data row7 col9\" >250.000000</td>\n",
       "      <td id=\"T_a55dd_row7_col10\" class=\"data row7 col10\" >0.000000</td>\n",
       "      <td id=\"T_a55dd_row7_col11\" class=\"data row7 col11\" >0.315675</td>\n",
       "      <td id=\"T_a55dd_row7_col12\" class=\"data row7 col12\" >0.131155</td>\n",
       "      <td id=\"T_a55dd_row7_col13\" class=\"data row7 col13\" >0.000033</td>\n",
       "      <td id=\"T_a55dd_row7_col14\" class=\"data row7 col14\" >0.000022</td>\n",
       "      <td id=\"T_a55dd_row7_col15\" class=\"data row7 col15\" >0.127067</td>\n",
       "    </tr>\n",
       "  </tbody>\n",
       "</table>\n"
      ],
      "text/plain": [
       "<pandas.io.formats.style.Styler at 0x7f53a13ea650>"
      ]
     },
     "execution_count": 11,
     "metadata": {},
     "output_type": "execute_result"
    }
   ],
   "source": [
    "error_treshold = 10\n",
    "gs_results_clean = gs_results.loc[(gs_results['mean_mean_euclidean_error'].notna()) & (gs_results['mean_mean_euclidean_error'] < error_treshold)].copy()\n",
    "\n",
    "\n",
    "gs_results_clean = gs_results_clean.reset_index(drop=True)\n",
    "gs_results_clean.style.background_gradient(cmap='Blues')"
   ]
  },
  {
   "cell_type": "code",
   "execution_count": 12,
   "metadata": {},
   "outputs": [],
   "source": [
    "minmaxsc = MinMaxScaler()\n",
    "std_gs_results_clean = pd.DataFrame(data=minmaxsc.fit_transform(gs_results_clean[numerical_col]), columns=numerical_col)"
   ]
  },
  {
   "cell_type": "code",
   "execution_count": 13,
   "metadata": {},
   "outputs": [],
   "source": [
    "def plot_gs(df, title):\n",
    "    \n",
    "    maps = {'adamax optimizer': adamax_opt_col,\n",
    "            'standard optimizer': st_opt_col,\n",
    "            'general': general_col,\n",
    "            'metrics': metrics_col,\n",
    "    }\n",
    "    # groups and trace visibilities\n",
    "    group = []\n",
    "    vis = []\n",
    "    visList = []\n",
    "    for m in maps.keys():\n",
    "        for col in numerical_col:\n",
    "            if col in maps[m]:\n",
    "                vis.append(True)\n",
    "            else:\n",
    "                vis.append(False)\n",
    "        group.append(m)\n",
    "        visList.append(vis)\n",
    "        vis = []\n",
    "\n",
    "    \n",
    "    fig = px.line(df, title=title)\n",
    "    #fig.update_layout(xaxis_range=[0, last_index])\n",
    "    fig.update_yaxes(showticklabels=False)\n",
    "    fig.update_traces(mode=\"markers+lines\", hovertemplate=None)\n",
    "    fig.update_layout(hovermode=\"x unified\")\n",
    "\n",
    "    # buttons for each group\n",
    "    buttons = []\n",
    "    for i, g in enumerate(group):\n",
    "        button =  dict(label=g,\n",
    "                    method = 'restyle',\n",
    "                        args = ['visible',visList[i]])\n",
    "        buttons.append(button)\n",
    "\n",
    "    buttons = [{'label': 'all',\n",
    "                    'method': 'restyle',\n",
    "                    'args': ['visible', [True, True, True, True, True, True]]}] + buttons\n",
    "    fig.update_layout(\n",
    "        updatemenus=[\n",
    "            dict(\n",
    "            type=\"dropdown\",\n",
    "            direction=\"down\",\n",
    "            buttons = buttons)\n",
    "        ],\n",
    "    )   \n",
    "\n",
    "    return fig"
   ]
  },
  {
   "cell_type": "code",
   "execution_count": 14,
   "metadata": {},
   "outputs": [
    {
     "data": {
      "application/vnd.plotly.v1+json": {
       "config": {
        "plotlyServerURL": "https://plot.ly"
       },
       "data": [
        {
         "legendgroup": "batch_size",
         "line": {
          "color": "#636efa",
          "dash": "solid"
         },
         "marker": {
          "symbol": "circle"
         },
         "mode": "markers+lines",
         "name": "batch_size",
         "orientation": "v",
         "showlegend": true,
         "type": "scatter",
         "x": [
          0,
          1,
          2,
          3,
          4,
          5,
          6,
          7
         ],
         "xaxis": "x",
         "y": [
          0,
          0,
          0,
          0,
          0,
          0,
          0,
          0
         ],
         "yaxis": "y"
        },
        {
         "legendgroup": "min_epochs",
         "line": {
          "color": "#EF553B",
          "dash": "solid"
         },
         "marker": {
          "symbol": "circle"
         },
         "mode": "markers+lines",
         "name": "min_epochs",
         "orientation": "v",
         "showlegend": true,
         "type": "scatter",
         "x": [
          0,
          1,
          2,
          3,
          4,
          5,
          6,
          7
         ],
         "xaxis": "x",
         "y": [
          0,
          0,
          0,
          0,
          0,
          0,
          0,
          0
         ],
         "yaxis": "y"
        },
        {
         "legendgroup": "max_epochs",
         "line": {
          "color": "#00cc96",
          "dash": "solid"
         },
         "marker": {
          "symbol": "circle"
         },
         "mode": "markers+lines",
         "name": "max_epochs",
         "orientation": "v",
         "showlegend": true,
         "type": "scatter",
         "x": [
          0,
          1,
          2,
          3,
          4,
          5,
          6,
          7
         ],
         "xaxis": "x",
         "y": [
          0,
          0,
          0,
          0,
          0,
          0,
          0,
          0
         ],
         "yaxis": "y"
        },
        {
         "legendgroup": "patience",
         "line": {
          "color": "#ab63fa",
          "dash": "solid"
         },
         "marker": {
          "symbol": "circle"
         },
         "mode": "markers+lines",
         "name": "patience",
         "orientation": "v",
         "showlegend": true,
         "type": "scatter",
         "x": [
          0,
          1,
          2,
          3,
          4,
          5,
          6,
          7
         ],
         "xaxis": "x",
         "y": [
          0,
          0,
          0,
          0,
          0,
          0,
          0,
          0
         ],
         "yaxis": "y"
        },
        {
         "legendgroup": "error_increase_tolerance",
         "line": {
          "color": "#FFA15A",
          "dash": "solid"
         },
         "marker": {
          "symbol": "circle"
         },
         "mode": "markers+lines",
         "name": "error_increase_tolerance",
         "orientation": "v",
         "showlegend": true,
         "type": "scatter",
         "x": [
          0,
          1,
          2,
          3,
          4,
          5,
          6,
          7
         ],
         "xaxis": "x",
         "y": [
          0,
          0,
          0,
          0,
          0,
          0,
          0,
          0
         ],
         "yaxis": "y"
        },
        {
         "legendgroup": "lambda_tikhonov",
         "line": {
          "color": "#19d3f3",
          "dash": "solid"
         },
         "marker": {
          "symbol": "circle"
         },
         "mode": "markers+lines",
         "name": "lambda_tikhonov",
         "orientation": "v",
         "showlegend": true,
         "type": "scatter",
         "x": [
          0,
          1,
          2,
          3,
          4,
          5,
          6,
          7
         ],
         "xaxis": "x",
         "y": [
          0,
          0,
          0,
          0,
          0,
          0,
          0,
          0
         ],
         "yaxis": "y"
        },
        {
         "legendgroup": "learning_rate",
         "line": {
          "color": "#FF6692",
          "dash": "solid"
         },
         "marker": {
          "symbol": "circle"
         },
         "mode": "markers+lines",
         "name": "learning_rate",
         "orientation": "v",
         "showlegend": true,
         "type": "scatter",
         "x": [
          0,
          1,
          2,
          3,
          4,
          5,
          6,
          7
         ],
         "xaxis": "x",
         "y": [
          0.9999999999999998,
          0.9999999999999998,
          0.3333333333333333,
          0.3333333333333333,
          0.1111111111111111,
          0.1111111111111111,
          0,
          0
         ],
         "yaxis": "y"
        },
        {
         "legendgroup": "alpha_momentum",
         "line": {
          "color": "#B6E880",
          "dash": "solid"
         },
         "marker": {
          "symbol": "circle"
         },
         "mode": "markers+lines",
         "name": "alpha_momentum",
         "orientation": "v",
         "showlegend": true,
         "type": "scatter",
         "x": [
          0,
          1,
          2,
          3,
          4,
          5,
          6,
          7
         ],
         "xaxis": "x",
         "y": [
          0,
          0,
          0,
          0,
          0,
          0,
          0,
          0
         ],
         "yaxis": "y"
        },
        {
         "legendgroup": "lr_decay_tau",
         "line": {
          "color": "#FF97FF",
          "dash": "solid"
         },
         "marker": {
          "symbol": "circle"
         },
         "mode": "markers+lines",
         "name": "lr_decay_tau",
         "orientation": "v",
         "showlegend": true,
         "type": "scatter",
         "x": [
          0,
          1,
          2,
          3,
          4,
          5,
          6,
          7
         ],
         "xaxis": "x",
         "y": [
          1,
          0,
          1,
          0,
          1,
          0,
          1,
          0
         ],
         "yaxis": "y"
        },
        {
         "legendgroup": "adamax",
         "line": {
          "color": "#FECB52",
          "dash": "solid"
         },
         "marker": {
          "symbol": "circle"
         },
         "mode": "markers+lines",
         "name": "adamax",
         "orientation": "v",
         "showlegend": true,
         "type": "scatter",
         "x": [
          0,
          1,
          2,
          3,
          4,
          5,
          6,
          7
         ],
         "xaxis": "x",
         "y": [
          0,
          0,
          0,
          0,
          0,
          0,
          0,
          0
         ],
         "yaxis": "y"
        },
        {
         "legendgroup": "mean_mean_euclidean_error",
         "line": {
          "color": "#636efa",
          "dash": "solid"
         },
         "marker": {
          "symbol": "circle"
         },
         "mode": "markers+lines",
         "name": "mean_mean_euclidean_error",
         "orientation": "v",
         "showlegend": true,
         "type": "scatter",
         "x": [
          0,
          1,
          2,
          3,
          4,
          5,
          6,
          7
         ],
         "xaxis": "x",
         "y": [
          0,
          0.3061197604043122,
          0.5703873781010622,
          0.6134375697558916,
          0.7073456768186088,
          0.7509009126866504,
          0.8998999407482309,
          1
         ],
         "yaxis": "y"
        },
        {
         "legendgroup": "mean_mean_squared_error",
         "line": {
          "color": "#EF553B",
          "dash": "solid"
         },
         "marker": {
          "symbol": "circle"
         },
         "mode": "markers+lines",
         "name": "mean_mean_squared_error",
         "orientation": "v",
         "showlegend": true,
         "type": "scatter",
         "x": [
          0,
          1,
          2,
          3,
          4,
          5,
          6,
          7
         ],
         "xaxis": "x",
         "y": [
          0,
          0.2792839109580467,
          0.5786930546454103,
          0.6384364110281617,
          0.7371663078563344,
          0.7604608264491555,
          0.908076034721355,
          1
         ],
         "yaxis": "y"
        },
        {
         "legendgroup": "var_mean_euclidean_error",
         "line": {
          "color": "#00cc96",
          "dash": "solid"
         },
         "marker": {
          "symbol": "circle"
         },
         "mode": "markers+lines",
         "name": "var_mean_euclidean_error",
         "orientation": "v",
         "showlegend": true,
         "type": "scatter",
         "x": [
          0,
          1,
          2,
          3,
          4,
          5,
          6,
          7
         ],
         "xaxis": "x",
         "y": [
          0.2332516730522363,
          0.13818294080545632,
          0.20756630584481742,
          0.07432753649454885,
          1,
          0.5709441926290522,
          0,
          0.17995389925428476
         ],
         "yaxis": "y"
        },
        {
         "legendgroup": "var_mean_squared_error",
         "line": {
          "color": "#ab63fa",
          "dash": "solid"
         },
         "marker": {
          "symbol": "circle"
         },
         "mode": "markers+lines",
         "name": "var_mean_squared_error",
         "orientation": "v",
         "showlegend": true,
         "type": "scatter",
         "x": [
          0,
          1,
          2,
          3,
          4,
          5,
          6,
          7
         ],
         "xaxis": "x",
         "y": [
          0,
          0.04233663769057516,
          0.5248979750403727,
          0.2909774909803171,
          1,
          0.42530914329330927,
          0.06077219833615349,
          0.10387311533077248
         ],
         "yaxis": "y"
        },
        {
         "legendgroup": "mean_best_validation_training_error",
         "line": {
          "color": "#FFA15A",
          "dash": "solid"
         },
         "marker": {
          "symbol": "circle"
         },
         "mode": "markers+lines",
         "name": "mean_best_validation_training_error",
         "orientation": "v",
         "showlegend": true,
         "type": "scatter",
         "x": [
          0,
          1,
          2,
          3,
          4,
          5,
          6,
          7
         ],
         "xaxis": "x",
         "y": [
          0,
          0.27280103384957766,
          0.5859387021349924,
          0.643049353235589,
          0.7095317164412591,
          0.7633444073009554,
          0.8965739397071173,
          0.9999999999999998
         ],
         "yaxis": "y"
        }
       ],
       "layout": {
        "hovermode": "x unified",
        "legend": {
         "title": {
          "text": "variable"
         },
         "tracegroupgap": 0
        },
        "template": {
         "data": {
          "bar": [
           {
            "error_x": {
             "color": "#2a3f5f"
            },
            "error_y": {
             "color": "#2a3f5f"
            },
            "marker": {
             "line": {
              "color": "#E5ECF6",
              "width": 0.5
             },
             "pattern": {
              "fillmode": "overlay",
              "size": 10,
              "solidity": 0.2
             }
            },
            "type": "bar"
           }
          ],
          "barpolar": [
           {
            "marker": {
             "line": {
              "color": "#E5ECF6",
              "width": 0.5
             },
             "pattern": {
              "fillmode": "overlay",
              "size": 10,
              "solidity": 0.2
             }
            },
            "type": "barpolar"
           }
          ],
          "carpet": [
           {
            "aaxis": {
             "endlinecolor": "#2a3f5f",
             "gridcolor": "white",
             "linecolor": "white",
             "minorgridcolor": "white",
             "startlinecolor": "#2a3f5f"
            },
            "baxis": {
             "endlinecolor": "#2a3f5f",
             "gridcolor": "white",
             "linecolor": "white",
             "minorgridcolor": "white",
             "startlinecolor": "#2a3f5f"
            },
            "type": "carpet"
           }
          ],
          "choropleth": [
           {
            "colorbar": {
             "outlinewidth": 0,
             "ticks": ""
            },
            "type": "choropleth"
           }
          ],
          "contour": [
           {
            "colorbar": {
             "outlinewidth": 0,
             "ticks": ""
            },
            "colorscale": [
             [
              0,
              "#0d0887"
             ],
             [
              0.1111111111111111,
              "#46039f"
             ],
             [
              0.2222222222222222,
              "#7201a8"
             ],
             [
              0.3333333333333333,
              "#9c179e"
             ],
             [
              0.4444444444444444,
              "#bd3786"
             ],
             [
              0.5555555555555556,
              "#d8576b"
             ],
             [
              0.6666666666666666,
              "#ed7953"
             ],
             [
              0.7777777777777778,
              "#fb9f3a"
             ],
             [
              0.8888888888888888,
              "#fdca26"
             ],
             [
              1,
              "#f0f921"
             ]
            ],
            "type": "contour"
           }
          ],
          "contourcarpet": [
           {
            "colorbar": {
             "outlinewidth": 0,
             "ticks": ""
            },
            "type": "contourcarpet"
           }
          ],
          "heatmap": [
           {
            "colorbar": {
             "outlinewidth": 0,
             "ticks": ""
            },
            "colorscale": [
             [
              0,
              "#0d0887"
             ],
             [
              0.1111111111111111,
              "#46039f"
             ],
             [
              0.2222222222222222,
              "#7201a8"
             ],
             [
              0.3333333333333333,
              "#9c179e"
             ],
             [
              0.4444444444444444,
              "#bd3786"
             ],
             [
              0.5555555555555556,
              "#d8576b"
             ],
             [
              0.6666666666666666,
              "#ed7953"
             ],
             [
              0.7777777777777778,
              "#fb9f3a"
             ],
             [
              0.8888888888888888,
              "#fdca26"
             ],
             [
              1,
              "#f0f921"
             ]
            ],
            "type": "heatmap"
           }
          ],
          "heatmapgl": [
           {
            "colorbar": {
             "outlinewidth": 0,
             "ticks": ""
            },
            "colorscale": [
             [
              0,
              "#0d0887"
             ],
             [
              0.1111111111111111,
              "#46039f"
             ],
             [
              0.2222222222222222,
              "#7201a8"
             ],
             [
              0.3333333333333333,
              "#9c179e"
             ],
             [
              0.4444444444444444,
              "#bd3786"
             ],
             [
              0.5555555555555556,
              "#d8576b"
             ],
             [
              0.6666666666666666,
              "#ed7953"
             ],
             [
              0.7777777777777778,
              "#fb9f3a"
             ],
             [
              0.8888888888888888,
              "#fdca26"
             ],
             [
              1,
              "#f0f921"
             ]
            ],
            "type": "heatmapgl"
           }
          ],
          "histogram": [
           {
            "marker": {
             "pattern": {
              "fillmode": "overlay",
              "size": 10,
              "solidity": 0.2
             }
            },
            "type": "histogram"
           }
          ],
          "histogram2d": [
           {
            "colorbar": {
             "outlinewidth": 0,
             "ticks": ""
            },
            "colorscale": [
             [
              0,
              "#0d0887"
             ],
             [
              0.1111111111111111,
              "#46039f"
             ],
             [
              0.2222222222222222,
              "#7201a8"
             ],
             [
              0.3333333333333333,
              "#9c179e"
             ],
             [
              0.4444444444444444,
              "#bd3786"
             ],
             [
              0.5555555555555556,
              "#d8576b"
             ],
             [
              0.6666666666666666,
              "#ed7953"
             ],
             [
              0.7777777777777778,
              "#fb9f3a"
             ],
             [
              0.8888888888888888,
              "#fdca26"
             ],
             [
              1,
              "#f0f921"
             ]
            ],
            "type": "histogram2d"
           }
          ],
          "histogram2dcontour": [
           {
            "colorbar": {
             "outlinewidth": 0,
             "ticks": ""
            },
            "colorscale": [
             [
              0,
              "#0d0887"
             ],
             [
              0.1111111111111111,
              "#46039f"
             ],
             [
              0.2222222222222222,
              "#7201a8"
             ],
             [
              0.3333333333333333,
              "#9c179e"
             ],
             [
              0.4444444444444444,
              "#bd3786"
             ],
             [
              0.5555555555555556,
              "#d8576b"
             ],
             [
              0.6666666666666666,
              "#ed7953"
             ],
             [
              0.7777777777777778,
              "#fb9f3a"
             ],
             [
              0.8888888888888888,
              "#fdca26"
             ],
             [
              1,
              "#f0f921"
             ]
            ],
            "type": "histogram2dcontour"
           }
          ],
          "mesh3d": [
           {
            "colorbar": {
             "outlinewidth": 0,
             "ticks": ""
            },
            "type": "mesh3d"
           }
          ],
          "parcoords": [
           {
            "line": {
             "colorbar": {
              "outlinewidth": 0,
              "ticks": ""
             }
            },
            "type": "parcoords"
           }
          ],
          "pie": [
           {
            "automargin": true,
            "type": "pie"
           }
          ],
          "scatter": [
           {
            "fillpattern": {
             "fillmode": "overlay",
             "size": 10,
             "solidity": 0.2
            },
            "type": "scatter"
           }
          ],
          "scatter3d": [
           {
            "line": {
             "colorbar": {
              "outlinewidth": 0,
              "ticks": ""
             }
            },
            "marker": {
             "colorbar": {
              "outlinewidth": 0,
              "ticks": ""
             }
            },
            "type": "scatter3d"
           }
          ],
          "scattercarpet": [
           {
            "marker": {
             "colorbar": {
              "outlinewidth": 0,
              "ticks": ""
             }
            },
            "type": "scattercarpet"
           }
          ],
          "scattergeo": [
           {
            "marker": {
             "colorbar": {
              "outlinewidth": 0,
              "ticks": ""
             }
            },
            "type": "scattergeo"
           }
          ],
          "scattergl": [
           {
            "marker": {
             "colorbar": {
              "outlinewidth": 0,
              "ticks": ""
             }
            },
            "type": "scattergl"
           }
          ],
          "scattermapbox": [
           {
            "marker": {
             "colorbar": {
              "outlinewidth": 0,
              "ticks": ""
             }
            },
            "type": "scattermapbox"
           }
          ],
          "scatterpolar": [
           {
            "marker": {
             "colorbar": {
              "outlinewidth": 0,
              "ticks": ""
             }
            },
            "type": "scatterpolar"
           }
          ],
          "scatterpolargl": [
           {
            "marker": {
             "colorbar": {
              "outlinewidth": 0,
              "ticks": ""
             }
            },
            "type": "scatterpolargl"
           }
          ],
          "scatterternary": [
           {
            "marker": {
             "colorbar": {
              "outlinewidth": 0,
              "ticks": ""
             }
            },
            "type": "scatterternary"
           }
          ],
          "surface": [
           {
            "colorbar": {
             "outlinewidth": 0,
             "ticks": ""
            },
            "colorscale": [
             [
              0,
              "#0d0887"
             ],
             [
              0.1111111111111111,
              "#46039f"
             ],
             [
              0.2222222222222222,
              "#7201a8"
             ],
             [
              0.3333333333333333,
              "#9c179e"
             ],
             [
              0.4444444444444444,
              "#bd3786"
             ],
             [
              0.5555555555555556,
              "#d8576b"
             ],
             [
              0.6666666666666666,
              "#ed7953"
             ],
             [
              0.7777777777777778,
              "#fb9f3a"
             ],
             [
              0.8888888888888888,
              "#fdca26"
             ],
             [
              1,
              "#f0f921"
             ]
            ],
            "type": "surface"
           }
          ],
          "table": [
           {
            "cells": {
             "fill": {
              "color": "#EBF0F8"
             },
             "line": {
              "color": "white"
             }
            },
            "header": {
             "fill": {
              "color": "#C8D4E3"
             },
             "line": {
              "color": "white"
             }
            },
            "type": "table"
           }
          ]
         },
         "layout": {
          "annotationdefaults": {
           "arrowcolor": "#2a3f5f",
           "arrowhead": 0,
           "arrowwidth": 1
          },
          "autotypenumbers": "strict",
          "coloraxis": {
           "colorbar": {
            "outlinewidth": 0,
            "ticks": ""
           }
          },
          "colorscale": {
           "diverging": [
            [
             0,
             "#8e0152"
            ],
            [
             0.1,
             "#c51b7d"
            ],
            [
             0.2,
             "#de77ae"
            ],
            [
             0.3,
             "#f1b6da"
            ],
            [
             0.4,
             "#fde0ef"
            ],
            [
             0.5,
             "#f7f7f7"
            ],
            [
             0.6,
             "#e6f5d0"
            ],
            [
             0.7,
             "#b8e186"
            ],
            [
             0.8,
             "#7fbc41"
            ],
            [
             0.9,
             "#4d9221"
            ],
            [
             1,
             "#276419"
            ]
           ],
           "sequential": [
            [
             0,
             "#0d0887"
            ],
            [
             0.1111111111111111,
             "#46039f"
            ],
            [
             0.2222222222222222,
             "#7201a8"
            ],
            [
             0.3333333333333333,
             "#9c179e"
            ],
            [
             0.4444444444444444,
             "#bd3786"
            ],
            [
             0.5555555555555556,
             "#d8576b"
            ],
            [
             0.6666666666666666,
             "#ed7953"
            ],
            [
             0.7777777777777778,
             "#fb9f3a"
            ],
            [
             0.8888888888888888,
             "#fdca26"
            ],
            [
             1,
             "#f0f921"
            ]
           ],
           "sequentialminus": [
            [
             0,
             "#0d0887"
            ],
            [
             0.1111111111111111,
             "#46039f"
            ],
            [
             0.2222222222222222,
             "#7201a8"
            ],
            [
             0.3333333333333333,
             "#9c179e"
            ],
            [
             0.4444444444444444,
             "#bd3786"
            ],
            [
             0.5555555555555556,
             "#d8576b"
            ],
            [
             0.6666666666666666,
             "#ed7953"
            ],
            [
             0.7777777777777778,
             "#fb9f3a"
            ],
            [
             0.8888888888888888,
             "#fdca26"
            ],
            [
             1,
             "#f0f921"
            ]
           ]
          },
          "colorway": [
           "#636efa",
           "#EF553B",
           "#00cc96",
           "#ab63fa",
           "#FFA15A",
           "#19d3f3",
           "#FF6692",
           "#B6E880",
           "#FF97FF",
           "#FECB52"
          ],
          "font": {
           "color": "#2a3f5f"
          },
          "geo": {
           "bgcolor": "white",
           "lakecolor": "white",
           "landcolor": "#E5ECF6",
           "showlakes": true,
           "showland": true,
           "subunitcolor": "white"
          },
          "hoverlabel": {
           "align": "left"
          },
          "hovermode": "closest",
          "mapbox": {
           "style": "light"
          },
          "paper_bgcolor": "white",
          "plot_bgcolor": "#E5ECF6",
          "polar": {
           "angularaxis": {
            "gridcolor": "white",
            "linecolor": "white",
            "ticks": ""
           },
           "bgcolor": "#E5ECF6",
           "radialaxis": {
            "gridcolor": "white",
            "linecolor": "white",
            "ticks": ""
           }
          },
          "scene": {
           "xaxis": {
            "backgroundcolor": "#E5ECF6",
            "gridcolor": "white",
            "gridwidth": 2,
            "linecolor": "white",
            "showbackground": true,
            "ticks": "",
            "zerolinecolor": "white"
           },
           "yaxis": {
            "backgroundcolor": "#E5ECF6",
            "gridcolor": "white",
            "gridwidth": 2,
            "linecolor": "white",
            "showbackground": true,
            "ticks": "",
            "zerolinecolor": "white"
           },
           "zaxis": {
            "backgroundcolor": "#E5ECF6",
            "gridcolor": "white",
            "gridwidth": 2,
            "linecolor": "white",
            "showbackground": true,
            "ticks": "",
            "zerolinecolor": "white"
           }
          },
          "shapedefaults": {
           "line": {
            "color": "#2a3f5f"
           }
          },
          "ternary": {
           "aaxis": {
            "gridcolor": "white",
            "linecolor": "white",
            "ticks": ""
           },
           "baxis": {
            "gridcolor": "white",
            "linecolor": "white",
            "ticks": ""
           },
           "bgcolor": "#E5ECF6",
           "caxis": {
            "gridcolor": "white",
            "linecolor": "white",
            "ticks": ""
           }
          },
          "title": {
           "x": 0.05
          },
          "xaxis": {
           "automargin": true,
           "gridcolor": "white",
           "linecolor": "white",
           "ticks": "",
           "title": {
            "standoff": 15
           },
           "zerolinecolor": "white",
           "zerolinewidth": 2
          },
          "yaxis": {
           "automargin": true,
           "gridcolor": "white",
           "linecolor": "white",
           "ticks": "",
           "title": {
            "standoff": 15
           },
           "zerolinecolor": "white",
           "zerolinewidth": 2
          }
         }
        },
        "title": {
         "text": "GridSearch normalized values"
        },
        "updatemenus": [
         {
          "buttons": [
           {
            "args": [
             "visible",
             [
              true,
              true,
              true,
              true,
              true,
              true
             ]
            ],
            "label": "all",
            "method": "restyle"
           },
           {
            "args": [
             "visible",
             [
              false,
              false,
              false,
              false,
              false,
              false,
              false,
              false,
              false,
              true,
              false,
              false,
              false,
              false,
              false
             ]
            ],
            "label": "adamax optimizer",
            "method": "restyle"
           },
           {
            "args": [
             "visible",
             [
              false,
              false,
              false,
              false,
              false,
              false,
              true,
              true,
              true,
              false,
              false,
              false,
              false,
              false,
              false
             ]
            ],
            "label": "standard optimizer",
            "method": "restyle"
           },
           {
            "args": [
             "visible",
             [
              true,
              true,
              true,
              true,
              true,
              true,
              false,
              false,
              false,
              false,
              false,
              false,
              false,
              false,
              false
             ]
            ],
            "label": "general",
            "method": "restyle"
           },
           {
            "args": [
             "visible",
             [
              false,
              false,
              false,
              false,
              false,
              false,
              false,
              false,
              false,
              false,
              true,
              true,
              true,
              true,
              true
             ]
            ],
            "label": "metrics",
            "method": "restyle"
           }
          ],
          "direction": "down",
          "type": "dropdown"
         }
        ],
        "xaxis": {
         "anchor": "y",
         "domain": [
          0,
          1
         ],
         "title": {
          "text": "index"
         }
        },
        "yaxis": {
         "anchor": "x",
         "domain": [
          0,
          1
         ],
         "showticklabels": false,
         "title": {
          "text": "value"
         }
        }
       }
      }
     },
     "metadata": {},
     "output_type": "display_data"
    }
   ],
   "source": [
    "plot_gs(std_gs_results_clean.iloc[:25], 'GridSearch normalized values')"
   ]
  },
  {
   "cell_type": "code",
   "execution_count": 15,
   "metadata": {},
   "outputs": [
    {
     "data": {
      "application/vnd.plotly.v1+json": {
       "config": {
        "plotlyServerURL": "https://plot.ly"
       },
       "data": [
        {
         "legendgroup": "batch_size",
         "line": {
          "color": "#636efa",
          "dash": "solid"
         },
         "marker": {
          "symbol": "circle"
         },
         "mode": "markers+lines",
         "name": "batch_size",
         "orientation": "v",
         "showlegend": true,
         "type": "scatter",
         "x": [
          0,
          1,
          2,
          3,
          4,
          5,
          6,
          7
         ],
         "xaxis": "x",
         "y": [
          10,
          10,
          10,
          10,
          10,
          10,
          10,
          10
         ],
         "yaxis": "y"
        },
        {
         "legendgroup": "min_epochs",
         "line": {
          "color": "#EF553B",
          "dash": "solid"
         },
         "marker": {
          "symbol": "circle"
         },
         "mode": "markers+lines",
         "name": "min_epochs",
         "orientation": "v",
         "showlegend": true,
         "type": "scatter",
         "x": [
          0,
          1,
          2,
          3,
          4,
          5,
          6,
          7
         ],
         "xaxis": "x",
         "y": [
          100,
          100,
          100,
          100,
          100,
          100,
          100,
          100
         ],
         "yaxis": "y"
        },
        {
         "legendgroup": "max_epochs",
         "line": {
          "color": "#00cc96",
          "dash": "solid"
         },
         "marker": {
          "symbol": "circle"
         },
         "mode": "markers+lines",
         "name": "max_epochs",
         "orientation": "v",
         "showlegend": true,
         "type": "scatter",
         "x": [
          0,
          1,
          2,
          3,
          4,
          5,
          6,
          7
         ],
         "xaxis": "x",
         "y": [
          400,
          400,
          400,
          400,
          400,
          400,
          400,
          400
         ],
         "yaxis": "y"
        },
        {
         "legendgroup": "patience",
         "line": {
          "color": "#ab63fa",
          "dash": "solid"
         },
         "marker": {
          "symbol": "circle"
         },
         "mode": "markers+lines",
         "name": "patience",
         "orientation": "v",
         "showlegend": true,
         "type": "scatter",
         "x": [
          0,
          1,
          2,
          3,
          4,
          5,
          6,
          7
         ],
         "xaxis": "x",
         "y": [
          5,
          5,
          5,
          5,
          5,
          5,
          5,
          5
         ],
         "yaxis": "y"
        },
        {
         "legendgroup": "error_increase_tolerance",
         "line": {
          "color": "#FFA15A",
          "dash": "solid"
         },
         "marker": {
          "symbol": "circle"
         },
         "mode": "markers+lines",
         "name": "error_increase_tolerance",
         "orientation": "v",
         "showlegend": true,
         "type": "scatter",
         "x": [
          0,
          1,
          2,
          3,
          4,
          5,
          6,
          7
         ],
         "xaxis": "x",
         "y": [
          0.00001,
          0.00001,
          0.00001,
          0.00001,
          0.00001,
          0.00001,
          0.00001,
          0.00001
         ],
         "yaxis": "y"
        },
        {
         "legendgroup": "lambda_tikhonov",
         "line": {
          "color": "#19d3f3",
          "dash": "solid"
         },
         "marker": {
          "symbol": "circle"
         },
         "mode": "markers+lines",
         "name": "lambda_tikhonov",
         "orientation": "v",
         "showlegend": true,
         "type": "scatter",
         "x": [
          0,
          1,
          2,
          3,
          4,
          5,
          6,
          7
         ],
         "xaxis": "x",
         "y": [
          0.000001,
          0.000001,
          0.000001,
          0.000001,
          0.000001,
          0.000001,
          0.000001,
          0.000001
         ],
         "yaxis": "y"
        },
        {
         "legendgroup": "learning_rate",
         "line": {
          "color": "#FF6692",
          "dash": "solid"
         },
         "marker": {
          "symbol": "circle"
         },
         "mode": "markers+lines",
         "name": "learning_rate",
         "orientation": "v",
         "showlegend": true,
         "type": "scatter",
         "x": [
          0,
          1,
          2,
          3,
          4,
          5,
          6,
          7
         ],
         "xaxis": "x",
         "y": [
          0.005,
          0.005,
          0.002,
          0.002,
          0.001,
          0.001,
          0.0005,
          0.0005
         ],
         "yaxis": "y"
        },
        {
         "legendgroup": "alpha_momentum",
         "line": {
          "color": "#B6E880",
          "dash": "solid"
         },
         "marker": {
          "symbol": "circle"
         },
         "mode": "markers+lines",
         "name": "alpha_momentum",
         "orientation": "v",
         "showlegend": true,
         "type": "scatter",
         "x": [
          0,
          1,
          2,
          3,
          4,
          5,
          6,
          7
         ],
         "xaxis": "x",
         "y": [
          0.75,
          0.75,
          0.75,
          0.75,
          0.75,
          0.75,
          0.75,
          0.75
         ],
         "yaxis": "y"
        },
        {
         "legendgroup": "lr_decay_tau",
         "line": {
          "color": "#FF97FF",
          "dash": "solid"
         },
         "marker": {
          "symbol": "circle"
         },
         "mode": "markers+lines",
         "name": "lr_decay_tau",
         "orientation": "v",
         "showlegend": true,
         "type": "scatter",
         "x": [
          0,
          1,
          2,
          3,
          4,
          5,
          6,
          7
         ],
         "xaxis": "x",
         "y": [
          300,
          250,
          300,
          250,
          300,
          250,
          300,
          250
         ],
         "yaxis": "y"
        },
        {
         "legendgroup": "adamax",
         "line": {
          "color": "#FECB52",
          "dash": "solid"
         },
         "marker": {
          "symbol": "circle"
         },
         "mode": "markers+lines",
         "name": "adamax",
         "orientation": "v",
         "showlegend": true,
         "type": "scatter",
         "x": [
          0,
          1,
          2,
          3,
          4,
          5,
          6,
          7
         ],
         "xaxis": "x",
         "y": [
          0,
          0,
          0,
          0,
          0,
          0,
          0,
          0
         ],
         "yaxis": "y"
        },
        {
         "legendgroup": "mean_mean_euclidean_error",
         "line": {
          "color": "#636efa",
          "dash": "solid"
         },
         "marker": {
          "symbol": "circle"
         },
         "mode": "markers+lines",
         "name": "mean_mean_euclidean_error",
         "orientation": "v",
         "showlegend": true,
         "type": "scatter",
         "x": [
          0,
          1,
          2,
          3,
          4,
          5,
          6,
          7
         ],
         "xaxis": "x",
         "y": [
          0.2408532050571899,
          0.2637576613505599,
          0.283530661601487,
          0.2867517579197283,
          0.2937781391339637,
          0.29703702381024,
          0.3081854113611895,
          0.3156750860854468
         ],
         "yaxis": "y"
        },
        {
         "legendgroup": "mean_mean_squared_error",
         "line": {
          "color": "#EF553B",
          "dash": "solid"
         },
         "marker": {
          "symbol": "circle"
         },
         "mode": "markers+lines",
         "name": "mean_mean_squared_error",
         "orientation": "v",
         "showlegend": true,
         "type": "scatter",
         "x": [
          0,
          1,
          2,
          3,
          4,
          5,
          6,
          7
         ],
         "xaxis": "x",
         "y": [
          0.0765031570517573,
          0.0917664047998998,
          0.1081295240446955,
          0.1113945801900618,
          0.1167903040979217,
          0.1180633814020753,
          0.1261307544473872,
          0.1311545248866746
         ],
         "yaxis": "y"
        },
        {
         "legendgroup": "var_mean_euclidean_error",
         "line": {
          "color": "#00cc96",
          "dash": "solid"
         },
         "marker": {
          "symbol": "circle"
         },
         "mode": "markers+lines",
         "name": "var_mean_euclidean_error",
         "orientation": "v",
         "showlegend": true,
         "type": "scatter",
         "x": [
          0,
          1,
          2,
          3,
          4,
          5,
          6,
          7
         ],
         "xaxis": "x",
         "y": [
          0.00003944796116001055,
          0.00002722333905579984,
          0.00003614515170523088,
          0.00001901235139914188,
          0.0001380419817644,
          0.00008287089677389291,
          0.000009454781585081746,
          0.00003259454965154133
         ],
         "yaxis": "y"
        },
        {
         "legendgroup": "var_mean_squared_error",
         "line": {
          "color": "#ab63fa",
          "dash": "solid"
         },
         "marker": {
          "symbol": "circle"
         },
         "mode": "markers+lines",
         "name": "var_mean_squared_error",
         "orientation": "v",
         "showlegend": true,
         "type": "scatter",
         "x": [
          0,
          1,
          2,
          3,
          4,
          5,
          6,
          7
         ],
         "xaxis": "x",
         "y": [
          0.0000158023191024772,
          0.00001847367330998289,
          0.00004892229486397863,
          0.000034162396501650546,
          0.00007890024924586172,
          0.00004263844571534114,
          0.00001963691902775172,
          0.000022356497677394003
         ],
         "yaxis": "y"
        },
        {
         "legendgroup": "mean_best_validation_training_error",
         "line": {
          "color": "#FFA15A",
          "dash": "solid"
         },
         "marker": {
          "symbol": "circle"
         },
         "mode": "markers+lines",
         "name": "mean_best_validation_training_error",
         "orientation": "v",
         "showlegend": true,
         "type": "scatter",
         "x": [
          0,
          1,
          2,
          3,
          4,
          5,
          6,
          7
         ],
         "xaxis": "x",
         "y": [
          0.0714702605253902,
          0.0866369845822518,
          0.1040462756676833,
          0.1072214157092275,
          0.1109175881289568,
          0.1139093738326585,
          0.1213164409017047,
          0.1270665456378012
         ],
         "yaxis": "y"
        }
       ],
       "layout": {
        "hovermode": "x unified",
        "legend": {
         "title": {
          "text": "variable"
         },
         "tracegroupgap": 0
        },
        "template": {
         "data": {
          "bar": [
           {
            "error_x": {
             "color": "#2a3f5f"
            },
            "error_y": {
             "color": "#2a3f5f"
            },
            "marker": {
             "line": {
              "color": "#E5ECF6",
              "width": 0.5
             },
             "pattern": {
              "fillmode": "overlay",
              "size": 10,
              "solidity": 0.2
             }
            },
            "type": "bar"
           }
          ],
          "barpolar": [
           {
            "marker": {
             "line": {
              "color": "#E5ECF6",
              "width": 0.5
             },
             "pattern": {
              "fillmode": "overlay",
              "size": 10,
              "solidity": 0.2
             }
            },
            "type": "barpolar"
           }
          ],
          "carpet": [
           {
            "aaxis": {
             "endlinecolor": "#2a3f5f",
             "gridcolor": "white",
             "linecolor": "white",
             "minorgridcolor": "white",
             "startlinecolor": "#2a3f5f"
            },
            "baxis": {
             "endlinecolor": "#2a3f5f",
             "gridcolor": "white",
             "linecolor": "white",
             "minorgridcolor": "white",
             "startlinecolor": "#2a3f5f"
            },
            "type": "carpet"
           }
          ],
          "choropleth": [
           {
            "colorbar": {
             "outlinewidth": 0,
             "ticks": ""
            },
            "type": "choropleth"
           }
          ],
          "contour": [
           {
            "colorbar": {
             "outlinewidth": 0,
             "ticks": ""
            },
            "colorscale": [
             [
              0,
              "#0d0887"
             ],
             [
              0.1111111111111111,
              "#46039f"
             ],
             [
              0.2222222222222222,
              "#7201a8"
             ],
             [
              0.3333333333333333,
              "#9c179e"
             ],
             [
              0.4444444444444444,
              "#bd3786"
             ],
             [
              0.5555555555555556,
              "#d8576b"
             ],
             [
              0.6666666666666666,
              "#ed7953"
             ],
             [
              0.7777777777777778,
              "#fb9f3a"
             ],
             [
              0.8888888888888888,
              "#fdca26"
             ],
             [
              1,
              "#f0f921"
             ]
            ],
            "type": "contour"
           }
          ],
          "contourcarpet": [
           {
            "colorbar": {
             "outlinewidth": 0,
             "ticks": ""
            },
            "type": "contourcarpet"
           }
          ],
          "heatmap": [
           {
            "colorbar": {
             "outlinewidth": 0,
             "ticks": ""
            },
            "colorscale": [
             [
              0,
              "#0d0887"
             ],
             [
              0.1111111111111111,
              "#46039f"
             ],
             [
              0.2222222222222222,
              "#7201a8"
             ],
             [
              0.3333333333333333,
              "#9c179e"
             ],
             [
              0.4444444444444444,
              "#bd3786"
             ],
             [
              0.5555555555555556,
              "#d8576b"
             ],
             [
              0.6666666666666666,
              "#ed7953"
             ],
             [
              0.7777777777777778,
              "#fb9f3a"
             ],
             [
              0.8888888888888888,
              "#fdca26"
             ],
             [
              1,
              "#f0f921"
             ]
            ],
            "type": "heatmap"
           }
          ],
          "heatmapgl": [
           {
            "colorbar": {
             "outlinewidth": 0,
             "ticks": ""
            },
            "colorscale": [
             [
              0,
              "#0d0887"
             ],
             [
              0.1111111111111111,
              "#46039f"
             ],
             [
              0.2222222222222222,
              "#7201a8"
             ],
             [
              0.3333333333333333,
              "#9c179e"
             ],
             [
              0.4444444444444444,
              "#bd3786"
             ],
             [
              0.5555555555555556,
              "#d8576b"
             ],
             [
              0.6666666666666666,
              "#ed7953"
             ],
             [
              0.7777777777777778,
              "#fb9f3a"
             ],
             [
              0.8888888888888888,
              "#fdca26"
             ],
             [
              1,
              "#f0f921"
             ]
            ],
            "type": "heatmapgl"
           }
          ],
          "histogram": [
           {
            "marker": {
             "pattern": {
              "fillmode": "overlay",
              "size": 10,
              "solidity": 0.2
             }
            },
            "type": "histogram"
           }
          ],
          "histogram2d": [
           {
            "colorbar": {
             "outlinewidth": 0,
             "ticks": ""
            },
            "colorscale": [
             [
              0,
              "#0d0887"
             ],
             [
              0.1111111111111111,
              "#46039f"
             ],
             [
              0.2222222222222222,
              "#7201a8"
             ],
             [
              0.3333333333333333,
              "#9c179e"
             ],
             [
              0.4444444444444444,
              "#bd3786"
             ],
             [
              0.5555555555555556,
              "#d8576b"
             ],
             [
              0.6666666666666666,
              "#ed7953"
             ],
             [
              0.7777777777777778,
              "#fb9f3a"
             ],
             [
              0.8888888888888888,
              "#fdca26"
             ],
             [
              1,
              "#f0f921"
             ]
            ],
            "type": "histogram2d"
           }
          ],
          "histogram2dcontour": [
           {
            "colorbar": {
             "outlinewidth": 0,
             "ticks": ""
            },
            "colorscale": [
             [
              0,
              "#0d0887"
             ],
             [
              0.1111111111111111,
              "#46039f"
             ],
             [
              0.2222222222222222,
              "#7201a8"
             ],
             [
              0.3333333333333333,
              "#9c179e"
             ],
             [
              0.4444444444444444,
              "#bd3786"
             ],
             [
              0.5555555555555556,
              "#d8576b"
             ],
             [
              0.6666666666666666,
              "#ed7953"
             ],
             [
              0.7777777777777778,
              "#fb9f3a"
             ],
             [
              0.8888888888888888,
              "#fdca26"
             ],
             [
              1,
              "#f0f921"
             ]
            ],
            "type": "histogram2dcontour"
           }
          ],
          "mesh3d": [
           {
            "colorbar": {
             "outlinewidth": 0,
             "ticks": ""
            },
            "type": "mesh3d"
           }
          ],
          "parcoords": [
           {
            "line": {
             "colorbar": {
              "outlinewidth": 0,
              "ticks": ""
             }
            },
            "type": "parcoords"
           }
          ],
          "pie": [
           {
            "automargin": true,
            "type": "pie"
           }
          ],
          "scatter": [
           {
            "fillpattern": {
             "fillmode": "overlay",
             "size": 10,
             "solidity": 0.2
            },
            "type": "scatter"
           }
          ],
          "scatter3d": [
           {
            "line": {
             "colorbar": {
              "outlinewidth": 0,
              "ticks": ""
             }
            },
            "marker": {
             "colorbar": {
              "outlinewidth": 0,
              "ticks": ""
             }
            },
            "type": "scatter3d"
           }
          ],
          "scattercarpet": [
           {
            "marker": {
             "colorbar": {
              "outlinewidth": 0,
              "ticks": ""
             }
            },
            "type": "scattercarpet"
           }
          ],
          "scattergeo": [
           {
            "marker": {
             "colorbar": {
              "outlinewidth": 0,
              "ticks": ""
             }
            },
            "type": "scattergeo"
           }
          ],
          "scattergl": [
           {
            "marker": {
             "colorbar": {
              "outlinewidth": 0,
              "ticks": ""
             }
            },
            "type": "scattergl"
           }
          ],
          "scattermapbox": [
           {
            "marker": {
             "colorbar": {
              "outlinewidth": 0,
              "ticks": ""
             }
            },
            "type": "scattermapbox"
           }
          ],
          "scatterpolar": [
           {
            "marker": {
             "colorbar": {
              "outlinewidth": 0,
              "ticks": ""
             }
            },
            "type": "scatterpolar"
           }
          ],
          "scatterpolargl": [
           {
            "marker": {
             "colorbar": {
              "outlinewidth": 0,
              "ticks": ""
             }
            },
            "type": "scatterpolargl"
           }
          ],
          "scatterternary": [
           {
            "marker": {
             "colorbar": {
              "outlinewidth": 0,
              "ticks": ""
             }
            },
            "type": "scatterternary"
           }
          ],
          "surface": [
           {
            "colorbar": {
             "outlinewidth": 0,
             "ticks": ""
            },
            "colorscale": [
             [
              0,
              "#0d0887"
             ],
             [
              0.1111111111111111,
              "#46039f"
             ],
             [
              0.2222222222222222,
              "#7201a8"
             ],
             [
              0.3333333333333333,
              "#9c179e"
             ],
             [
              0.4444444444444444,
              "#bd3786"
             ],
             [
              0.5555555555555556,
              "#d8576b"
             ],
             [
              0.6666666666666666,
              "#ed7953"
             ],
             [
              0.7777777777777778,
              "#fb9f3a"
             ],
             [
              0.8888888888888888,
              "#fdca26"
             ],
             [
              1,
              "#f0f921"
             ]
            ],
            "type": "surface"
           }
          ],
          "table": [
           {
            "cells": {
             "fill": {
              "color": "#EBF0F8"
             },
             "line": {
              "color": "white"
             }
            },
            "header": {
             "fill": {
              "color": "#C8D4E3"
             },
             "line": {
              "color": "white"
             }
            },
            "type": "table"
           }
          ]
         },
         "layout": {
          "annotationdefaults": {
           "arrowcolor": "#2a3f5f",
           "arrowhead": 0,
           "arrowwidth": 1
          },
          "autotypenumbers": "strict",
          "coloraxis": {
           "colorbar": {
            "outlinewidth": 0,
            "ticks": ""
           }
          },
          "colorscale": {
           "diverging": [
            [
             0,
             "#8e0152"
            ],
            [
             0.1,
             "#c51b7d"
            ],
            [
             0.2,
             "#de77ae"
            ],
            [
             0.3,
             "#f1b6da"
            ],
            [
             0.4,
             "#fde0ef"
            ],
            [
             0.5,
             "#f7f7f7"
            ],
            [
             0.6,
             "#e6f5d0"
            ],
            [
             0.7,
             "#b8e186"
            ],
            [
             0.8,
             "#7fbc41"
            ],
            [
             0.9,
             "#4d9221"
            ],
            [
             1,
             "#276419"
            ]
           ],
           "sequential": [
            [
             0,
             "#0d0887"
            ],
            [
             0.1111111111111111,
             "#46039f"
            ],
            [
             0.2222222222222222,
             "#7201a8"
            ],
            [
             0.3333333333333333,
             "#9c179e"
            ],
            [
             0.4444444444444444,
             "#bd3786"
            ],
            [
             0.5555555555555556,
             "#d8576b"
            ],
            [
             0.6666666666666666,
             "#ed7953"
            ],
            [
             0.7777777777777778,
             "#fb9f3a"
            ],
            [
             0.8888888888888888,
             "#fdca26"
            ],
            [
             1,
             "#f0f921"
            ]
           ],
           "sequentialminus": [
            [
             0,
             "#0d0887"
            ],
            [
             0.1111111111111111,
             "#46039f"
            ],
            [
             0.2222222222222222,
             "#7201a8"
            ],
            [
             0.3333333333333333,
             "#9c179e"
            ],
            [
             0.4444444444444444,
             "#bd3786"
            ],
            [
             0.5555555555555556,
             "#d8576b"
            ],
            [
             0.6666666666666666,
             "#ed7953"
            ],
            [
             0.7777777777777778,
             "#fb9f3a"
            ],
            [
             0.8888888888888888,
             "#fdca26"
            ],
            [
             1,
             "#f0f921"
            ]
           ]
          },
          "colorway": [
           "#636efa",
           "#EF553B",
           "#00cc96",
           "#ab63fa",
           "#FFA15A",
           "#19d3f3",
           "#FF6692",
           "#B6E880",
           "#FF97FF",
           "#FECB52"
          ],
          "font": {
           "color": "#2a3f5f"
          },
          "geo": {
           "bgcolor": "white",
           "lakecolor": "white",
           "landcolor": "#E5ECF6",
           "showlakes": true,
           "showland": true,
           "subunitcolor": "white"
          },
          "hoverlabel": {
           "align": "left"
          },
          "hovermode": "closest",
          "mapbox": {
           "style": "light"
          },
          "paper_bgcolor": "white",
          "plot_bgcolor": "#E5ECF6",
          "polar": {
           "angularaxis": {
            "gridcolor": "white",
            "linecolor": "white",
            "ticks": ""
           },
           "bgcolor": "#E5ECF6",
           "radialaxis": {
            "gridcolor": "white",
            "linecolor": "white",
            "ticks": ""
           }
          },
          "scene": {
           "xaxis": {
            "backgroundcolor": "#E5ECF6",
            "gridcolor": "white",
            "gridwidth": 2,
            "linecolor": "white",
            "showbackground": true,
            "ticks": "",
            "zerolinecolor": "white"
           },
           "yaxis": {
            "backgroundcolor": "#E5ECF6",
            "gridcolor": "white",
            "gridwidth": 2,
            "linecolor": "white",
            "showbackground": true,
            "ticks": "",
            "zerolinecolor": "white"
           },
           "zaxis": {
            "backgroundcolor": "#E5ECF6",
            "gridcolor": "white",
            "gridwidth": 2,
            "linecolor": "white",
            "showbackground": true,
            "ticks": "",
            "zerolinecolor": "white"
           }
          },
          "shapedefaults": {
           "line": {
            "color": "#2a3f5f"
           }
          },
          "ternary": {
           "aaxis": {
            "gridcolor": "white",
            "linecolor": "white",
            "ticks": ""
           },
           "baxis": {
            "gridcolor": "white",
            "linecolor": "white",
            "ticks": ""
           },
           "bgcolor": "#E5ECF6",
           "caxis": {
            "gridcolor": "white",
            "linecolor": "white",
            "ticks": ""
           }
          },
          "title": {
           "x": 0.05
          },
          "xaxis": {
           "automargin": true,
           "gridcolor": "white",
           "linecolor": "white",
           "ticks": "",
           "title": {
            "standoff": 15
           },
           "zerolinecolor": "white",
           "zerolinewidth": 2
          },
          "yaxis": {
           "automargin": true,
           "gridcolor": "white",
           "linecolor": "white",
           "ticks": "",
           "title": {
            "standoff": 15
           },
           "zerolinecolor": "white",
           "zerolinewidth": 2
          }
         }
        },
        "title": {
         "text": "GridSearch values"
        },
        "updatemenus": [
         {
          "buttons": [
           {
            "args": [
             "visible",
             [
              true,
              true,
              true,
              true,
              true,
              true
             ]
            ],
            "label": "all",
            "method": "restyle"
           },
           {
            "args": [
             "visible",
             [
              false,
              false,
              false,
              false,
              false,
              false,
              false,
              false,
              false,
              true,
              false,
              false,
              false,
              false,
              false
             ]
            ],
            "label": "adamax optimizer",
            "method": "restyle"
           },
           {
            "args": [
             "visible",
             [
              false,
              false,
              false,
              false,
              false,
              false,
              true,
              true,
              true,
              false,
              false,
              false,
              false,
              false,
              false
             ]
            ],
            "label": "standard optimizer",
            "method": "restyle"
           },
           {
            "args": [
             "visible",
             [
              true,
              true,
              true,
              true,
              true,
              true,
              false,
              false,
              false,
              false,
              false,
              false,
              false,
              false,
              false
             ]
            ],
            "label": "general",
            "method": "restyle"
           },
           {
            "args": [
             "visible",
             [
              false,
              false,
              false,
              false,
              false,
              false,
              false,
              false,
              false,
              false,
              true,
              true,
              true,
              true,
              true
             ]
            ],
            "label": "metrics",
            "method": "restyle"
           }
          ],
          "direction": "down",
          "type": "dropdown"
         }
        ],
        "xaxis": {
         "anchor": "y",
         "domain": [
          0,
          1
         ],
         "title": {
          "text": "index"
         }
        },
        "yaxis": {
         "anchor": "x",
         "domain": [
          0,
          1
         ],
         "showticklabels": false,
         "title": {
          "text": "value"
         }
        }
       }
      }
     },
     "metadata": {},
     "output_type": "display_data"
    }
   ],
   "source": [
    "plot_gs(gs_results_clean[numerical_col].iloc[:25], 'GridSearch values')"
   ]
  },
  {
   "cell_type": "code",
   "execution_count": 16,
   "metadata": {},
   "outputs": [
    {
     "data": {
      "text/plain": [
       "[0]"
      ]
     },
     "execution_count": 16,
     "metadata": {},
     "output_type": "execute_result"
    }
   ],
   "source": [
    "#  best performance\n",
    "n_best_fem = 1\n",
    "sorting_values_col = ['mean_mean_euclidean_error']\n",
    "classes = ['adamax']\n",
    "interesting_index = []\n",
    "\n",
    "for top in topologies_dict.keys():\n",
    "    for val in list(orig_df['adamax'].value_counts().index):\n",
    "        interesting_index += list(orig_df.loc[(orig_df['topology'] == top)\n",
    "                                              & (orig_df['adamax'] == val)].sort_values(['mean_mean_euclidean_error']).head(n_best_fem).index)\n",
    "\n",
    "\n",
    "interesting_index = list(set(interesting_index))\n",
    "interesting_index"
   ]
  },
  {
   "cell_type": "code",
   "execution_count": 17,
   "metadata": {},
   "outputs": [
    {
     "data": {
      "text/html": [
       "<style type=\"text/css\">\n",
       "#T_e0486_row0_col1, #T_e0486_row0_col2, #T_e0486_row0_col3, #T_e0486_row0_col4, #T_e0486_row0_col5, #T_e0486_row0_col6, #T_e0486_row0_col7, #T_e0486_row0_col8, #T_e0486_row0_col9, #T_e0486_row0_col11, #T_e0486_row0_col12, #T_e0486_row0_col13, #T_e0486_row0_col14, #T_e0486_row0_col15 {\n",
       "  background-color: #f7fbff;\n",
       "  color: #000000;\n",
       "}\n",
       "</style>\n",
       "<table id=\"T_e0486\">\n",
       "  <thead>\n",
       "    <tr>\n",
       "      <th class=\"blank level0\" >&nbsp;</th>\n",
       "      <th id=\"T_e0486_level0_col0\" class=\"col_heading level0 col0\" >topology</th>\n",
       "      <th id=\"T_e0486_level0_col1\" class=\"col_heading level0 col1\" >batch_size</th>\n",
       "      <th id=\"T_e0486_level0_col2\" class=\"col_heading level0 col2\" >min_epochs</th>\n",
       "      <th id=\"T_e0486_level0_col3\" class=\"col_heading level0 col3\" >max_epochs</th>\n",
       "      <th id=\"T_e0486_level0_col4\" class=\"col_heading level0 col4\" >patience</th>\n",
       "      <th id=\"T_e0486_level0_col5\" class=\"col_heading level0 col5\" >error_increase_tolerance</th>\n",
       "      <th id=\"T_e0486_level0_col6\" class=\"col_heading level0 col6\" >lambda_tikhonov</th>\n",
       "      <th id=\"T_e0486_level0_col7\" class=\"col_heading level0 col7\" >learning_rate</th>\n",
       "      <th id=\"T_e0486_level0_col8\" class=\"col_heading level0 col8\" >alpha_momentum</th>\n",
       "      <th id=\"T_e0486_level0_col9\" class=\"col_heading level0 col9\" >lr_decay_tau</th>\n",
       "      <th id=\"T_e0486_level0_col10\" class=\"col_heading level0 col10\" >adamax</th>\n",
       "      <th id=\"T_e0486_level0_col11\" class=\"col_heading level0 col11\" >mean_mean_euclidean_error</th>\n",
       "      <th id=\"T_e0486_level0_col12\" class=\"col_heading level0 col12\" >mean_mean_squared_error</th>\n",
       "      <th id=\"T_e0486_level0_col13\" class=\"col_heading level0 col13\" >var_mean_euclidean_error</th>\n",
       "      <th id=\"T_e0486_level0_col14\" class=\"col_heading level0 col14\" >var_mean_squared_error</th>\n",
       "      <th id=\"T_e0486_level0_col15\" class=\"col_heading level0 col15\" >mean_best_validation_training_error</th>\n",
       "    </tr>\n",
       "  </thead>\n",
       "  <tbody>\n",
       "    <tr>\n",
       "      <th id=\"T_e0486_level0_row0\" class=\"row_heading level0 row0\" >0</th>\n",
       "      <td id=\"T_e0486_row0_col0\" class=\"data row0 col0\" >32_sigmoid</td>\n",
       "      <td id=\"T_e0486_row0_col1\" class=\"data row0 col1\" >10</td>\n",
       "      <td id=\"T_e0486_row0_col2\" class=\"data row0 col2\" >100</td>\n",
       "      <td id=\"T_e0486_row0_col3\" class=\"data row0 col3\" >400</td>\n",
       "      <td id=\"T_e0486_row0_col4\" class=\"data row0 col4\" >5</td>\n",
       "      <td id=\"T_e0486_row0_col5\" class=\"data row0 col5\" >0.000010</td>\n",
       "      <td id=\"T_e0486_row0_col6\" class=\"data row0 col6\" >0.000001</td>\n",
       "      <td id=\"T_e0486_row0_col7\" class=\"data row0 col7\" >0.005000</td>\n",
       "      <td id=\"T_e0486_row0_col8\" class=\"data row0 col8\" >0.750000</td>\n",
       "      <td id=\"T_e0486_row0_col9\" class=\"data row0 col9\" >300</td>\n",
       "      <td id=\"T_e0486_row0_col10\" class=\"data row0 col10\" >False</td>\n",
       "      <td id=\"T_e0486_row0_col11\" class=\"data row0 col11\" >0.240853</td>\n",
       "      <td id=\"T_e0486_row0_col12\" class=\"data row0 col12\" >0.076503</td>\n",
       "      <td id=\"T_e0486_row0_col13\" class=\"data row0 col13\" >0.000039</td>\n",
       "      <td id=\"T_e0486_row0_col14\" class=\"data row0 col14\" >0.000016</td>\n",
       "      <td id=\"T_e0486_row0_col15\" class=\"data row0 col15\" >0.071470</td>\n",
       "    </tr>\n",
       "  </tbody>\n",
       "</table>\n"
      ],
      "text/plain": [
       "<pandas.io.formats.style.Styler at 0x7f534bd2f0d0>"
      ]
     },
     "execution_count": 17,
     "metadata": {},
     "output_type": "execute_result"
    }
   ],
   "source": [
    "orig_df.iloc[interesting_index].drop(['stats'], axis=1).style.background_gradient(cmap='Blues')"
   ]
  },
  {
   "cell_type": "code",
   "execution_count": 18,
   "metadata": {},
   "outputs": [],
   "source": [
    "tr_prop = int((2/3) * training_len)\n",
    "\n",
    "def construct_obj(folder, index_list, df):\n",
    "    interesting_model = []\n",
    "    for i in index_list:\n",
    "        \n",
    "        dummy = {}\n",
    "        dummy['nn_file_name'] = folder + df.iloc[i]['topology'] + '_' + str(i) + '.json'\n",
    "        dummy['index'] = i\n",
    "        nn, stats = train_from_index(df, tr_normalized[:tr_prop], tr_normalized[tr_prop:], i, topologies_dict, True)\n",
    "        dummy['model'] = nn\n",
    "        dummy['stats'] = stats\n",
    "        dummy['top_name'] = df.iloc[i]['topology']\n",
    "        \n",
    "        dummy['std_prediction_tr'] = nn.predict_array(tr_normalized[:tr_prop,:TR_INPUT])\n",
    "        dummy['std_prediction_val'] = nn.predict_array(tr_normalized[tr_prop:,:TR_INPUT])\n",
    "        dummy['std_prediction_test'] = nn.predict_array(test_normalized[:,:TR_INPUT])\n",
    "        \n",
    "        dummy['prediction_tr'] = scaler_out.inverse_transform(dummy['std_prediction_tr'])\n",
    "        dummy['prediction_val'] = scaler_out.inverse_transform(dummy['std_prediction_val'])\n",
    "        dummy['prediction_test'] = scaler_out.inverse_transform(dummy['std_prediction_test'])\n",
    "            \n",
    "        dummy['std_tr_error'] = ErrorFunctions.mean_euclidean_error(dummy['std_prediction_tr'], tr_normalized[:tr_prop,TR_INPUT:])\n",
    "        dummy['std_val_error'] = ErrorFunctions.mean_euclidean_error(dummy['std_prediction_val'], tr_normalized[tr_prop:,TR_INPUT:])\n",
    "             \n",
    "        dummy['tr_error'] = ErrorFunctions.mean_euclidean_error(dummy['prediction_tr'], training_set[:tr_prop,TR_INPUT:])\n",
    "        dummy['val_error'] = ErrorFunctions.mean_euclidean_error(dummy['prediction_val'], training_set[tr_prop:,TR_INPUT:])\n",
    "        interesting_model.append(dummy)\n",
    "        \n",
    "    return interesting_model\n"
   ]
  },
  {
   "cell_type": "code",
   "execution_count": 19,
   "metadata": {},
   "outputs": [
    {
     "name": "stdout",
     "output_type": "stream",
     "text": [
      "starting values:  {'training_set_len': 533, 'minibatch_size': 10, 'max_epochs': 400, 'retrainig_es_error': -1.2, 'error_increase_tolerance': 1e-05, 'patience': 5, 'min_epochs': 100, 'learning_rate': 0.0005, 'lr_decay_tau': 300, 'eta_tau': 5e-06, 'lambda_tikhonov': 1e-06, 'alpha_momentum': 0.75, 'nesterov': False, 'adamax': False, 'adamax_learning_rate': 0.0002, 'exp_decay_rate_1': 0.9, 'exp_decay_rate_2': 0.999, 'best_validation_training_error': inf, 'epochs': 0, 'total_train_time': datetime.timedelta(days=-1, seconds=86399, microseconds=999987), 'mean_epoch_train_time': 0, 'units_weights': {41: [], 40: [], 39: [], 38: [], 37: [], 36: [], 35: [], 34: [], 33: [], 32: [], 31: [], 30: [], 29: [], 28: [], 27: [], 26: [], 25: [], 24: [], 23: [], 22: [], 21: [], 20: [], 19: [], 18: [], 17: [], 16: [], 15: [], 14: [], 13: [], 12: [], 11: [], 10: [], 44: [], 43: [], 42: []}, 'units_weights_batch': {}, 'training_mean_squared_error': [], 'validation_mean_squared_error': [], 'training_mean_euclidean_error': [], 'validation_mean_euclidean_error': []}\n"
     ]
    },
    {
     "name": "stdout",
     "output_type": "stream",
     "text": [
      "[1/400] tr time: 0:00:03.783578 | mean_squared_error: tr=0.8878390426369559 val=0.9754222513705557 | | mean_euclidean_error: tr=0.8739305164311919 val=0.9204128151387495 | \n",
      "[2/400] tr time: 0:00:02.019070 | mean_squared_error: tr=0.33179556961418255 val=0.38755618782421547 | | mean_euclidean_error: tr=0.5186404064028767 val=0.5641309554054975 | \n",
      "[3/400] tr time: 0:00:01.589375 | mean_squared_error: tr=0.21418208352738244 val=0.24672000604200373 | | mean_euclidean_error: tr=0.4174920079015187 val=0.446280823339252 | \n",
      "[4/400] tr time: 0:00:03.188842 | mean_squared_error: tr=0.17628531711216805 val=0.19320428805790346 | | mean_euclidean_error: tr=0.3800868951676615 val=0.3932209093299726 | \n",
      "[5/400] tr time: 0:00:05.248418 | mean_squared_error: tr=0.16047342671958206 val=0.17161900957895315 | | mean_euclidean_error: tr=0.3624333820093366 val=0.3699357413760324 | \n",
      "[6/400] tr time: 0:00:02.805083 | mean_squared_error: tr=0.15024047837005267 val=0.1580216365797198 | | mean_euclidean_error: tr=0.3491603373802522 val=0.35307786143432934 | \n",
      "[7/400] tr time: 0:00:01.653782 | mean_squared_error: tr=0.14447900392277313 val=0.1521951503816795 | | mean_euclidean_error: tr=0.3413408403504186 val=0.34485178780042786 | \n",
      "[8/400] tr time: 0:00:01.565644 | mean_squared_error: tr=0.1386370691816845 val=0.1441571958094252 | | mean_euclidean_error: tr=0.33360615919117986 val=0.335562675493929 | \n",
      "[9/400] tr time: 0:00:01.687309 | mean_squared_error: tr=0.13596842056869923 val=0.13955767187356233 | | mean_euclidean_error: tr=0.32833266932793603 val=0.3281621229228875 | \n",
      "[10/400] tr time: 0:00:03.284966 | mean_squared_error: tr=0.13269819333217395 val=0.139364791029165 | | mean_euclidean_error: tr=0.324685248378935 val=0.32801270054608495 | \n",
      "[11/400] tr time: 0:00:02.784746 | mean_squared_error: tr=0.13110270259022433 val=0.1349920392722176 | | mean_euclidean_error: tr=0.32338838139261555 val=0.32449401940049233 | \n",
      "[12/400] tr time: 0:00:02.261284 | mean_squared_error: tr=0.1290437561196404 val=0.13096110472673694 | | mean_euclidean_error: tr=0.3179302271271528 val=0.31690563582878967 | \n",
      "[13/400] tr time: 0:00:02.194285 | mean_squared_error: tr=0.1272295258999887 val=0.13088944308442724 | | mean_euclidean_error: tr=0.31557609318034435 val=0.3168223672047931 | \n",
      "[14/400] tr time: 0:00:03.298691 | mean_squared_error: tr=0.12656391665332237 val=0.12845474573936094 | | mean_euclidean_error: tr=0.315340760485511 val=0.3148429207787163 | \n",
      "[15/400] tr time: 0:00:02.482186 | mean_squared_error: tr=0.12441812213998442 val=0.12627386914128538 | | mean_euclidean_error: tr=0.31088223955223604 val=0.3109637379593314 | \n",
      "[16/400] tr time: 0:00:02.227294 | mean_squared_error: tr=0.12332037355162936 val=0.12513865622839565 | | mean_euclidean_error: tr=0.3089279784736365 val=0.30954276452733726 | \n",
      "[17/400] tr time: 0:00:03.073113 | mean_squared_error: tr=0.12370029968316945 val=0.12659424304638175 | | mean_euclidean_error: tr=0.31036408864145626 val=0.3114229497028889 | \n",
      "[18/400] tr time: 0:00:03.086481 | mean_squared_error: tr=0.1217748199659487 val=0.12343100205793617 | | mean_euclidean_error: tr=0.3079290151624583 val=0.30839702337868535 | \n",
      "[19/400] tr time: 0:00:02.475995 | mean_squared_error: tr=0.12127627607759413 val=0.12134208604658926 | | mean_euclidean_error: tr=0.3053880439533077 val=0.304255917522748 | \n",
      "[20/400] tr time: 0:00:02.869182 | mean_squared_error: tr=0.12041811914211631 val=0.12360272871171517 | | mean_euclidean_error: tr=0.30585076197293415 val=0.3079384805617416 | \n",
      "[21/400] tr time: 0:00:01.702356 | mean_squared_error: tr=0.12056285249416919 val=0.12161850824939774 | | mean_euclidean_error: tr=0.3075646863749086 val=0.3076804663256038 | \n",
      "[22/400] tr time: 0:00:01.604708 | mean_squared_error: tr=0.11965373286347886 val=0.11898315916465468 | | mean_euclidean_error: tr=0.3033983265115776 val=0.30167330620416344 | \n",
      "[23/400] tr time: 0:00:01.694698 | mean_squared_error: tr=0.11920889119358148 val=0.12029042100145894 | | mean_euclidean_error: tr=0.3033866923997939 val=0.30371647891840775 | \n",
      "[24/400] tr time: 0:00:02.350930 | mean_squared_error: tr=0.11916983073775146 val=0.11881457503296781 | | mean_euclidean_error: tr=0.3042553396129852 val=0.302927841373601 | \n",
      "[25/400] tr time: 0:00:02.033182 | mean_squared_error: tr=0.1177727194644525 val=0.11750070859773733 | | mean_euclidean_error: tr=0.30087965219426605 val=0.3001340253774264 | \n",
      "[26/400] tr time: 0:00:02.213359 | mean_squared_error: tr=0.11732316756785348 val=0.11714029635833541 | | mean_euclidean_error: tr=0.29993747081966554 val=0.29968666035787206 | \n",
      "[27/400] tr time: 0:00:02.318378 | mean_squared_error: tr=0.11808884871636859 val=0.11904439800715962 | | mean_euclidean_error: tr=0.3020745589131908 val=0.3020671491481123 | \n",
      "[28/400] tr time: 0:00:02.775781 | mean_squared_error: tr=0.11663936655303024 val=0.11661158375895607 | | mean_euclidean_error: tr=0.3003695778829918 val=0.29993065770587657 | \n",
      "[29/400] tr time: 0:00:02.036634 | mean_squared_error: tr=0.11625921220108054 val=0.114738747652727 | | mean_euclidean_error: tr=0.297942667007652 val=0.2960251497744604 | \n",
      "[30/400] tr time: 0:00:01.757900 | mean_squared_error: tr=0.115821263315006 val=0.11723889278509667 | | mean_euclidean_error: tr=0.2990594680068334 val=0.30007689456360187 | \n",
      "[31/400] tr time: 0:00:02.614696 | mean_squared_error: tr=0.11617608915497853 val=0.11574446144017847 | | mean_euclidean_error: tr=0.30110458287584024 val=0.30019861210210946 | \n",
      "[32/400] tr time: 0:00:02.004409 | mean_squared_error: tr=0.11542610884257927 val=0.11353500173824994 | | mean_euclidean_error: tr=0.2972803902489291 val=0.29487939391406215 | \n",
      "[33/400] tr time: 0:00:03.401844 | mean_squared_error: tr=0.11530832628008439 val=0.11505910229331234 | | mean_euclidean_error: tr=0.29777802890296184 val=0.2971303557844772 | \n",
      "[34/400] tr time: 0:00:03.747536 | mean_squared_error: tr=0.11534247235839139 val=0.113844528584597 | | mean_euclidean_error: tr=0.2987385982298869 val=0.29661676764644923 | \n",
      "[35/400] tr time: 0:00:03.835174 | mean_squared_error: tr=0.11421750793791575 val=0.11290331685143054 | | mean_euclidean_error: tr=0.2958676935084505 val=0.2943827679373579 | \n",
      "[36/400] tr time: 0:00:01.857494 | mean_squared_error: tr=0.11399897660536934 val=0.1127935120420097 | | mean_euclidean_error: tr=0.2952415464613549 val=0.29409972004495366 | \n",
      "[37/400] tr time: 0:00:01.523836 | mean_squared_error: tr=0.11481169027907254 val=0.11471049320762504 | | mean_euclidean_error: tr=0.2973619979813882 val=0.2964708875711999 | \n",
      "[38/400] tr time: 0:00:01.974686 | mean_squared_error: tr=0.11358375487875855 val=0.11269907021657559 | | mean_euclidean_error: tr=0.2960054745616936 val=0.2948402358240189 | \n",
      "[39/400] tr time: 0:00:01.500270 | mean_squared_error: tr=0.11320414975550185 val=0.11096152819100301 | | mean_euclidean_error: tr=0.2936177492925108 val=0.29110428267716704 | \n",
      "[40/400] tr time: 0:00:01.638830 | mean_squared_error: tr=0.1129629584837107 val=0.11341684649808785 | | mean_euclidean_error: tr=0.29492128820417923 val=0.29509901181352816 | \n",
      "[41/400] tr time: 0:00:01.611355 | mean_squared_error: tr=0.11332319677093726 val=0.11210354889029063 | | mean_euclidean_error: tr=0.29693205268551004 val=0.29527439326502997 | \n",
      "[42/400] tr time: 0:00:01.640015 | mean_squared_error: tr=0.11262928481765769 val=0.11020884504626574 | | mean_euclidean_error: tr=0.29336418245867774 val=0.2905222695851481 | \n",
      "[43/400] tr time: 0:00:02.996107 | mean_squared_error: tr=0.11264801128833839 val=0.1117361697700814 | | mean_euclidean_error: tr=0.29404749415677217 val=0.29271485014645804 | \n",
      "[44/400] tr time: 0:00:01.987370 | mean_squared_error: tr=0.11266763428569797 val=0.1106200966439639 | | mean_euclidean_error: tr=0.29494341128328705 val=0.29230208802014723 | \n",
      "[45/400] tr time: 0:00:01.432711 | mean_squared_error: tr=0.11171770661575132 val=0.10993204998100534 | | mean_euclidean_error: tr=0.29244258018491803 val=0.2904879517807279 | \n",
      "[46/400] tr time: 0:00:01.599127 | mean_squared_error: tr=0.11161245240003533 val=0.10993956944185575 | | mean_euclidean_error: tr=0.29197200087236297 val=0.2902301339835925 | \n",
      "[47/400] tr time: 0:00:01.550707 | mean_squared_error: tr=0.11239952431057504 val=0.11173675900435212 | | mean_euclidean_error: tr=0.29393095030003547 val=0.29246425394829784 | \n",
      "[48/400] tr time: 0:00:03.107381 | mean_squared_error: tr=0.1113253835790922 val=0.11003410779406574 | | mean_euclidean_error: tr=0.29281032454863226 val=0.29119528867189204 | \n",
      "[49/400] tr time: 0:00:01.569589 | mean_squared_error: tr=0.11092975757745127 val=0.10842549058317867 | | mean_euclidean_error: tr=0.2904874196972274 val=0.28763985109117496 | \n",
      "[50/400] tr time: 0:00:03.137388 | mean_squared_error: tr=0.11080655037633956 val=0.11074275604763126 | | mean_euclidean_error: tr=0.2918301041591551 val=0.2914495729474397 | \n",
      "[51/400] tr time: 0:00:03.277581 | mean_squared_error: tr=0.11112569193494837 val=0.10951246839215399 | | mean_euclidean_error: tr=0.2937329573482601 val=0.29161395032102266 | \n",
      "[52/400] tr time: 0:00:02.018372 | mean_squared_error: tr=0.11047161484854354 val=0.10788608710405782 | | mean_euclidean_error: tr=0.29040280541103847 val=0.28735259239787914 | \n",
      "[53/400] tr time: 0:00:02.162934 | mean_squared_error: tr=0.11055092583721718 val=0.10933829125174893 | | mean_euclidean_error: tr=0.29114147837829074 val=0.28940437160356053 | \n",
      "[54/400] tr time: 0:00:02.650188 | mean_squared_error: tr=0.11053967170185218 val=0.10826692274895144 | | mean_euclidean_error: tr=0.2919505139205653 val=0.28903559081308333 | \n",
      "[55/400] tr time: 0:00:02.646534 | mean_squared_error: tr=0.10972442083004626 val=0.10776733543188807 | | mean_euclidean_error: tr=0.2897510084653856 val=0.28755785668787576 | \n",
      "[56/400] tr time: 0:00:01.704465 | mean_squared_error: tr=0.10967610603606297 val=0.10783470217808797 | | mean_euclidean_error: tr=0.28935330641634055 val=0.2872781567178308 | \n",
      "[57/400] tr time: 0:00:01.497056 | mean_squared_error: tr=0.11042370854229941 val=0.10947616569961989 | | mean_euclidean_error: tr=0.2911410910621265 val=0.2893369871596802 | \n",
      "[58/400] tr time: 0:00:01.743838 | mean_squared_error: tr=0.10947182850158958 val=0.10801436407077006 | | mean_euclidean_error: tr=0.2901974397499564 val=0.28834492491575736 | \n",
      "[59/400] tr time: 0:00:01.476199 | mean_squared_error: tr=0.10906097935181493 val=0.1065282845936884 | | mean_euclidean_error: tr=0.2879541175163098 val=0.2849740019163616 | \n",
      "[60/400] tr time: 0:00:02.803025 | mean_squared_error: tr=0.10901733313714838 val=0.10868193679337868 | | mean_euclidean_error: tr=0.2892750608017335 val=0.2885577514841852 | \n",
      "[61/400] tr time: 0:00:01.908259 | mean_squared_error: tr=0.10929033328057056 val=0.10750124615411012 | | mean_euclidean_error: tr=0.2910660227876194 val=0.28870131200463484 | \n",
      "[62/400] tr time: 0:00:01.260452 | mean_squared_error: tr=0.10867515172663192 val=0.10610769417189586 | | mean_euclidean_error: tr=0.28796652556551955 val=0.284871533079179 | \n",
      "[63/400] tr time: 0:00:02.127025 | mean_squared_error: tr=0.10877803675966272 val=0.1074567123134125 | | mean_euclidean_error: tr=0.28869499447592545 val=0.28675355677007563 | \n",
      "[64/400] tr time: 0:00:01.947778 | mean_squared_error: tr=0.10874020667001225 val=0.10641619856001074 | | mean_euclidean_error: tr=0.2894306440662522 val=0.2864123516909115 | \n",
      "[65/400] tr time: 0:00:01.382018 | mean_squared_error: tr=0.10803346121850364 val=0.10605843298203363 | | mean_euclidean_error: tr=0.28748083541877795 val=0.2852066519405911 | \n",
      "[66/400] tr time: 0:00:01.333916 | mean_squared_error: tr=0.10801117372561525 val=0.10615719717159346 | | mean_euclidean_error: tr=0.28710692719890524 val=0.2848869226297335 | \n",
      "[67/400] tr time: 0:00:02.371268 | mean_squared_error: tr=0.10872249429541565 val=0.10764609063190439 | | mean_euclidean_error: tr=0.28874952849387553 val=0.2867708021202453 | \n",
      "[68/400] tr time: 0:00:01.588413 | mean_squared_error: tr=0.10787239952811684 val=0.10637575143076586 | | mean_euclidean_error: tr=0.28794303428079937 val=0.28599338359842963 | \n",
      "[69/400] tr time: 0:00:01.391204 | mean_squared_error: tr=0.10744967471142451 val=0.10499940844117069 | | mean_euclidean_error: tr=0.28578291971699127 val=0.2828008432380093 | \n",
      "[70/400] tr time: 0:00:01.357385 | mean_squared_error: tr=0.10746344148567848 val=0.10699240816173208 | | mean_euclidean_error: tr=0.28705736578863783 val=0.2861540676736835 | \n",
      "[71/400] tr time: 0:00:01.582589 | mean_squared_error: tr=0.1076965193321457 val=0.10585040275247914 | | mean_euclidean_error: tr=0.28875056922316866 val=0.28627905045513374 | \n",
      "[72/400] tr time: 0:00:01.404471 | mean_squared_error: tr=0.10712113173811971 val=0.1046571796539682 | | mean_euclidean_error: tr=0.2858716939510737 val=0.2828309199652771 | \n",
      "[73/400] tr time: 0:00:01.734251 | mean_squared_error: tr=0.10722794803102244 val=0.10589801360115418 | | mean_euclidean_error: tr=0.286555242074906 val=0.28453866150861273 | \n",
      "[74/400] tr time: 0:00:01.472413 | mean_squared_error: tr=0.10717318566245669 val=0.10488920222598268 | | mean_euclidean_error: tr=0.2872377397979997 val=0.28422239822354545 | \n",
      "[75/400] tr time: 0:00:01.723597 | mean_squared_error: tr=0.10655423364946591 val=0.10463644303278934 | | mean_euclidean_error: tr=0.28549574097105224 val=0.28323568104621283 | \n",
      "[76/400] tr time: 0:00:01.585968 | mean_squared_error: tr=0.10653992070938019 val=0.10475193386728507 | | mean_euclidean_error: tr=0.2851159852198876 val=0.2828719795059221 | \n",
      "[77/400] tr time: 0:00:02.304445 | mean_squared_error: tr=0.10722151124247174 val=0.10610558032890814 | | mean_euclidean_error: tr=0.2866434107767573 val=0.28459659504425994 | \n",
      "[78/400] tr time: 0:00:02.422908 | mean_squared_error: tr=0.10645806203706201 val=0.10498941901163604 | | mean_euclidean_error: tr=0.2859455326483575 val=0.2839856872094042 | \n",
      "[79/400] tr time: 0:00:02.389616 | mean_squared_error: tr=0.10602554095403091 val=0.1037053676010288 | | mean_euclidean_error: tr=0.28386703577953865 val=0.2809584878167736 | \n",
      "[80/400] tr time: 0:00:02.090518 | mean_squared_error: tr=0.10608218685836059 val=0.10555153552578721 | | mean_euclidean_error: tr=0.28508484527457495 val=0.2840914768454243 | \n",
      "[81/400] tr time: 0:00:02.429217 | mean_squared_error: tr=0.10628338160760636 val=0.10444519068050867 | | mean_euclidean_error: tr=0.28669552060070896 val=0.2842014438050257 | \n",
      "[82/400] tr time: 0:00:04.047871 | mean_squared_error: tr=0.10574777308155457 val=0.10342215468686373 | | mean_euclidean_error: tr=0.28402505934167893 val=0.28109157703530974 | \n",
      "[83/400] tr time: 0:00:02.194631 | mean_squared_error: tr=0.10584767981062435 val=0.10456022914014888 | | mean_euclidean_error: tr=0.28464555379729883 val=0.2826325851470953 | \n",
      "[84/400] tr time: 0:00:01.669708 | mean_squared_error: tr=0.10578556112977029 val=0.10358837054271339 | | mean_euclidean_error: tr=0.2852928293006121 val=0.2823421789910817 | \n",
      "[85/400] tr time: 0:00:01.651523 | mean_squared_error: tr=0.10523728878050134 val=0.10341120543818941 | | mean_euclidean_error: tr=0.2837241820585725 val=0.2815307722658397 | \n",
      "[86/400] tr time: 0:00:01.809281 | mean_squared_error: tr=0.10522024896541006 val=0.1035359811493446 | | mean_euclidean_error: tr=0.2833216411067727 val=0.2811270591852026 | \n",
      "[87/400] tr time: 0:00:01.660931 | mean_squared_error: tr=0.10587760511061386 val=0.10477483307062067 | | mean_euclidean_error: tr=0.2847584108460575 val=0.28271214327609584 | \n",
      "[88/400] tr time: 0:00:01.958899 | mean_squared_error: tr=0.10518932014995303 val=0.10378516380870051 | | mean_euclidean_error: tr=0.2841489210749703 val=0.28223126650223473 | \n",
      "[89/400] tr time: 0:00:01.682863 | mean_squared_error: tr=0.10474761530783569 val=0.10257464803844626 | | mean_euclidean_error: tr=0.2821486966043716 val=0.27935357766579116 | \n",
      "[90/400] tr time: 0:00:02.155510 | mean_squared_error: tr=0.1048366464000836 val=0.10429040668025667 | | mean_euclidean_error: tr=0.2833049274561784 val=0.28228132403421685 | \n",
      "[91/400] tr time: 0:00:01.497925 | mean_squared_error: tr=0.10501288384474908 val=0.10321927336283628 | | mean_euclidean_error: tr=0.2848447478569833 val=0.28237856984141246 | \n",
      "[92/400] tr time: 0:00:02.040422 | mean_squared_error: tr=0.10451593935944566 val=0.10233921769166417 | | mean_euclidean_error: tr=0.28237038848002255 val=0.27956930239713423 | \n",
      "[93/400] tr time: 0:00:01.777888 | mean_squared_error: tr=0.10460303345113621 val=0.10338398005473745 | | mean_euclidean_error: tr=0.2829194247410897 val=0.2809564997777834 | \n",
      "[94/400] tr time: 0:00:01.948635 | mean_squared_error: tr=0.10454124637886897 val=0.10245451534555458 | | mean_euclidean_error: tr=0.28354552250514364 val=0.2806926481949503 | \n",
      "[95/400] tr time: 0:00:02.192088 | mean_squared_error: tr=0.10404965996084646 val=0.10232970773891403 | | mean_euclidean_error: tr=0.28212117933211434 val=0.2800211279285938 | \n",
      "[96/400] tr time: 0:00:02.071553 | mean_squared_error: tr=0.10402388352434794 val=0.10246039510158582 | | mean_euclidean_error: tr=0.2816878990967505 val=0.27958568331510875 | \n",
      "[97/400] tr time: 0:00:01.394201 | mean_squared_error: tr=0.10466037470160311 val=0.1036033533079181 | | mean_euclidean_error: tr=0.28305123502382107 val=0.28104985934457843 | \n",
      "[98/400] tr time: 0:00:01.562997 | mean_squared_error: tr=0.10403854917800542 val=0.10272012024940655 | | mean_euclidean_error: tr=0.2825165103655583 val=0.2806721732751179 | \n",
      "[99/400] tr time: 0:00:01.601711 | mean_squared_error: tr=0.10358762914326723 val=0.1015658079195119 | | mean_euclidean_error: tr=0.2805899474454997 val=0.2779286636379906 | \n",
      "[100/400] tr time: 0:00:01.610344 | mean_squared_error: tr=0.10370094626698406 val=0.10316648133103216 | | mean_euclidean_error: tr=0.2816820955984728 val=0.2806661718464262 | \n",
      "[101/400] tr time: 0:00:02.049680 | mean_squared_error: tr=0.10385736456075739 val=0.10213080784668298 | | mean_euclidean_error: tr=0.28315833140748037 val=0.28075148393224886 | \n",
      "[102/400] tr time: 0:00:01.566048 | mean_squared_error: tr=0.10339724058316506 val=0.10136987277353203 | | mean_euclidean_error: tr=0.2808687583149463 val=0.278210418290896 | \n",
      "[103/400] tr time: 0:00:02.279376 | mean_squared_error: tr=0.10346864715929908 val=0.10233159308980606 | | mean_euclidean_error: tr=0.2813441521848361 val=0.2794583982318696 | \n",
      "[104/400] tr time: 0:00:01.569320 | mean_squared_error: tr=0.10341261620929502 val=0.10144863702291441 | | mean_euclidean_error: tr=0.2819585125701069 val=0.2792205044441424 | \n",
      "[105/400] tr time: 0:00:01.556143 | mean_squared_error: tr=0.10296652859775278 val=0.10135809080887102 | | mean_euclidean_error: tr=0.2806546189283618 val=0.2786604530492501 | \n",
      "[106/400] tr time: 0:00:03.172964 | mean_squared_error: tr=0.10292926062696607 val=0.10149372395182087 | | mean_euclidean_error: tr=0.28019063019370744 val=0.27820371290540313 | \n",
      "[107/400] tr time: 0:00:02.183315 | mean_squared_error: tr=0.10354623272405333 val=0.10255646163392691 | | mean_euclidean_error: tr=0.2814899221792649 val=0.2795624600217112 | \n",
      "[108/400] tr time: 0:00:02.455748 | mean_squared_error: tr=0.10298424307524268 val=0.10176539526805914 | | mean_euclidean_error: tr=0.28102073298630836 val=0.2792686392427852 | \n",
      "[109/400] tr time: 0:00:02.222302 | mean_squared_error: tr=0.10252424580097105 val=0.10065297777952006 | | mean_euclidean_error: tr=0.2791628983348238 val=0.27664645478044614 | \n",
      "[110/400] tr time: 0:00:02.462531 | mean_squared_error: tr=0.10265530808386315 val=0.10215134721521335 | | mean_euclidean_error: tr=0.28018984759139637 val=0.2792067866058231 | \n",
      "[111/400] tr time: 0:00:02.451850 | mean_squared_error: tr=0.10279536311875825 val=0.10115150315850648 | | mean_euclidean_error: tr=0.28160581195804435 val=0.27927984987607657 | \n",
      "[112/400] tr time: 0:00:02.333294 | mean_squared_error: tr=0.10236986823207155 val=0.10048922627840433 | | mean_euclidean_error: tr=0.27949101050817327 val=0.27697932165460815 | \n",
      "[113/400] tr time: 0:00:02.192339 | mean_squared_error: tr=0.10242470768082906 val=0.10137750649852921 | | mean_euclidean_error: tr=0.27989441627081746 val=0.278102462821431 | \n",
      "[114/400] tr time: 0:00:01.982957 | mean_squared_error: tr=0.10237778807189721 val=0.1005435411251467 | | mean_euclidean_error: tr=0.28050070527610804 val=0.27788864506038014 | \n",
      "[115/400] tr time: 0:00:02.278297 | mean_squared_error: tr=0.10196846832895101 val=0.10047335613590651 | | mean_euclidean_error: tr=0.2793000935293201 val=0.27741736803362244 | \n",
      "[116/400] tr time: 0:00:02.344761 | mean_squared_error: tr=0.10191930682383575 val=0.10061441665359849 | | mean_euclidean_error: tr=0.27881109038154167 val=0.27695063599606895 | \n",
      "[117/400] tr time: 0:00:02.143949 | mean_squared_error: tr=0.1025165164260687 val=0.10160910460618477 | | mean_euclidean_error: tr=0.28004899710308045 val=0.2782158191260802 | \n",
      "[118/400] tr time: 0:00:01.998864 | mean_squared_error: tr=0.10200924810213946 val=0.10090013444837216 | | mean_euclidean_error: tr=0.2796375152857213 val=0.2779920847144615 | \n",
      "[119/400] tr time: 0:00:02.181088 | mean_squared_error: tr=0.10154099168248504 val=0.09981896726764806 | | mean_euclidean_error: tr=0.27784640548150175 val=0.275481705242965 | \n",
      "[120/400] tr time: 0:00:02.418454 | mean_squared_error: tr=0.10168435864912319 val=0.10122492833898399 | | mean_euclidean_error: tr=0.27880762280545895 val=0.27787540658226384 | \n",
      "[121/400] tr time: 0:00:02.321138 | mean_squared_error: tr=0.1018101488326881 val=0.10026128957501139 | | mean_euclidean_error: tr=0.28016367692685895 val=0.27793528072564283 | \n",
      "[122/400] tr time: 0:00:02.030691 | mean_squared_error: tr=0.10141699998465167 val=0.09968038610011433 | | mean_euclidean_error: tr=0.27821475393533357 val=0.2758517013992562 | \n",
      "[123/400] tr time: 0:00:02.249255 | mean_squared_error: tr=0.1014557730183858 val=0.10050356149757592 | | mean_euclidean_error: tr=0.2785496908485536 val=0.2768633523664704 | \n",
      "[124/400] tr time: 0:00:02.128418 | mean_squared_error: tr=0.10141961918047873 val=0.09971961507029901 | | mean_euclidean_error: tr=0.279148503669501 val=0.2766707963023284 | \n",
      "[125/400] tr time: 0:00:02.084697 | mean_squared_error: tr=0.10104042522432909 val=0.0996592799687844 | | mean_euclidean_error: tr=0.27803886544944817 val=0.2762701654597374 | \n",
      "[126/400] tr time: 0:00:02.167991 | mean_squared_error: tr=0.10098066729067164 val=0.09980707759414642 | | mean_euclidean_error: tr=0.2775300393074653 val=0.2758048550376395 | \n",
      "[127/400] tr time: 0:00:02.136211 | mean_squared_error: tr=0.10155673811435015 val=0.10074270664753149 | | mean_euclidean_error: tr=0.2787076094759587 val=0.2769849933184975 | \n",
      "[128/400] tr time: 0:00:02.254608 | mean_squared_error: tr=0.10110014092330434 val=0.10010871480592815 | | mean_euclidean_error: tr=0.27834799877559685 val=0.27682148846525495 | \n",
      "[129/400] tr time: 0:00:02.147978 | mean_squared_error: tr=0.10062534567585485 val=0.0990518542266344 | | mean_euclidean_error: tr=0.27662435390952156 val=0.2744168568446953 | \n",
      "[130/400] tr time: 0:00:02.291604 | mean_squared_error: tr=0.10077641505961529 val=0.10037258853775426 | | mean_euclidean_error: tr=0.27751945704078346 val=0.27665205129947257 | \n",
      "[131/400] tr time: 0:00:02.436341 | mean_squared_error: tr=0.10088902034193323 val=0.09944555313875576 | | mean_euclidean_error: tr=0.2788142246952712 val=0.2766975406923974 | \n",
      "[132/400] tr time: 0:00:02.239410 | mean_squared_error: tr=0.10052597633372587 val=0.09893155779504605 | | mean_euclidean_error: tr=0.27702302367267984 val=0.2748106933759512 | \n",
      "[133/400] tr time: 0:00:02.333368 | mean_squared_error: tr=0.10055016065690929 val=0.09969653937016011 | | mean_euclidean_error: tr=0.27729415353505343 val=0.27572293116784985 | \n",
      "[134/400] tr time: 0:00:02.400589 | mean_squared_error: tr=0.10052509793506545 val=0.09896249569062178 | | mean_euclidean_error: tr=0.27788460706271206 val=0.27554826000895105 | \n",
      "[135/400] tr time: 0:00:02.230913 | mean_squared_error: tr=0.10017113421375083 val=0.09890424146904292 | | mean_euclidean_error: tr=0.2768569138728409 val=0.27520376387660817 | \n",
      "[136/400] tr time: 0:00:02.661937 | mean_squared_error: tr=0.10010325347541073 val=0.099060466237999 | | mean_euclidean_error: tr=0.276334588694461 val=0.2747509360972944 | \n",
      "[137/400] tr time: 0:00:02.232244 | mean_squared_error: tr=0.1006560628114226 val=0.0999433670232884 | | mean_euclidean_error: tr=0.2774503919327082 val=0.27585176871651884 | \n",
      "[138/400] tr time: 0:00:02.188333 | mean_squared_error: tr=0.10024682411778561 val=0.09937926620026642 | | mean_euclidean_error: tr=0.2771385285074534 val=0.2757413101818979 | \n",
      "[139/400] tr time: 0:00:02.432706 | mean_squared_error: tr=0.09976814390379528 val=0.09834320338161284 | | mean_euclidean_error: tr=0.27548476849242975 val=0.2734395851666984 | \n",
      "[140/400] tr time: 0:00:02.268464 | mean_squared_error: tr=0.0999229964258858 val=0.0995835676063523 | | mean_euclidean_error: tr=0.27631342201382364 val=0.2755223545980173 | \n",
      "[141/400] tr time: 0:00:02.343461 | mean_squared_error: tr=0.10002277051061528 val=0.09869358820046728 | | mean_euclidean_error: tr=0.2775447225010817 val=0.2755522442735517 | \n",
      "[142/400] tr time: 0:00:02.315337 | mean_squared_error: tr=0.09968768388128307 val=0.09823446301207714 | | mean_euclidean_error: tr=0.27590347077875793 val=0.2738446167650654 | \n",
      "[143/400] tr time: 0:00:02.108674 | mean_squared_error: tr=0.09969944347354223 val=0.09894678093428946 | | mean_euclidean_error: tr=0.27611654326338597 val=0.2746682724600775 | \n",
      "[144/400] tr time: 0:00:02.133825 | mean_squared_error: tr=0.09968478330113252 val=0.09826166577409506 | | mean_euclidean_error: tr=0.27669664681320394 val=0.27450782548763075 | \n",
      "[145/400] tr time: 0:00:02.098505 | mean_squared_error: tr=0.0993526063536086 val=0.09819996894836558 | | mean_euclidean_error: tr=0.2757442865335103 val=0.2742078331086963 | \n",
      "[146/400] tr time: 0:00:02.100104 | mean_squared_error: tr=0.09927981176749147 val=0.09836633341829637 | | mean_euclidean_error: tr=0.275216027142644 val=0.2737778749871424 | \n",
      "[147/400] tr time: 0:00:02.499679 | mean_squared_error: tr=0.09980679790675198 val=0.09920070738097958 | | mean_euclidean_error: tr=0.27626683274539693 val=0.27480300028219423 | \n",
      "[148/400] tr time: 0:00:02.075407 | mean_squared_error: tr=0.09944211080209366 val=0.09870277795803843 | | mean_euclidean_error: tr=0.27599955323930725 val=0.27474015643075533 | \n",
      "[149/400] tr time: 0:00:02.139110 | mean_squared_error: tr=0.09896306475687808 val=0.09768706179824477 | | mean_euclidean_error: tr=0.27441924374328247 val=0.27254132248895235 | \n",
      "[150/400] tr time: 0:00:01.966470 | mean_squared_error: tr=0.09911836756482326 val=0.09885004691700441 | | mean_euclidean_error: tr=0.2751813352548086 val=0.27447617985693185 | \n",
      "[151/400] tr time: 0:00:02.210149 | mean_squared_error: tr=0.09920517719771638 val=0.09799765303787489 | | mean_euclidean_error: tr=0.27634653600500997 val=0.2744893682286904 | \n",
      "[152/400] tr time: 0:00:02.196534 | mean_squared_error: tr=0.09889600763447305 val=0.0975834270084285 | | mean_euclidean_error: tr=0.27484769945440285 val=0.2729455802533342 | \n",
      "[153/400] tr time: 0:00:02.176355 | mean_squared_error: tr=0.0988979634280277 val=0.09824735397615714 | | mean_euclidean_error: tr=0.2750094805904665 val=0.2736903571324708 | \n",
      "[154/400] tr time: 0:00:02.219964 | mean_squared_error: tr=0.09889225457571027 val=0.09760955221741645 | | mean_euclidean_error: tr=0.2755763143328414 val=0.27354037142826526 | \n",
      "[155/400] tr time: 0:00:02.204655 | mean_squared_error: tr=0.09857962994476194 val=0.09754076006961188 | | mean_euclidean_error: tr=0.274694516652523 val=0.27327558106743444 | \n",
      "[156/400] tr time: 0:00:02.278873 | mean_squared_error: tr=0.09850548192771959 val=0.09771869195915679 | | mean_euclidean_error: tr=0.2741686987893417 val=0.2728779299744455 | \n",
      "[157/400] tr time: 0:00:02.542133 | mean_squared_error: tr=0.0990038895861473 val=0.09850707849305478 | | mean_euclidean_error: tr=0.2751503139697636 val=0.27382941420110607 | \n",
      "[158/400] tr time: 0:00:02.152631 | mean_squared_error: tr=0.09868128985846047 val=0.09807249242450201 | | mean_euclidean_error: tr=0.274924922228152 val=0.2738098393373333 | \n",
      "[159/400] tr time: 0:00:02.307447 | mean_squared_error: tr=0.09820615489254958 val=0.09707934028917574 | | mean_euclidean_error: tr=0.27342244858626474 val=0.2717163000386601 | \n",
      "[160/400] tr time: 0:00:02.066381 | mean_squared_error: tr=0.09835909578204383 val=0.09816653060690791 | | mean_euclidean_error: tr=0.2741183230396534 val=0.27350666099755816 | \n",
      "[161/400] tr time: 0:00:02.007359 | mean_squared_error: tr=0.09843251865568749 val=0.09735234751105255 | | mean_euclidean_error: tr=0.27521436690921214 val=0.2735022362737915 | \n",
      "[162/400] tr time: 0:00:02.222789 | mean_squared_error: tr=0.09814733995930852 val=0.09697482235069319 | | mean_euclidean_error: tr=0.2738506658490453 val=0.27210858856005543 | \n",
      "[163/400] tr time: 0:00:02.214124 | mean_squared_error: tr=0.0981423737711083 val=0.09759351967019123 | | mean_euclidean_error: tr=0.27396877416352877 val=0.27278318210023245 | \n",
      "[164/400] tr time: 0:00:02.154681 | mean_squared_error: tr=0.0981436036270307 val=0.09700092843163738 | | mean_euclidean_error: tr=0.2745186473652418 val=0.2726399125940334 | \n",
      "[165/400] tr time: 0:00:03.047646 | mean_squared_error: tr=0.09784930478326263 val=0.09692297440619502 | | mean_euclidean_error: tr=0.2737040703400854 val=0.27240294643511836 | \n",
      "[166/400] tr time: 0:00:01.687368 | mean_squared_error: tr=0.0977773763256622 val=0.09711334175255058 | | mean_euclidean_error: tr=0.2731894223477793 val=0.2720458078719671 | \n",
      "[167/400] tr time: 0:00:01.381480 | mean_squared_error: tr=0.09824446035617972 val=0.09785700018989059 | | mean_euclidean_error: tr=0.2740973684733321 val=0.27292472273287294 | \n",
      "[168/400] tr time: 0:00:01.513715 | mean_squared_error: tr=0.09796170809233896 val=0.09748347011329457 | | mean_euclidean_error: tr=0.2739113141489783 val=0.27294468215893825 | \n",
      "[169/400] tr time: 0:00:01.566729 | mean_squared_error: tr=0.0974954027255232 val=0.0965174032122799 | | mean_euclidean_error: tr=0.27249165743392406 val=0.2709608894176172 | \n",
      "[170/400] tr time: 0:00:01.580357 | mean_squared_error: tr=0.09764363907944816 val=0.09752940275589608 | | mean_euclidean_error: tr=0.27312226266910133 val=0.2726095001552378 | \n",
      "[171/400] tr time: 0:00:01.561014 | mean_squared_error: tr=0.0977031351084149 val=0.09675418337421687 | | mean_euclidean_error: tr=0.2741457810550609 val=0.2725868062649564 | \n",
      "[172/400] tr time: 0:00:01.599758 | mean_squared_error: tr=0.09744015459872134 val=0.09640671752710168 | | mean_euclidean_error: tr=0.27291014350619663 val=0.2713309594784267 | \n",
      "[173/400] tr time: 0:00:01.455600 | mean_squared_error: tr=0.09743123077982531 val=0.09698237993853498 | | mean_euclidean_error: tr=0.27299281852768503 val=0.2719431370452725 | \n",
      "[174/400] tr time: 0:00:01.473137 | mean_squared_error: tr=0.09743699699972394 val=0.09643252402795785 | | mean_euclidean_error: tr=0.2735214273886819 val=0.2718029578377977 | \n",
      "[175/400] tr time: 0:00:01.652310 | mean_squared_error: tr=0.097160629849909 val=0.09634470273275705 | | mean_euclidean_error: tr=0.2727718409260063 val=0.271588064159501 | \n",
      "[176/400] tr time: 0:00:01.603181 | mean_squared_error: tr=0.09709420863612649 val=0.0965475673083835 | | mean_euclidean_error: tr=0.27227699421580154 val=0.2712781013897556 | \n",
      "[177/400] tr time: 0:00:01.461875 | mean_squared_error: tr=0.09752741164279904 val=0.09724677600887884 | | mean_euclidean_error: tr=0.273107077840779 val=0.2720849780929948 | \n",
      "[178/400] tr time: 0:00:01.471085 | mean_squared_error: tr=0.09728239673042088 val=0.09693228138493021 | | mean_euclidean_error: tr=0.27295773869106366 val=0.2721410084900256 | \n",
      "[179/400] tr time: 0:00:01.364206 | mean_squared_error: tr=0.09683036396061877 val=0.09599978351397079 | | mean_euclidean_error: tr=0.2716263158056168 val=0.2702731335661662 | \n",
      "[180/400] tr time: 0:00:01.336406 | mean_squared_error: tr=0.09697197770392789 val=0.09693659424731094 | | mean_euclidean_error: tr=0.2721932416029473 val=0.27178243448427114 | \n",
      "[181/400] tr time: 0:00:01.518157 | mean_squared_error: tr=0.09701704647848293 val=0.09620128182960581 | | mean_euclidean_error: tr=0.2731408193603583 val=0.2717411631970294 | \n",
      "[182/400] tr time: 0:00:01.581662 | mean_squared_error: tr=0.09677464475279302 val=0.09587865174537902 | | mean_euclidean_error: tr=0.2720262659099937 val=0.2706119461168063 | \n",
      "[183/400] tr time: 0:00:01.448684 | mean_squared_error: tr=0.09676464185500852 val=0.09641264421068274 | | mean_euclidean_error: tr=0.27208208087349284 val=0.2711685704498334 | \n",
      "[184/400] tr time: 0:00:01.515034 | mean_squared_error: tr=0.09677231445154785 val=0.09590278571376103 | | mean_euclidean_error: tr=0.2725846852903422 val=0.27102809390599497 | \n",
      "[185/400] tr time: 0:00:01.394028 | mean_squared_error: tr=0.09651414824357474 val=0.09580556051350955 | | mean_euclidean_error: tr=0.2718987003582143 val=0.27083092296031147 | \n",
      "[186/400] tr time: 0:00:01.530693 | mean_squared_error: tr=0.0964559838478246 val=0.0960199664523438 | | mean_euclidean_error: tr=0.27143175815265513 val=0.27057292256459126 | \n",
      "[187/400] tr time: 0:00:01.459718 | mean_squared_error: tr=0.0968530966653565 val=0.09667425011441058 | | mean_euclidean_error: tr=0.2721805744139783 val=0.2713081202080462 | \n",
      "[188/400] tr time: 0:00:01.486910 | mean_squared_error: tr=0.09664375091534405 val=0.09641680268320886 | | mean_euclidean_error: tr=0.2720651052959665 val=0.2713967780938688 | \n",
      "[189/400] tr time: 0:00:01.395175 | mean_squared_error: tr=0.09621183154669412 val=0.09552597889124151 | | mean_euclidean_error: tr=0.27082764160977046 val=0.26965240205994484 | \n",
      "[190/400] tr time: 0:00:01.387693 | mean_squared_error: tr=0.09634528632632935 val=0.09638732085323043 | | mean_euclidean_error: tr=0.2713330714113438 val=0.2710248146488943 | \n",
      "[191/400] tr time: 0:00:01.582033 | mean_squared_error: tr=0.09637561950722653 val=0.09569315554979407 | | mean_euclidean_error: tr=0.2722015289790544 val=0.27096514699640184 | \n",
      "[192/400] tr time: 0:00:01.435493 | mean_squared_error: tr=0.09615241075116661 val=0.09539148597157636 | | mean_euclidean_error: tr=0.2712011366513267 val=0.269952491321646 | \n",
      "[193/400] tr time: 0:00:01.533186 | mean_squared_error: tr=0.09614396094826108 val=0.09588447493518944 | | mean_euclidean_error: tr=0.2712386567117988 val=0.2704594865406127 | \n",
      "[194/400] tr time: 0:00:01.863334 | mean_squared_error: tr=0.0961508516613035 val=0.09541174652299521 | | mean_euclidean_error: tr=0.2717102948666452 val=0.27031572501243073 | \n",
      "[195/400] tr time: 0:00:01.863720 | mean_squared_error: tr=0.09591163828721465 val=0.09530656773120152 | | mean_euclidean_error: tr=0.27108709789906865 val=0.27013315113601005 | \n",
      "[196/400] tr time: 0:00:02.718604 | mean_squared_error: tr=0.09586374620494661 val=0.09553038333205015 | | mean_euclidean_error: tr=0.27065524000211527 val=0.2699296933920179 | \n",
      "[197/400] tr time: 0:00:01.626723 | mean_squared_error: tr=0.09622305375510273 val=0.09613868267503844 | | mean_euclidean_error: tr=0.2713206136391151 val=0.27059368119330846 | \n",
      "[198/400] tr time: 0:00:01.352598 | mean_squared_error: tr=0.09604725630486621 val=0.09593610068132094 | | mean_euclidean_error: tr=0.2712358416997102 val=0.2707113372835818 | \n",
      "[199/400] tr time: 0:00:02.311074 | mean_squared_error: tr=0.09564153331179567 val=0.09509630100470924 | | mean_euclidean_error: tr=0.2700982390868032 val=0.26909912123990565 | \n",
      "[200/400] tr time: 0:00:02.274523 | mean_squared_error: tr=0.09576563376773088 val=0.0958818651393219 | | mean_euclidean_error: tr=0.2705448310425096 val=0.2703372487172215 | \n",
      "[201/400] tr time: 0:00:01.758503 | mean_squared_error: tr=0.09578126554200832 val=0.0952305381985979 | | mean_euclidean_error: tr=0.2713314631656192 val=0.2702600520832796 | \n",
      "[202/400] tr time: 0:00:01.288324 | mean_squared_error: tr=0.09557617404530465 val=0.09494729009751145 | | mean_euclidean_error: tr=0.27043847669204574 val=0.2693550494655701 | \n",
      "[203/400] tr time: 0:00:01.289010 | mean_squared_error: tr=0.09557151216033515 val=0.09539937724980951 | | mean_euclidean_error: tr=0.2704658538696186 val=0.2698173195181001 | \n",
      "[204/400] tr time: 0:00:01.514501 | mean_squared_error: tr=0.09557506311809412 val=0.09496096267869585 | | mean_euclidean_error: tr=0.27090160859182255 val=0.2696679017669366 | \n",
      "[205/400] tr time: 0:00:01.392326 | mean_squared_error: tr=0.09535583241119994 val=0.09485008139194039 | | mean_euclidean_error: tr=0.27034068016738616 val=0.269497870564151 | \n",
      "[206/400] tr time: 0:00:01.236340 | mean_squared_error: tr=0.09531937231703316 val=0.09507992298028531 | | mean_euclidean_error: tr=0.2699498274492975 val=0.2693490586678394 | \n",
      "[207/400] tr time: 0:00:01.376696 | mean_squared_error: tr=0.09563978180384088 val=0.09564072254369566 | | mean_euclidean_error: tr=0.2705311668773652 val=0.26994261220864946 | \n",
      "[208/400] tr time: 0:00:01.360588 | mean_squared_error: tr=0.09549525054589704 val=0.09549038939221306 | | mean_euclidean_error: tr=0.270473525362703 val=0.2700852537955276 | \n",
      "[209/400] tr time: 0:00:01.276870 | mean_squared_error: tr=0.09512183938788882 val=0.09471176017112036 | | mean_euclidean_error: tr=0.26944168117254036 val=0.26861453940518437 | \n",
      "[210/400] tr time: 0:00:01.245074 | mean_squared_error: tr=0.09523569539326918 val=0.09542138467825852 | | mean_euclidean_error: tr=0.26983239437544304 val=0.26972127595864515 | \n",
      "[211/400] tr time: 0:00:01.452847 | mean_squared_error: tr=0.09523714669527931 val=0.09481522774231337 | | mean_euclidean_error: tr=0.27053516742918166 val=0.26962834311467 | \n",
      "[212/400] tr time: 0:00:01.308743 | mean_squared_error: tr=0.0950494931952294 val=0.09454923164125095 | | mean_euclidean_error: tr=0.26974326187673703 val=0.2688234131480946 | \n",
      "[213/400] tr time: 0:00:01.355513 | mean_squared_error: tr=0.095050320561393 val=0.09496010165694008 | | mean_euclidean_error: tr=0.26976774663359354 val=0.26924473481834876 | \n",
      "[214/400] tr time: 0:00:01.367003 | mean_squared_error: tr=0.09504831834977304 val=0.09455347913415009 | | mean_euclidean_error: tr=0.27016307045630333 val=0.2690881777360632 | \n",
      "[215/400] tr time: 0:00:01.312102 | mean_squared_error: tr=0.09485014767096357 val=0.09443975143336257 | | mean_euclidean_error: tr=0.2696638982412785 val=0.26892956322138084 | \n",
      "[216/400] tr time: 0:00:01.256905 | mean_squared_error: tr=0.09482539409106178 val=0.09467102749148744 | | mean_euclidean_error: tr=0.2693184564547191 val=0.2688328870224815 | \n",
      "[217/400] tr time: 0:00:01.365698 | mean_squared_error: tr=0.09510653807114318 val=0.09518245939128363 | | mean_euclidean_error: tr=0.2698169822273085 val=0.2693572022326336 | \n",
      "[218/400] tr time: 0:00:01.306298 | mean_squared_error: tr=0.0949907104016357 val=0.09508105165504444 | | mean_euclidean_error: tr=0.2697824777485645 val=0.26952021465666737 | \n",
      "[219/400] tr time: 0:00:01.301816 | mean_squared_error: tr=0.09465547045932206 val=0.09437398305891477 | | mean_euclidean_error: tr=0.2688620066112906 val=0.2682005047618956 | \n",
      "[220/400] tr time: 0:00:01.411752 | mean_squared_error: tr=0.09475847137099236 val=0.09500774723518808 | | mean_euclidean_error: tr=0.26919990631565477 val=0.26917905510565115 | \n",
      "[221/400] tr time: 0:00:01.296216 | mean_squared_error: tr=0.09474687484783667 val=0.09444992069124214 | | mean_euclidean_error: tr=0.2698176168158071 val=0.26907334739008665 | \n",
      "[222/400] tr time: 0:00:01.240638 | mean_squared_error: tr=0.09457646529004192 val=0.09420144219684053 | | mean_euclidean_error: tr=0.269121288453969 val=0.2683624911597058 | \n",
      "[223/400] tr time: 0:00:01.269788 | mean_squared_error: tr=0.09458383672709698 val=0.09457053757131888 | | mean_euclidean_error: tr=0.269148647082435 val=0.2687454166365658 | \n",
      "[224/400] tr time: 0:00:01.327848 | mean_squared_error: tr=0.09457465160821203 val=0.09419379441816947 | | mean_euclidean_error: tr=0.26949973683738215 val=0.26858144533130907 | \n",
      "[225/400] tr time: 0:00:02.148284 | mean_squared_error: tr=0.09439842424382118 val=0.0940804827595619 | | mean_euclidean_error: tr=0.2690615636366332 val=0.2684339098050213 | \n",
      "[226/400] tr time: 0:00:01.635557 | mean_squared_error: tr=0.09438484055480843 val=0.09430760149469836 | | mean_euclidean_error: tr=0.26876425575756796 val=0.2683843294550792 | \n",
      "[227/400] tr time: 0:00:01.523792 | mean_squared_error: tr=0.09462714430676043 val=0.09476754667919991 | | mean_euclidean_error: tr=0.2691830790455814 val=0.26884106494093934 | \n",
      "[228/400] tr time: 0:00:01.705216 | mean_squared_error: tr=0.09453706768685673 val=0.09471073381365755 | | mean_euclidean_error: tr=0.2691672787210382 val=0.2690189847232225 | \n",
      "[229/400] tr time: 0:00:01.384053 | mean_squared_error: tr=0.0942452173758041 val=0.0940851870946 | | mean_euclidean_error: tr=0.26836309619075144 val=0.2678592658503801 | \n",
      "[230/400] tr time: 0:00:01.470323 | mean_squared_error: tr=0.0943370213446879 val=0.09464342646757343 | | mean_euclidean_error: tr=0.268651209376123 val=0.26871308493622403 | \n",
      "[231/400] tr time: 0:00:01.409632 | mean_squared_error: tr=0.09431420646587996 val=0.09413804225113154 | | mean_euclidean_error: tr=0.2691835947383051 val=0.2685989147720414 | \n",
      "[232/400] tr time: 0:00:01.406865 | mean_squared_error: tr=0.09416141256975828 val=0.09390886130870174 | | mean_euclidean_error: tr=0.26857858846885446 val=0.2679780072000369 | \n",
      "[233/400] tr time: 0:00:01.642956 | mean_squared_error: tr=0.09417565785172567 val=0.09423559690372879 | | mean_euclidean_error: tr=0.2686124978858563 val=0.26832382044546566 | \n",
      "[234/400] tr time: 0:00:01.685105 | mean_squared_error: tr=0.0941585016759764 val=0.09388782031414758 | | mean_euclidean_error: tr=0.26891666681224263 val=0.268153727940366 | \n",
      "[235/400] tr time: 0:00:01.436950 | mean_squared_error: tr=0.09400469040819827 val=0.09377841190054866 | | mean_euclidean_error: tr=0.2685383139558682 val=0.2680175920410352 | \n",
      "[236/400] tr time: 0:00:01.416419 | mean_squared_error: tr=0.09400109916778872 val=0.09399519155395407 | | mean_euclidean_error: tr=0.26829011569972705 val=0.26800791317796124 | \n",
      "[237/400] tr time: 0:00:01.353598 | mean_squared_error: tr=0.09420580026993465 val=0.0944014078936154 | | mean_euclidean_error: tr=0.2686341633346259 val=0.26839918050713674 | \n",
      "[238/400] tr time: 0:00:01.494473 | mean_squared_error: tr=0.09413807755652634 val=0.09438355702940517 | | mean_euclidean_error: tr=0.26863221015499245 val=0.2685854529755696 | \n",
      "[239/400] tr time: 0:00:01.481655 | mean_squared_error: tr=0.09389371172163019 val=0.09384827734031764 | | mean_euclidean_error: tr=0.26794796411262445 val=0.267593350437487 | \n",
      "[240/400] tr time: 0:00:01.468278 | mean_squared_error: tr=0.093974250650154 val=0.09433154469307731 | | mean_euclidean_error: tr=0.26818926854534575 val=0.26832602198253114 | \n",
      "[241/400] tr time: 0:00:01.427659 | mean_squared_error: tr=0.09394276779560552 val=0.09388363439061594 | | mean_euclidean_error: tr=0.2686370718440136 val=0.2682090866219183 | \n",
      "[242/400] tr time: 0:00:01.538648 | mean_squared_error: tr=0.09380857843063142 val=0.0936771019106923 | | mean_euclidean_error: tr=0.2681206377407204 val=0.2676761302479313 | \n",
      "[243/400] tr time: 0:00:01.391048 | mean_squared_error: tr=0.09382927279863743 val=0.09396112877096705 | | mean_euclidean_error: tr=0.26816227230688217 val=0.2679849021326013 | \n",
      "[244/400] tr time: 0:00:01.419115 | mean_squared_error: tr=0.09380446298935613 val=0.09364288115957375 | | mean_euclidean_error: tr=0.26841822429200624 val=0.26781194218320276 | \n",
      "[245/400] tr time: 0:00:01.469208 | mean_squared_error: tr=0.09367300313884264 val=0.09354095522646404 | | mean_euclidean_error: tr=0.2680979829442253 val=0.2676881006212948 | \n",
      "[246/400] tr time: 0:00:01.380721 | mean_squared_error: tr=0.09367781741087554 val=0.09374125550250276 | | mean_euclidean_error: tr=0.26789820397470365 val=0.26770966348148234 | \n",
      "[247/400] tr time: 0:00:01.515666 | mean_squared_error: tr=0.09384692550198176 val=0.09409158048877783 | | mean_euclidean_error: tr=0.268173976604114 val=0.2680379978309653 | \n",
      "[248/400] tr time: 0:00:01.518188 | mean_squared_error: tr=0.09379778858353283 val=0.09410554910525287 | | mean_euclidean_error: tr=0.26818072962582773 val=0.26822482975295187 | \n",
      "[249/400] tr time: 0:00:01.393183 | mean_squared_error: tr=0.09360332449882913 val=0.09366719666764878 | | mean_euclidean_error: tr=0.26761810546859593 val=0.267405632734255 | \n",
      "[250/400] tr time: 0:00:01.573889 | mean_squared_error: tr=0.09367281429217661 val=0.0940762305563307 | | mean_euclidean_error: tr=0.26781564122444457 val=0.26802072058039467 | \n",
      "[251/400] tr time: 0:00:01.544971 | mean_squared_error: tr=0.09363589301747291 val=0.09369147256285747 | | mean_euclidean_error: tr=0.26818065284747994 val=0.26790789808966947 | \n",
      "[252/400] tr time: 0:00:01.334539 | mean_squared_error: tr=0.09352189418461544 val=0.0935124661181763 | | mean_euclidean_error: tr=0.26775142761154913 val=0.2674631129292107 | \n",
      "[253/400] tr time: 0:00:01.683385 | mean_squared_error: tr=0.09354789426255193 val=0.09375398727349839 | | mean_euclidean_error: tr=0.2677994439436939 val=0.26773389039208534 | \n",
      "[254/400] tr time: 0:00:01.415081 | mean_squared_error: tr=0.09351710275755773 val=0.09346789055171793 | | mean_euclidean_error: tr=0.26800739031816 val=0.26756369751368253 | \n",
      "[255/400] tr time: 0:00:01.456745 | mean_squared_error: tr=0.09340745493358588 val=0.09337708147790481 | | mean_euclidean_error: tr=0.267742996988012 val=0.2674536629190162 | \n",
      "[256/400] tr time: 0:00:01.633941 | mean_squared_error: tr=0.09341890346325049 val=0.09355561975939415 | | mean_euclidean_error: tr=0.26758949629286305 val=0.2674972732376511 | \n",
      "[257/400] tr time: 0:00:03.492485 | mean_squared_error: tr=0.09355508842597995 val=0.09384833557835183 | | mean_euclidean_error: tr=0.26780460110906285 val=0.2677656406686745 | \n",
      "[258/400] tr time: 0:00:02.593217 | mean_squared_error: tr=0.09352069669845245 val=0.09388550873388696 | | mean_euclidean_error: tr=0.2678150649241944 val=0.26794410172437505 | \n",
      "[259/400] tr time: 0:00:01.803726 | mean_squared_error: tr=0.09337632194617597 val=0.09354777225601686 | | mean_euclidean_error: tr=0.2673730442651883 val=0.26729975536272005 | \n",
      "[260/400] tr time: 0:00:02.158436 | mean_squared_error: tr=0.09343525273682153 val=0.09388359033450094 | | mean_euclidean_error: tr=0.26752997285502406 val=0.267800698540371 | \n",
      "[261/400] tr time: 0:00:02.257744 | mean_squared_error: tr=0.09339673355946869 val=0.09356779205723316 | | mean_euclidean_error: tr=0.26781508033314744 val=0.2676995782281832 | \n",
      "[262/400] tr time: 0:00:02.103051 | mean_squared_error: tr=0.0933049535072091 val=0.09342242505158306 | | mean_euclidean_error: tr=0.26747258876491997 val=0.2673451348801891 | \n",
      "[263/400] tr time: 0:00:01.552437 | mean_squared_error: tr=0.09333451061962564 val=0.09362254576736756 | | mean_euclidean_error: tr=0.2675234554962194 val=0.26757627494759495 | \n",
      "[264/400] tr time: 0:00:01.517247 | mean_squared_error: tr=0.09330096226276192 val=0.09337403753731023 | | mean_euclidean_error: tr=0.2676850452798178 val=0.267417302243816 | \n",
      "[265/400] tr time: 0:00:01.543598 | mean_squared_error: tr=0.09321250957000252 val=0.0932981826360283 | | mean_euclidean_error: tr=0.2674739943174293 val=0.2673235269571445 | \n",
      "[266/400] tr time: 0:00:01.451759 | mean_squared_error: tr=0.09322877709477173 val=0.09345138458073969 | | mean_euclidean_error: tr=0.2673633281152452 val=0.26738041577940524 | \n",
      "[267/400] tr time: 0:00:01.596739 | mean_squared_error: tr=0.0933351729604925 val=0.09368589582291922 | | mean_euclidean_error: tr=0.26752566701168506 val=0.2675923510636577 | \n",
      "[268/400] tr time: 0:00:01.471303 | mean_squared_error: tr=0.0933122301581568 val=0.09373674075103326 | | mean_euclidean_error: tr=0.2675357726577349 val=0.267752930870968 | \n",
      "[269/400] tr time: 0:00:01.598193 | mean_squared_error: tr=0.0932155093662608 val=0.09349955215354892 | | mean_euclidean_error: tr=0.26721003500490975 val=0.26728115819358517 | \n",
      "[270/400] tr time: 0:00:01.408184 | mean_squared_error: tr=0.09326458860357714 val=0.09376384408805294 | | mean_euclidean_error: tr=0.2673294269131768 val=0.2676713489971946 | \n",
      "[271/400] tr time: 0:00:01.616463 | mean_squared_error: tr=0.09322893946353535 val=0.09352243009943541 | | mean_euclidean_error: tr=0.267538692381733 val=0.26758965460878953 | \n",
      "[272/400] tr time: 0:00:01.547276 | mean_squared_error: tr=0.09316152982189721 val=0.09341734356389117 | | mean_euclidean_error: tr=0.2672825900544491 val=0.267328832675051 | \n",
      "[273/400] tr time: 0:00:01.571164 | mean_squared_error: tr=0.09319248086168379 val=0.09357837130506799 | | mean_euclidean_error: tr=0.2673310548596678 val=0.2675184267363843 | \n",
      "[274/400] tr time: 0:00:01.537314 | mean_squared_error: tr=0.09316105658484672 val=0.09337678331264637 | | mean_euclidean_error: tr=0.2674489693964375 val=0.26738240902397237 | \n",
      "[275/400] tr time: 0:00:01.693308 | mean_squared_error: tr=0.09309401489439637 val=0.09332048885490332 | | mean_euclidean_error: tr=0.2672895328299409 val=0.26730911046085754 | \n",
      "[276/400] tr time: 0:00:01.381381 | mean_squared_error: tr=0.0931132957920391 val=0.09344706644075548 | | mean_euclidean_error: tr=0.2672168629836335 val=0.2673715800787255 | \n",
      "[277/400] tr time: 0:00:01.561525 | mean_squared_error: tr=0.09319322404796511 val=0.09362506240877862 | | mean_euclidean_error: tr=0.26733334590910013 val=0.26753155280027746 | \n",
      "[278/400] tr time: 0:00:01.653837 | mean_squared_error: tr=0.09317994191448743 val=0.09368067035530646 | | mean_euclidean_error: tr=0.26734083064051406 val=0.26766540882117745 | \n",
      "[279/400] tr time: 0:00:01.405919 | mean_squared_error: tr=0.09312589581971147 val=0.09353982868556324 | | mean_euclidean_error: tr=0.2671236130846427 val=0.26735922509206683 | \n",
      "[280/400] tr time: 0:00:01.636237 | mean_squared_error: tr=0.09316598381885648 val=0.09373582754827421 | | mean_euclidean_error: tr=0.26720791292495283 val=0.26764246415768794 | \n",
      "[281/400] tr time: 0:00:01.619719 | mean_squared_error: tr=0.0931385970418476 val=0.09357411690695838 | | mean_euclidean_error: tr=0.26734660097650575 val=0.2675878954092986 | \n",
      "[282/400] tr time: 0:00:01.434409 | mean_squared_error: tr=0.09309753970526931 val=0.0935154795001709 | | mean_euclidean_error: tr=0.26717579467967933 val=0.26742368399729644 | \n",
      "[283/400] tr time: 0:00:01.457767 | mean_squared_error: tr=0.09312762028248145 val=0.09364096988410428 | | mean_euclidean_error: tr=0.2672154347289162 val=0.26756989341738646 | \n",
      "[284/400] tr time: 0:00:01.501024 | mean_squared_error: tr=0.09310492185381435 val=0.09350124429315942 | | mean_euclidean_error: tr=0.2672924587667905 val=0.26747246510868083 | \n",
      "[285/400] tr time: 0:00:01.393419 | mean_squared_error: tr=0.09306188947779886 val=0.09347150128243768 | | mean_euclidean_error: tr=0.26718522535689393 val=0.26742718237534946 | \n",
      "[286/400] tr time: 0:00:01.489909 | mean_squared_error: tr=0.09308269259092006 val=0.09357256406130493 | | mean_euclidean_error: tr=0.26714437211481584 val=0.2674887729419331 | \n",
      "[287/400] tr time: 0:00:01.520324 | mean_squared_error: tr=0.09313947039474295 val=0.09369963725560007 | | mean_euclidean_error: tr=0.26721924075039777 val=0.26760266802002813 | \n",
      "[288/400] tr time: 0:00:01.660380 | mean_squared_error: tr=0.09313680021447149 val=0.09375496727182571 | | mean_euclidean_error: tr=0.2672239090116969 val=0.2677037421078959 | \n",
      "[289/400] tr time: 0:00:01.519138 | mean_squared_error: tr=0.09311904106628507 val=0.09370309915337033 | | mean_euclidean_error: tr=0.26710456049333037 val=0.26755181586409776 | \n",
      "[290/400] tr time: 0:00:01.566600 | mean_squared_error: tr=0.09315141407014323 val=0.09383711735050074 | | mean_euclidean_error: tr=0.267154964753833 val=0.2677332246716137 | \n",
      "[291/400] tr time: 0:00:01.460716 | mean_squared_error: tr=0.09313961316447077 val=0.09376300040104985 | | mean_euclidean_error: tr=0.2672293431437234 val=0.2677147464426855 | \n",
      "[292/400] tr time: 0:00:01.527932 | mean_squared_error: tr=0.09312718726109638 val=0.09375654100227489 | | mean_euclidean_error: tr=0.26714113968298686 val=0.2676485805588309 | \n",
      "[293/400] tr time: 0:00:01.695945 | mean_squared_error: tr=0.09315499718976497 val=0.09385123111349922 | | mean_euclidean_error: tr=0.26716533641999324 val=0.2677497985248354 | \n",
      "[294/400] tr time: 0:00:01.566633 | mean_squared_error: tr=0.09315014224397256 val=0.09379686724803364 | | mean_euclidean_error: tr=0.2672034873651443 val=0.2677116866052015 | \n",
      "[295/400] tr time: 0:00:01.432577 | mean_squared_error: tr=0.09313837318802355 val=0.09380708698240173 | | mean_euclidean_error: tr=0.26715200999258076 val=0.26770743526877017 | \n",
      "[296/400] tr time: 0:00:01.599155 | mean_squared_error: tr=0.09316135946699437 val=0.09388696754108672 | | mean_euclidean_error: tr=0.2671366913996848 val=0.2677633635100229 | \n",
      "[297/400] tr time: 0:00:01.562298 | mean_squared_error: tr=0.09319924492823921 val=0.09397436695974427 | | mean_euclidean_error: tr=0.2671702588909744 val=0.2678381718937127 | \n",
      "[298/400] tr time: 0:00:01.543565 | mean_squared_error: tr=0.0932128966898321 val=0.09403370723219234 | | mean_euclidean_error: tr=0.26717321797526106 val=0.26790565179652487 | \n",
      "[299/400] tr time: 0:00:01.563417 | mean_squared_error: tr=0.09322692199003833 val=0.09406420252588152 | | mean_euclidean_error: tr=0.26713893354450574 val=0.26789298334021283 | \n",
      "[300/400] tr time: 0:00:01.431197 | mean_squared_error: tr=0.09325540805939593 val=0.09414838583362094 | | mean_euclidean_error: tr=0.26715508560226703 val=0.26797908765239814 | \n"
     ]
    }
   ],
   "source": [
    "interesting_model = construct_obj('../data/net/models_4_smooth/', interesting_index, orig_df)"
   ]
  },
  {
   "cell_type": "code",
   "execution_count": 20,
   "metadata": {},
   "outputs": [],
   "source": [
    "with open('../data/net/models_4_smooth/models.json', 'w+') as file:\n",
    "    save_obj(interesting_model, file)"
   ]
  },
  {
   "cell_type": "code",
   "execution_count": 21,
   "metadata": {},
   "outputs": [],
   "source": [
    "interesting_model = load_obj('../data/net/models_4_smooth/models.json')"
   ]
  },
  {
   "cell_type": "code",
   "execution_count": 22,
   "metadata": {},
   "outputs": [],
   "source": [
    "df_im = pd.DataFrame(interesting_model)\n",
    "def take_data(x):\n",
    "    cols = ['training_mean_squared_error','validation_mean_squared_error','training_mean_euclidean_error','validation_mean_euclidean_error']\n",
    "    cols_name = ['tmse','vmse','tmee','vmee']\n",
    "    for i, c in enumerate(cols):\n",
    "        x[cols_name[i]] = x['stats'][c]\n",
    "        \n",
    "    return x\n",
    "df_im = df_im.apply(take_data, axis=1)\n",
    "df_im = df_im.drop(['stats'], axis=1)"
   ]
  },
  {
   "cell_type": "code",
   "execution_count": 23,
   "metadata": {},
   "outputs": [
    {
     "data": {
      "text/html": [
       "<div>\n",
       "<style scoped>\n",
       "    .dataframe tbody tr th:only-of-type {\n",
       "        vertical-align: middle;\n",
       "    }\n",
       "\n",
       "    .dataframe tbody tr th {\n",
       "        vertical-align: top;\n",
       "    }\n",
       "\n",
       "    .dataframe thead th {\n",
       "        text-align: right;\n",
       "    }\n",
       "</style>\n",
       "<table border=\"1\" class=\"dataframe\">\n",
       "  <thead>\n",
       "    <tr style=\"text-align: right;\">\n",
       "      <th></th>\n",
       "      <th>nn_file_name</th>\n",
       "      <th>index</th>\n",
       "      <th>model</th>\n",
       "      <th>top_name</th>\n",
       "      <th>std_prediction_tr</th>\n",
       "      <th>std_prediction_val</th>\n",
       "      <th>std_prediction_test</th>\n",
       "      <th>prediction_tr</th>\n",
       "      <th>prediction_val</th>\n",
       "      <th>prediction_test</th>\n",
       "      <th>std_tr_error</th>\n",
       "      <th>std_val_error</th>\n",
       "      <th>tr_error</th>\n",
       "      <th>val_error</th>\n",
       "      <th>tmse</th>\n",
       "      <th>vmse</th>\n",
       "      <th>tmee</th>\n",
       "      <th>vmee</th>\n",
       "    </tr>\n",
       "  </thead>\n",
       "  <tbody>\n",
       "    <tr>\n",
       "      <th>0</th>\n",
       "      <td>../data/net/models_4_smooth/32_sigmoid_0.json</td>\n",
       "      <td>0</td>\n",
       "      <td>id: 41 w: [ 0.04790888 -0.0415248   0.25646418...</td>\n",
       "      <td>32_sigmoid</td>\n",
       "      <td>[[ 0.43562075  1.00754399 -1.21514194]\\n [ 0.7...</td>\n",
       "      <td>[[ 0.601529   -0.25223633  1.50342988]\\n [ 1.2...</td>\n",
       "      <td>[[ 1.01632535 -0.84334922  1.17595384]\\n [ 0.4...</td>\n",
       "      <td>[[  0.16755795  13.41768854   4.90741639]\\n [ ...</td>\n",
       "      <td>[[ 4.48554294e+00 -2.32998637e+01  3.27102559e...</td>\n",
       "      <td>[[ 15.28117525 -40.5284376   29.36115776]\\n [ ...</td>\n",
       "      <td>0.267155</td>\n",
       "      <td>0.267979</td>\n",
       "      <td>5.644044</td>\n",
       "      <td>5.742377</td>\n",
       "      <td>[0.8878390426369559, 0.33179556961418255, 0.21...</td>\n",
       "      <td>[0.9754222513705557, 0.38755618782421547, 0.24...</td>\n",
       "      <td>[0.8739305164311919, 0.5186404064028767, 0.417...</td>\n",
       "      <td>[0.9204128151387495, 0.5641309554054975, 0.446...</td>\n",
       "    </tr>\n",
       "  </tbody>\n",
       "</table>\n",
       "</div>"
      ],
      "text/plain": [
       "                                    nn_file_name  index  \\\n",
       "0  ../data/net/models_4_smooth/32_sigmoid_0.json      0   \n",
       "\n",
       "                                               model    top_name  \\\n",
       "0  id: 41 w: [ 0.04790888 -0.0415248   0.25646418...  32_sigmoid   \n",
       "\n",
       "                                   std_prediction_tr  \\\n",
       "0  [[ 0.43562075  1.00754399 -1.21514194]\\n [ 0.7...   \n",
       "\n",
       "                                  std_prediction_val  \\\n",
       "0  [[ 0.601529   -0.25223633  1.50342988]\\n [ 1.2...   \n",
       "\n",
       "                                 std_prediction_test  \\\n",
       "0  [[ 1.01632535 -0.84334922  1.17595384]\\n [ 0.4...   \n",
       "\n",
       "                                       prediction_tr  \\\n",
       "0  [[  0.16755795  13.41768854   4.90741639]\\n [ ...   \n",
       "\n",
       "                                      prediction_val  \\\n",
       "0  [[ 4.48554294e+00 -2.32998637e+01  3.27102559e...   \n",
       "\n",
       "                                     prediction_test  std_tr_error  \\\n",
       "0  [[ 15.28117525 -40.5284376   29.36115776]\\n [ ...      0.267155   \n",
       "\n",
       "   std_val_error  tr_error  val_error  \\\n",
       "0       0.267979  5.644044   5.742377   \n",
       "\n",
       "                                                tmse  \\\n",
       "0  [0.8878390426369559, 0.33179556961418255, 0.21...   \n",
       "\n",
       "                                                vmse  \\\n",
       "0  [0.9754222513705557, 0.38755618782421547, 0.24...   \n",
       "\n",
       "                                                tmee  \\\n",
       "0  [0.8739305164311919, 0.5186404064028767, 0.417...   \n",
       "\n",
       "                                                vmee  \n",
       "0  [0.9204128151387495, 0.5641309554054975, 0.446...  "
      ]
     },
     "execution_count": 23,
     "metadata": {},
     "output_type": "execute_result"
    }
   ],
   "source": [
    "df_im"
   ]
  },
  {
   "cell_type": "code",
   "execution_count": 28,
   "metadata": {},
   "outputs": [
    {
     "data": {
      "image/png": "[encoded data removed]",
      "text/plain": [
       "<Figure size 1200x500 with 2 Axes>"
      ]
     },
     "metadata": {},
     "output_type": "display_data"
    }
   ],
   "source": [
    "metrics = [ErrorFunctions.mean_squared_error, ErrorFunctions.mean_euclidean_error]\n",
    "for dummy in interesting_model:\n",
    "    stats = dummy['stats']\n",
    "    fig, ax = plt.subplots(1, len(metrics), figsize=(12, 5))\n",
    "    plt.suptitle('Training Metrics ' + dummy['top_name'])\n",
    "    for i in range(len(metrics)):\n",
    "        multy_plot([stats['training_' + metrics[i].__name__], stats['validation_' + metrics[i].__name__]], \n",
    "                ['tr_' + metrics[i].__name__, 'val_' + metrics[i].__name__],\n",
    "                ax=ax[i])"
   ]
  },
  {
   "cell_type": "code",
   "execution_count": 25,
   "metadata": {},
   "outputs": [
    {
     "data": {
      "application/vnd.plotly.v1+json": {
       "config": {
        "plotlyServerURL": "https://plot.ly"
       },
       "data": [
        {
         "hovertemplate": "variable=32_sigmoidtmse<br>index=%{x}<br>value=%{y}<extra></extra>",
         "legendgroup": "32_sigmoidtmse",
         "line": {
          "color": "#636efa",
          "dash": "solid"
         },
         "marker": {
          "symbol": "circle"
         },
         "mode": "lines",
         "name": "32_sigmoidtmse",
         "showlegend": true,
         "type": "scattergl",
         "x": [
          0,
          1,
          2,
          3,
          4,
          5,
          6,
          7,
          8,
          9,
          10,
          11,
          12,
          13,
          14,
          15,
          16,
          17,
          18,
          19,
          20,
          21,
          22,
          23,
          24,
          25,
          26,
          27,
          28,
          29,
          30,
          31,
          32,
          33,
          34,
          35,
          36,
          37,
          38,
          39,
          40,
          41,
          42,
          43,
          44,
          45,
          46,
          47,
          48,
          49,
          50,
          51,
          52,
          53,
          54,
          55,
          56,
          57,
          58,
          59,
          60,
          61,
          62,
          63,
          64,
          65,
          66,
          67,
          68,
          69,
          70,
          71,
          72,
          73,
          74,
          75,
          76,
          77,
          78,
          79,
          80,
          81,
          82,
          83,
          84,
          85,
          86,
          87,
          88,
          89,
          90,
          91,
          92,
          93,
          94,
          95,
          96,
          97,
          98,
          99,
          100,
          101,
          102,
          103,
          104,
          105,
          106,
          107,
          108,
          109,
          110,
          111,
          112,
          113,
          114,
          115,
          116,
          117,
          118,
          119,
          120,
          121,
          122,
          123,
          124,
          125,
          126,
          127,
          128,
          129,
          130,
          131,
          132,
          133,
          134,
          135,
          136,
          137,
          138,
          139,
          140,
          141,
          142,
          143,
          144,
          145,
          146,
          147,
          148,
          149,
          150,
          151,
          152,
          153,
          154,
          155,
          156,
          157,
          158,
          159,
          160,
          161,
          162,
          163,
          164,
          165,
          166,
          167,
          168,
          169,
          170,
          171,
          172,
          173,
          174,
          175,
          176,
          177,
          178,
          179,
          180,
          181,
          182,
          183,
          184,
          185,
          186,
          187,
          188,
          189,
          190,
          191,
          192,
          193,
          194,
          195,
          196,
          197,
          198,
          199,
          200,
          201,
          202,
          203,
          204,
          205,
          206,
          207,
          208,
          209,
          210,
          211,
          212,
          213,
          214,
          215,
          216,
          217,
          218,
          219,
          220,
          221,
          222,
          223,
          224,
          225,
          226,
          227,
          228,
          229,
          230,
          231,
          232,
          233,
          234,
          235,
          236,
          237,
          238,
          239,
          240,
          241,
          242,
          243,
          244,
          245,
          246,
          247,
          248,
          249,
          250,
          251,
          252,
          253,
          254,
          255,
          256,
          257,
          258,
          259,
          260,
          261,
          262,
          263,
          264,
          265,
          266,
          267,
          268,
          269,
          270,
          271,
          272,
          273,
          274,
          275,
          276,
          277,
          278,
          279,
          280,
          281,
          282,
          283,
          284,
          285,
          286,
          287,
          288,
          289,
          290,
          291,
          292,
          293,
          294,
          295,
          296,
          297,
          298,
          299
         ],
         "xaxis": "x",
         "y": [
          0.8878390426369559,
          0.33179556961418255,
          0.21418208352738244,
          0.17628531711216805,
          0.16047342671958206,
          0.15024047837005267,
          0.14447900392277313,
          0.1386370691816845,
          0.13596842056869923,
          0.13269819333217395,
          0.13110270259022433,
          0.1290437561196404,
          0.1272295258999887,
          0.12656391665332237,
          0.12441812213998442,
          0.12332037355162936,
          0.12370029968316945,
          0.1217748199659487,
          0.12127627607759413,
          0.12041811914211631,
          0.12056285249416919,
          0.11965373286347886,
          0.11920889119358148,
          0.11916983073775146,
          0.1177727194644525,
          0.11732316756785348,
          0.11808884871636859,
          0.11663936655303024,
          0.11625921220108054,
          0.115821263315006,
          0.11617608915497853,
          0.11542610884257927,
          0.11530832628008439,
          0.11534247235839139,
          0.11421750793791575,
          0.11399897660536934,
          0.11481169027907254,
          0.11358375487875855,
          0.11320414975550185,
          0.1129629584837107,
          0.11332319677093726,
          0.11262928481765769,
          0.11264801128833839,
          0.11266763428569797,
          0.11171770661575132,
          0.11161245240003533,
          0.11239952431057504,
          0.1113253835790922,
          0.11092975757745127,
          0.11080655037633956,
          0.11112569193494837,
          0.11047161484854354,
          0.11055092583721718,
          0.11053967170185218,
          0.10972442083004626,
          0.10967610603606297,
          0.11042370854229941,
          0.10947182850158958,
          0.10906097935181493,
          0.10901733313714838,
          0.10929033328057056,
          0.10867515172663192,
          0.10877803675966272,
          0.10874020667001225,
          0.10803346121850364,
          0.10801117372561525,
          0.10872249429541565,
          0.10787239952811684,
          0.10744967471142451,
          0.10746344148567848,
          0.1076965193321457,
          0.10712113173811971,
          0.10722794803102244,
          0.10717318566245669,
          0.10655423364946591,
          0.10653992070938019,
          0.10722151124247174,
          0.10645806203706201,
          0.10602554095403091,
          0.10608218685836059,
          0.10628338160760636,
          0.10574777308155457,
          0.10584767981062435,
          0.10578556112977029,
          0.10523728878050134,
          0.10522024896541006,
          0.10587760511061386,
          0.10518932014995303,
          0.10474761530783569,
          0.1048366464000836,
          0.10501288384474908,
          0.10451593935944566,
          0.10460303345113621,
          0.10454124637886897,
          0.10404965996084646,
          0.10402388352434794,
          0.10466037470160311,
          0.10403854917800542,
          0.10358762914326723,
          0.10370094626698406,
          0.10385736456075739,
          0.10339724058316506,
          0.10346864715929908,
          0.10341261620929502,
          0.10296652859775278,
          0.10292926062696607,
          0.10354623272405333,
          0.10298424307524268,
          0.10252424580097105,
          0.10265530808386315,
          0.10279536311875825,
          0.10236986823207155,
          0.10242470768082906,
          0.10237778807189721,
          0.10196846832895101,
          0.10191930682383575,
          0.1025165164260687,
          0.10200924810213946,
          0.10154099168248504,
          0.10168435864912319,
          0.1018101488326881,
          0.10141699998465167,
          0.1014557730183858,
          0.10141961918047873,
          0.10104042522432909,
          0.10098066729067164,
          0.10155673811435015,
          0.10110014092330434,
          0.10062534567585485,
          0.10077641505961529,
          0.10088902034193323,
          0.10052597633372587,
          0.10055016065690929,
          0.10052509793506545,
          0.10017113421375083,
          0.10010325347541073,
          0.1006560628114226,
          0.10024682411778561,
          0.09976814390379528,
          0.0999229964258858,
          0.10002277051061528,
          0.09968768388128307,
          0.09969944347354223,
          0.09968478330113252,
          0.0993526063536086,
          0.09927981176749147,
          0.09980679790675198,
          0.09944211080209366,
          0.09896306475687808,
          0.09911836756482326,
          0.09920517719771638,
          0.09889600763447305,
          0.0988979634280277,
          0.09889225457571027,
          0.09857962994476194,
          0.09850548192771959,
          0.0990038895861473,
          0.09868128985846047,
          0.09820615489254958,
          0.09835909578204383,
          0.09843251865568749,
          0.09814733995930852,
          0.0981423737711083,
          0.0981436036270307,
          0.09784930478326263,
          0.0977773763256622,
          0.09824446035617972,
          0.09796170809233896,
          0.0974954027255232,
          0.09764363907944816,
          0.0977031351084149,
          0.09744015459872134,
          0.09743123077982531,
          0.09743699699972394,
          0.097160629849909,
          0.09709420863612649,
          0.09752741164279904,
          0.09728239673042088,
          0.09683036396061877,
          0.09697197770392789,
          0.09701704647848293,
          0.09677464475279302,
          0.09676464185500852,
          0.09677231445154785,
          0.09651414824357474,
          0.0964559838478246,
          0.0968530966653565,
          0.09664375091534405,
          0.09621183154669412,
          0.09634528632632935,
          0.09637561950722653,
          0.09615241075116661,
          0.09614396094826108,
          0.0961508516613035,
          0.09591163828721465,
          0.09586374620494661,
          0.09622305375510273,
          0.09604725630486621,
          0.09564153331179567,
          0.09576563376773088,
          0.09578126554200832,
          0.09557617404530465,
          0.09557151216033515,
          0.09557506311809412,
          0.09535583241119994,
          0.09531937231703316,
          0.09563978180384088,
          0.09549525054589704,
          0.09512183938788882,
          0.09523569539326918,
          0.09523714669527931,
          0.0950494931952294,
          0.095050320561393,
          0.09504831834977304,
          0.09485014767096357,
          0.09482539409106178,
          0.09510653807114318,
          0.0949907104016357,
          0.09465547045932206,
          0.09475847137099236,
          0.09474687484783667,
          0.09457646529004192,
          0.09458383672709698,
          0.09457465160821203,
          0.09439842424382118,
          0.09438484055480843,
          0.09462714430676043,
          0.09453706768685673,
          0.0942452173758041,
          0.0943370213446879,
          0.09431420646587996,
          0.09416141256975828,
          0.09417565785172567,
          0.0941585016759764,
          0.09400469040819827,
          0.09400109916778872,
          0.09420580026993465,
          0.09413807755652634,
          0.09389371172163019,
          0.093974250650154,
          0.09394276779560552,
          0.09380857843063142,
          0.09382927279863743,
          0.09380446298935613,
          0.09367300313884264,
          0.09367781741087554,
          0.09384692550198176,
          0.09379778858353283,
          0.09360332449882913,
          0.09367281429217661,
          0.09363589301747291,
          0.09352189418461544,
          0.09354789426255193,
          0.09351710275755773,
          0.09340745493358588,
          0.09341890346325049,
          0.09355508842597995,
          0.09352069669845245,
          0.09337632194617597,
          0.09343525273682153,
          0.09339673355946869,
          0.0933049535072091,
          0.09333451061962564,
          0.09330096226276192,
          0.09321250957000252,
          0.09322877709477173,
          0.0933351729604925,
          0.0933122301581568,
          0.0932155093662608,
          0.09326458860357714,
          0.09322893946353535,
          0.09316152982189721,
          0.09319248086168379,
          0.09316105658484672,
          0.09309401489439637,
          0.0931132957920391,
          0.09319322404796511,
          0.09317994191448743,
          0.09312589581971147,
          0.09316598381885648,
          0.0931385970418476,
          0.09309753970526931,
          0.09312762028248145,
          0.09310492185381435,
          0.09306188947779886,
          0.09308269259092006,
          0.09313947039474295,
          0.09313680021447149,
          0.09311904106628507,
          0.09315141407014323,
          0.09313961316447077,
          0.09312718726109638,
          0.09315499718976497,
          0.09315014224397256,
          0.09313837318802355,
          0.09316135946699437,
          0.09319924492823921,
          0.0932128966898321,
          0.09322692199003833,
          0.09325540805939593
         ],
         "yaxis": "y"
        },
        {
         "hovertemplate": "variable=32_sigmoidvmse<br>index=%{x}<br>value=%{y}<extra></extra>",
         "legendgroup": "32_sigmoidvmse",
         "line": {
          "color": "#EF553B",
          "dash": "solid"
         },
         "marker": {
          "symbol": "circle"
         },
         "mode": "lines",
         "name": "32_sigmoidvmse",
         "showlegend": true,
         "type": "scattergl",
         "x": [
          0,
          1,
          2,
          3,
          4,
          5,
          6,
          7,
          8,
          9,
          10,
          11,
          12,
          13,
          14,
          15,
          16,
          17,
          18,
          19,
          20,
          21,
          22,
          23,
          24,
          25,
          26,
          27,
          28,
          29,
          30,
          31,
          32,
          33,
          34,
          35,
          36,
          37,
          38,
          39,
          40,
          41,
          42,
          43,
          44,
          45,
          46,
          47,
          48,
          49,
          50,
          51,
          52,
          53,
          54,
          55,
          56,
          57,
          58,
          59,
          60,
          61,
          62,
          63,
          64,
          65,
          66,
          67,
          68,
          69,
          70,
          71,
          72,
          73,
          74,
          75,
          76,
          77,
          78,
          79,
          80,
          81,
          82,
          83,
          84,
          85,
          86,
          87,
          88,
          89,
          90,
          91,
          92,
          93,
          94,
          95,
          96,
          97,
          98,
          99,
          100,
          101,
          102,
          103,
          104,
          105,
          106,
          107,
          108,
          109,
          110,
          111,
          112,
          113,
          114,
          115,
          116,
          117,
          118,
          119,
          120,
          121,
          122,
          123,
          124,
          125,
          126,
          127,
          128,
          129,
          130,
          131,
          132,
          133,
          134,
          135,
          136,
          137,
          138,
          139,
          140,
          141,
          142,
          143,
          144,
          145,
          146,
          147,
          148,
          149,
          150,
          151,
          152,
          153,
          154,
          155,
          156,
          157,
          158,
          159,
          160,
          161,
          162,
          163,
          164,
          165,
          166,
          167,
          168,
          169,
          170,
          171,
          172,
          173,
          174,
          175,
          176,
          177,
          178,
          179,
          180,
          181,
          182,
          183,
          184,
          185,
          186,
          187,
          188,
          189,
          190,
          191,
          192,
          193,
          194,
          195,
          196,
          197,
          198,
          199,
          200,
          201,
          202,
          203,
          204,
          205,
          206,
          207,
          208,
          209,
          210,
          211,
          212,
          213,
          214,
          215,
          216,
          217,
          218,
          219,
          220,
          221,
          222,
          223,
          224,
          225,
          226,
          227,
          228,
          229,
          230,
          231,
          232,
          233,
          234,
          235,
          236,
          237,
          238,
          239,
          240,
          241,
          242,
          243,
          244,
          245,
          246,
          247,
          248,
          249,
          250,
          251,
          252,
          253,
          254,
          255,
          256,
          257,
          258,
          259,
          260,
          261,
          262,
          263,
          264,
          265,
          266,
          267,
          268,
          269,
          270,
          271,
          272,
          273,
          274,
          275,
          276,
          277,
          278,
          279,
          280,
          281,
          282,
          283,
          284,
          285,
          286,
          287,
          288,
          289,
          290,
          291,
          292,
          293,
          294,
          295,
          296,
          297,
          298,
          299
         ],
         "xaxis": "x",
         "y": [
          0.9754222513705557,
          0.38755618782421547,
          0.24672000604200373,
          0.19320428805790346,
          0.17161900957895315,
          0.1580216365797198,
          0.1521951503816795,
          0.1441571958094252,
          0.13955767187356233,
          0.139364791029165,
          0.1349920392722176,
          0.13096110472673694,
          0.13088944308442724,
          0.12845474573936094,
          0.12627386914128538,
          0.12513865622839565,
          0.12659424304638175,
          0.12343100205793617,
          0.12134208604658926,
          0.12360272871171517,
          0.12161850824939774,
          0.11898315916465468,
          0.12029042100145894,
          0.11881457503296781,
          0.11750070859773733,
          0.11714029635833541,
          0.11904439800715962,
          0.11661158375895607,
          0.114738747652727,
          0.11723889278509667,
          0.11574446144017847,
          0.11353500173824994,
          0.11505910229331234,
          0.113844528584597,
          0.11290331685143054,
          0.1127935120420097,
          0.11471049320762504,
          0.11269907021657559,
          0.11096152819100301,
          0.11341684649808785,
          0.11210354889029063,
          0.11020884504626574,
          0.1117361697700814,
          0.1106200966439639,
          0.10993204998100534,
          0.10993956944185575,
          0.11173675900435212,
          0.11003410779406574,
          0.10842549058317867,
          0.11074275604763126,
          0.10951246839215399,
          0.10788608710405782,
          0.10933829125174893,
          0.10826692274895144,
          0.10776733543188807,
          0.10783470217808797,
          0.10947616569961989,
          0.10801436407077006,
          0.1065282845936884,
          0.10868193679337868,
          0.10750124615411012,
          0.10610769417189586,
          0.1074567123134125,
          0.10641619856001074,
          0.10605843298203363,
          0.10615719717159346,
          0.10764609063190439,
          0.10637575143076586,
          0.10499940844117069,
          0.10699240816173208,
          0.10585040275247914,
          0.1046571796539682,
          0.10589801360115418,
          0.10488920222598268,
          0.10463644303278934,
          0.10475193386728507,
          0.10610558032890814,
          0.10498941901163604,
          0.1037053676010288,
          0.10555153552578721,
          0.10444519068050867,
          0.10342215468686373,
          0.10456022914014888,
          0.10358837054271339,
          0.10341120543818941,
          0.1035359811493446,
          0.10477483307062067,
          0.10378516380870051,
          0.10257464803844626,
          0.10429040668025667,
          0.10321927336283628,
          0.10233921769166417,
          0.10338398005473745,
          0.10245451534555458,
          0.10232970773891403,
          0.10246039510158582,
          0.1036033533079181,
          0.10272012024940655,
          0.1015658079195119,
          0.10316648133103216,
          0.10213080784668298,
          0.10136987277353203,
          0.10233159308980606,
          0.10144863702291441,
          0.10135809080887102,
          0.10149372395182087,
          0.10255646163392691,
          0.10176539526805914,
          0.10065297777952006,
          0.10215134721521335,
          0.10115150315850648,
          0.10048922627840433,
          0.10137750649852921,
          0.1005435411251467,
          0.10047335613590651,
          0.10061441665359849,
          0.10160910460618477,
          0.10090013444837216,
          0.09981896726764806,
          0.10122492833898399,
          0.10026128957501139,
          0.09968038610011433,
          0.10050356149757592,
          0.09971961507029901,
          0.0996592799687844,
          0.09980707759414642,
          0.10074270664753149,
          0.10010871480592815,
          0.0990518542266344,
          0.10037258853775426,
          0.09944555313875576,
          0.09893155779504605,
          0.09969653937016011,
          0.09896249569062178,
          0.09890424146904292,
          0.099060466237999,
          0.0999433670232884,
          0.09937926620026642,
          0.09834320338161284,
          0.0995835676063523,
          0.09869358820046728,
          0.09823446301207714,
          0.09894678093428946,
          0.09826166577409506,
          0.09819996894836558,
          0.09836633341829637,
          0.09920070738097958,
          0.09870277795803843,
          0.09768706179824477,
          0.09885004691700441,
          0.09799765303787489,
          0.0975834270084285,
          0.09824735397615714,
          0.09760955221741645,
          0.09754076006961188,
          0.09771869195915679,
          0.09850707849305478,
          0.09807249242450201,
          0.09707934028917574,
          0.09816653060690791,
          0.09735234751105255,
          0.09697482235069319,
          0.09759351967019123,
          0.09700092843163738,
          0.09692297440619502,
          0.09711334175255058,
          0.09785700018989059,
          0.09748347011329457,
          0.0965174032122799,
          0.09752940275589608,
          0.09675418337421687,
          0.09640671752710168,
          0.09698237993853498,
          0.09643252402795785,
          0.09634470273275705,
          0.0965475673083835,
          0.09724677600887884,
          0.09693228138493021,
          0.09599978351397079,
          0.09693659424731094,
          0.09620128182960581,
          0.09587865174537902,
          0.09641264421068274,
          0.09590278571376103,
          0.09580556051350955,
          0.0960199664523438,
          0.09667425011441058,
          0.09641680268320886,
          0.09552597889124151,
          0.09638732085323043,
          0.09569315554979407,
          0.09539148597157636,
          0.09588447493518944,
          0.09541174652299521,
          0.09530656773120152,
          0.09553038333205015,
          0.09613868267503844,
          0.09593610068132094,
          0.09509630100470924,
          0.0958818651393219,
          0.0952305381985979,
          0.09494729009751145,
          0.09539937724980951,
          0.09496096267869585,
          0.09485008139194039,
          0.09507992298028531,
          0.09564072254369566,
          0.09549038939221306,
          0.09471176017112036,
          0.09542138467825852,
          0.09481522774231337,
          0.09454923164125095,
          0.09496010165694008,
          0.09455347913415009,
          0.09443975143336257,
          0.09467102749148744,
          0.09518245939128363,
          0.09508105165504444,
          0.09437398305891477,
          0.09500774723518808,
          0.09444992069124214,
          0.09420144219684053,
          0.09457053757131888,
          0.09419379441816947,
          0.0940804827595619,
          0.09430760149469836,
          0.09476754667919991,
          0.09471073381365755,
          0.0940851870946,
          0.09464342646757343,
          0.09413804225113154,
          0.09390886130870174,
          0.09423559690372879,
          0.09388782031414758,
          0.09377841190054866,
          0.09399519155395407,
          0.0944014078936154,
          0.09438355702940517,
          0.09384827734031764,
          0.09433154469307731,
          0.09388363439061594,
          0.0936771019106923,
          0.09396112877096705,
          0.09364288115957375,
          0.09354095522646404,
          0.09374125550250276,
          0.09409158048877783,
          0.09410554910525287,
          0.09366719666764878,
          0.0940762305563307,
          0.09369147256285747,
          0.0935124661181763,
          0.09375398727349839,
          0.09346789055171793,
          0.09337708147790481,
          0.09355561975939415,
          0.09384833557835183,
          0.09388550873388696,
          0.09354777225601686,
          0.09388359033450094,
          0.09356779205723316,
          0.09342242505158306,
          0.09362254576736756,
          0.09337403753731023,
          0.0932981826360283,
          0.09345138458073969,
          0.09368589582291922,
          0.09373674075103326,
          0.09349955215354892,
          0.09376384408805294,
          0.09352243009943541,
          0.09341734356389117,
          0.09357837130506799,
          0.09337678331264637,
          0.09332048885490332,
          0.09344706644075548,
          0.09362506240877862,
          0.09368067035530646,
          0.09353982868556324,
          0.09373582754827421,
          0.09357411690695838,
          0.0935154795001709,
          0.09364096988410428,
          0.09350124429315942,
          0.09347150128243768,
          0.09357256406130493,
          0.09369963725560007,
          0.09375496727182571,
          0.09370309915337033,
          0.09383711735050074,
          0.09376300040104985,
          0.09375654100227489,
          0.09385123111349922,
          0.09379686724803364,
          0.09380708698240173,
          0.09388696754108672,
          0.09397436695974427,
          0.09403370723219234,
          0.09406420252588152,
          0.09414838583362094
         ],
         "yaxis": "y"
        },
        {
         "hovertemplate": "variable=32_sigmoidtmee<br>index=%{x}<br>value=%{y}<extra></extra>",
         "legendgroup": "32_sigmoidtmee",
         "line": {
          "color": "#00cc96",
          "dash": "solid"
         },
         "marker": {
          "symbol": "circle"
         },
         "mode": "lines",
         "name": "32_sigmoidtmee",
         "showlegend": true,
         "type": "scattergl",
         "x": [
          0,
          1,
          2,
          3,
          4,
          5,
          6,
          7,
          8,
          9,
          10,
          11,
          12,
          13,
          14,
          15,
          16,
          17,
          18,
          19,
          20,
          21,
          22,
          23,
          24,
          25,
          26,
          27,
          28,
          29,
          30,
          31,
          32,
          33,
          34,
          35,
          36,
          37,
          38,
          39,
          40,
          41,
          42,
          43,
          44,
          45,
          46,
          47,
          48,
          49,
          50,
          51,
          52,
          53,
          54,
          55,
          56,
          57,
          58,
          59,
          60,
          61,
          62,
          63,
          64,
          65,
          66,
          67,
          68,
          69,
          70,
          71,
          72,
          73,
          74,
          75,
          76,
          77,
          78,
          79,
          80,
          81,
          82,
          83,
          84,
          85,
          86,
          87,
          88,
          89,
          90,
          91,
          92,
          93,
          94,
          95,
          96,
          97,
          98,
          99,
          100,
          101,
          102,
          103,
          104,
          105,
          106,
          107,
          108,
          109,
          110,
          111,
          112,
          113,
          114,
          115,
          116,
          117,
          118,
          119,
          120,
          121,
          122,
          123,
          124,
          125,
          126,
          127,
          128,
          129,
          130,
          131,
          132,
          133,
          134,
          135,
          136,
          137,
          138,
          139,
          140,
          141,
          142,
          143,
          144,
          145,
          146,
          147,
          148,
          149,
          150,
          151,
          152,
          153,
          154,
          155,
          156,
          157,
          158,
          159,
          160,
          161,
          162,
          163,
          164,
          165,
          166,
          167,
          168,
          169,
          170,
          171,
          172,
          173,
          174,
          175,
          176,
          177,
          178,
          179,
          180,
          181,
          182,
          183,
          184,
          185,
          186,
          187,
          188,
          189,
          190,
          191,
          192,
          193,
          194,
          195,
          196,
          197,
          198,
          199,
          200,
          201,
          202,
          203,
          204,
          205,
          206,
          207,
          208,
          209,
          210,
          211,
          212,
          213,
          214,
          215,
          216,
          217,
          218,
          219,
          220,
          221,
          222,
          223,
          224,
          225,
          226,
          227,
          228,
          229,
          230,
          231,
          232,
          233,
          234,
          235,
          236,
          237,
          238,
          239,
          240,
          241,
          242,
          243,
          244,
          245,
          246,
          247,
          248,
          249,
          250,
          251,
          252,
          253,
          254,
          255,
          256,
          257,
          258,
          259,
          260,
          261,
          262,
          263,
          264,
          265,
          266,
          267,
          268,
          269,
          270,
          271,
          272,
          273,
          274,
          275,
          276,
          277,
          278,
          279,
          280,
          281,
          282,
          283,
          284,
          285,
          286,
          287,
          288,
          289,
          290,
          291,
          292,
          293,
          294,
          295,
          296,
          297,
          298,
          299
         ],
         "xaxis": "x",
         "y": [
          0.8739305164311919,
          0.5186404064028767,
          0.4174920079015187,
          0.3800868951676615,
          0.3624333820093366,
          0.3491603373802522,
          0.3413408403504186,
          0.33360615919117986,
          0.32833266932793603,
          0.324685248378935,
          0.32338838139261555,
          0.3179302271271528,
          0.31557609318034435,
          0.315340760485511,
          0.31088223955223604,
          0.3089279784736365,
          0.31036408864145626,
          0.3079290151624583,
          0.3053880439533077,
          0.30585076197293415,
          0.3075646863749086,
          0.3033983265115776,
          0.3033866923997939,
          0.3042553396129852,
          0.30087965219426605,
          0.29993747081966554,
          0.3020745589131908,
          0.3003695778829918,
          0.297942667007652,
          0.2990594680068334,
          0.30110458287584024,
          0.2972803902489291,
          0.29777802890296184,
          0.2987385982298869,
          0.2958676935084505,
          0.2952415464613549,
          0.2973619979813882,
          0.2960054745616936,
          0.2936177492925108,
          0.29492128820417923,
          0.29693205268551004,
          0.29336418245867774,
          0.29404749415677217,
          0.29494341128328705,
          0.29244258018491803,
          0.29197200087236297,
          0.29393095030003547,
          0.29281032454863226,
          0.2904874196972274,
          0.2918301041591551,
          0.2937329573482601,
          0.29040280541103847,
          0.29114147837829074,
          0.2919505139205653,
          0.2897510084653856,
          0.28935330641634055,
          0.2911410910621265,
          0.2901974397499564,
          0.2879541175163098,
          0.2892750608017335,
          0.2910660227876194,
          0.28796652556551955,
          0.28869499447592545,
          0.2894306440662522,
          0.28748083541877795,
          0.28710692719890524,
          0.28874952849387553,
          0.28794303428079937,
          0.28578291971699127,
          0.28705736578863783,
          0.28875056922316866,
          0.2858716939510737,
          0.286555242074906,
          0.2872377397979997,
          0.28549574097105224,
          0.2851159852198876,
          0.2866434107767573,
          0.2859455326483575,
          0.28386703577953865,
          0.28508484527457495,
          0.28669552060070896,
          0.28402505934167893,
          0.28464555379729883,
          0.2852928293006121,
          0.2837241820585725,
          0.2833216411067727,
          0.2847584108460575,
          0.2841489210749703,
          0.2821486966043716,
          0.2833049274561784,
          0.2848447478569833,
          0.28237038848002255,
          0.2829194247410897,
          0.28354552250514364,
          0.28212117933211434,
          0.2816878990967505,
          0.28305123502382107,
          0.2825165103655583,
          0.2805899474454997,
          0.2816820955984728,
          0.28315833140748037,
          0.2808687583149463,
          0.2813441521848361,
          0.2819585125701069,
          0.2806546189283618,
          0.28019063019370744,
          0.2814899221792649,
          0.28102073298630836,
          0.2791628983348238,
          0.28018984759139637,
          0.28160581195804435,
          0.27949101050817327,
          0.27989441627081746,
          0.28050070527610804,
          0.2793000935293201,
          0.27881109038154167,
          0.28004899710308045,
          0.2796375152857213,
          0.27784640548150175,
          0.27880762280545895,
          0.28016367692685895,
          0.27821475393533357,
          0.2785496908485536,
          0.279148503669501,
          0.27803886544944817,
          0.2775300393074653,
          0.2787076094759587,
          0.27834799877559685,
          0.27662435390952156,
          0.27751945704078346,
          0.2788142246952712,
          0.27702302367267984,
          0.27729415353505343,
          0.27788460706271206,
          0.2768569138728409,
          0.276334588694461,
          0.2774503919327082,
          0.2771385285074534,
          0.27548476849242975,
          0.27631342201382364,
          0.2775447225010817,
          0.27590347077875793,
          0.27611654326338597,
          0.27669664681320394,
          0.2757442865335103,
          0.275216027142644,
          0.27626683274539693,
          0.27599955323930725,
          0.27441924374328247,
          0.2751813352548086,
          0.27634653600500997,
          0.27484769945440285,
          0.2750094805904665,
          0.2755763143328414,
          0.274694516652523,
          0.2741686987893417,
          0.2751503139697636,
          0.274924922228152,
          0.27342244858626474,
          0.2741183230396534,
          0.27521436690921214,
          0.2738506658490453,
          0.27396877416352877,
          0.2745186473652418,
          0.2737040703400854,
          0.2731894223477793,
          0.2740973684733321,
          0.2739113141489783,
          0.27249165743392406,
          0.27312226266910133,
          0.2741457810550609,
          0.27291014350619663,
          0.27299281852768503,
          0.2735214273886819,
          0.2727718409260063,
          0.27227699421580154,
          0.273107077840779,
          0.27295773869106366,
          0.2716263158056168,
          0.2721932416029473,
          0.2731408193603583,
          0.2720262659099937,
          0.27208208087349284,
          0.2725846852903422,
          0.2718987003582143,
          0.27143175815265513,
          0.2721805744139783,
          0.2720651052959665,
          0.27082764160977046,
          0.2713330714113438,
          0.2722015289790544,
          0.2712011366513267,
          0.2712386567117988,
          0.2717102948666452,
          0.27108709789906865,
          0.27065524000211527,
          0.2713206136391151,
          0.2712358416997102,
          0.2700982390868032,
          0.2705448310425096,
          0.2713314631656192,
          0.27043847669204574,
          0.2704658538696186,
          0.27090160859182255,
          0.27034068016738616,
          0.2699498274492975,
          0.2705311668773652,
          0.270473525362703,
          0.26944168117254036,
          0.26983239437544304,
          0.27053516742918166,
          0.26974326187673703,
          0.26976774663359354,
          0.27016307045630333,
          0.2696638982412785,
          0.2693184564547191,
          0.2698169822273085,
          0.2697824777485645,
          0.2688620066112906,
          0.26919990631565477,
          0.2698176168158071,
          0.269121288453969,
          0.269148647082435,
          0.26949973683738215,
          0.2690615636366332,
          0.26876425575756796,
          0.2691830790455814,
          0.2691672787210382,
          0.26836309619075144,
          0.268651209376123,
          0.2691835947383051,
          0.26857858846885446,
          0.2686124978858563,
          0.26891666681224263,
          0.2685383139558682,
          0.26829011569972705,
          0.2686341633346259,
          0.26863221015499245,
          0.26794796411262445,
          0.26818926854534575,
          0.2686370718440136,
          0.2681206377407204,
          0.26816227230688217,
          0.26841822429200624,
          0.2680979829442253,
          0.26789820397470365,
          0.268173976604114,
          0.26818072962582773,
          0.26761810546859593,
          0.26781564122444457,
          0.26818065284747994,
          0.26775142761154913,
          0.2677994439436939,
          0.26800739031816,
          0.267742996988012,
          0.26758949629286305,
          0.26780460110906285,
          0.2678150649241944,
          0.2673730442651883,
          0.26752997285502406,
          0.26781508033314744,
          0.26747258876491997,
          0.2675234554962194,
          0.2676850452798178,
          0.2674739943174293,
          0.2673633281152452,
          0.26752566701168506,
          0.2675357726577349,
          0.26721003500490975,
          0.2673294269131768,
          0.267538692381733,
          0.2672825900544491,
          0.2673310548596678,
          0.2674489693964375,
          0.2672895328299409,
          0.2672168629836335,
          0.26733334590910013,
          0.26734083064051406,
          0.2671236130846427,
          0.26720791292495283,
          0.26734660097650575,
          0.26717579467967933,
          0.2672154347289162,
          0.2672924587667905,
          0.26718522535689393,
          0.26714437211481584,
          0.26721924075039777,
          0.2672239090116969,
          0.26710456049333037,
          0.267154964753833,
          0.2672293431437234,
          0.26714113968298686,
          0.26716533641999324,
          0.2672034873651443,
          0.26715200999258076,
          0.2671366913996848,
          0.2671702588909744,
          0.26717321797526106,
          0.26713893354450574,
          0.26715508560226703
         ],
         "yaxis": "y"
        },
        {
         "hovertemplate": "variable=32_sigmoidvmee<br>index=%{x}<br>value=%{y}<extra></extra>",
         "legendgroup": "32_sigmoidvmee",
         "line": {
          "color": "#ab63fa",
          "dash": "solid"
         },
         "marker": {
          "symbol": "circle"
         },
         "mode": "lines",
         "name": "32_sigmoidvmee",
         "showlegend": true,
         "type": "scattergl",
         "x": [
          0,
          1,
          2,
          3,
          4,
          5,
          6,
          7,
          8,
          9,
          10,
          11,
          12,
          13,
          14,
          15,
          16,
          17,
          18,
          19,
          20,
          21,
          22,
          23,
          24,
          25,
          26,
          27,
          28,
          29,
          30,
          31,
          32,
          33,
          34,
          35,
          36,
          37,
          38,
          39,
          40,
          41,
          42,
          43,
          44,
          45,
          46,
          47,
          48,
          49,
          50,
          51,
          52,
          53,
          54,
          55,
          56,
          57,
          58,
          59,
          60,
          61,
          62,
          63,
          64,
          65,
          66,
          67,
          68,
          69,
          70,
          71,
          72,
          73,
          74,
          75,
          76,
          77,
          78,
          79,
          80,
          81,
          82,
          83,
          84,
          85,
          86,
          87,
          88,
          89,
          90,
          91,
          92,
          93,
          94,
          95,
          96,
          97,
          98,
          99,
          100,
          101,
          102,
          103,
          104,
          105,
          106,
          107,
          108,
          109,
          110,
          111,
          112,
          113,
          114,
          115,
          116,
          117,
          118,
          119,
          120,
          121,
          122,
          123,
          124,
          125,
          126,
          127,
          128,
          129,
          130,
          131,
          132,
          133,
          134,
          135,
          136,
          137,
          138,
          139,
          140,
          141,
          142,
          143,
          144,
          145,
          146,
          147,
          148,
          149,
          150,
          151,
          152,
          153,
          154,
          155,
          156,
          157,
          158,
          159,
          160,
          161,
          162,
          163,
          164,
          165,
          166,
          167,
          168,
          169,
          170,
          171,
          172,
          173,
          174,
          175,
          176,
          177,
          178,
          179,
          180,
          181,
          182,
          183,
          184,
          185,
          186,
          187,
          188,
          189,
          190,
          191,
          192,
          193,
          194,
          195,
          196,
          197,
          198,
          199,
          200,
          201,
          202,
          203,
          204,
          205,
          206,
          207,
          208,
          209,
          210,
          211,
          212,
          213,
          214,
          215,
          216,
          217,
          218,
          219,
          220,
          221,
          222,
          223,
          224,
          225,
          226,
          227,
          228,
          229,
          230,
          231,
          232,
          233,
          234,
          235,
          236,
          237,
          238,
          239,
          240,
          241,
          242,
          243,
          244,
          245,
          246,
          247,
          248,
          249,
          250,
          251,
          252,
          253,
          254,
          255,
          256,
          257,
          258,
          259,
          260,
          261,
          262,
          263,
          264,
          265,
          266,
          267,
          268,
          269,
          270,
          271,
          272,
          273,
          274,
          275,
          276,
          277,
          278,
          279,
          280,
          281,
          282,
          283,
          284,
          285,
          286,
          287,
          288,
          289,
          290,
          291,
          292,
          293,
          294,
          295,
          296,
          297,
          298,
          299
         ],
         "xaxis": "x",
         "y": [
          0.9204128151387495,
          0.5641309554054975,
          0.446280823339252,
          0.3932209093299726,
          0.3699357413760324,
          0.35307786143432934,
          0.34485178780042786,
          0.335562675493929,
          0.3281621229228875,
          0.32801270054608495,
          0.32449401940049233,
          0.31690563582878967,
          0.3168223672047931,
          0.3148429207787163,
          0.3109637379593314,
          0.30954276452733726,
          0.3114229497028889,
          0.30839702337868535,
          0.304255917522748,
          0.3079384805617416,
          0.3076804663256038,
          0.30167330620416344,
          0.30371647891840775,
          0.302927841373601,
          0.3001340253774264,
          0.29968666035787206,
          0.3020671491481123,
          0.29993065770587657,
          0.2960251497744604,
          0.30007689456360187,
          0.30019861210210946,
          0.29487939391406215,
          0.2971303557844772,
          0.29661676764644923,
          0.2943827679373579,
          0.29409972004495366,
          0.2964708875711999,
          0.2948402358240189,
          0.29110428267716704,
          0.29509901181352816,
          0.29527439326502997,
          0.2905222695851481,
          0.29271485014645804,
          0.29230208802014723,
          0.2904879517807279,
          0.2902301339835925,
          0.29246425394829784,
          0.29119528867189204,
          0.28763985109117496,
          0.2914495729474397,
          0.29161395032102266,
          0.28735259239787914,
          0.28940437160356053,
          0.28903559081308333,
          0.28755785668787576,
          0.2872781567178308,
          0.2893369871596802,
          0.28834492491575736,
          0.2849740019163616,
          0.2885577514841852,
          0.28870131200463484,
          0.284871533079179,
          0.28675355677007563,
          0.2864123516909115,
          0.2852066519405911,
          0.2848869226297335,
          0.2867708021202453,
          0.28599338359842963,
          0.2828008432380093,
          0.2861540676736835,
          0.28627905045513374,
          0.2828309199652771,
          0.28453866150861273,
          0.28422239822354545,
          0.28323568104621283,
          0.2828719795059221,
          0.28459659504425994,
          0.2839856872094042,
          0.2809584878167736,
          0.2840914768454243,
          0.2842014438050257,
          0.28109157703530974,
          0.2826325851470953,
          0.2823421789910817,
          0.2815307722658397,
          0.2811270591852026,
          0.28271214327609584,
          0.28223126650223473,
          0.27935357766579116,
          0.28228132403421685,
          0.28237856984141246,
          0.27956930239713423,
          0.2809564997777834,
          0.2806926481949503,
          0.2800211279285938,
          0.27958568331510875,
          0.28104985934457843,
          0.2806721732751179,
          0.2779286636379906,
          0.2806661718464262,
          0.28075148393224886,
          0.278210418290896,
          0.2794583982318696,
          0.2792205044441424,
          0.2786604530492501,
          0.27820371290540313,
          0.2795624600217112,
          0.2792686392427852,
          0.27664645478044614,
          0.2792067866058231,
          0.27927984987607657,
          0.27697932165460815,
          0.278102462821431,
          0.27788864506038014,
          0.27741736803362244,
          0.27695063599606895,
          0.2782158191260802,
          0.2779920847144615,
          0.275481705242965,
          0.27787540658226384,
          0.27793528072564283,
          0.2758517013992562,
          0.2768633523664704,
          0.2766707963023284,
          0.2762701654597374,
          0.2758048550376395,
          0.2769849933184975,
          0.27682148846525495,
          0.2744168568446953,
          0.27665205129947257,
          0.2766975406923974,
          0.2748106933759512,
          0.27572293116784985,
          0.27554826000895105,
          0.27520376387660817,
          0.2747509360972944,
          0.27585176871651884,
          0.2757413101818979,
          0.2734395851666984,
          0.2755223545980173,
          0.2755522442735517,
          0.2738446167650654,
          0.2746682724600775,
          0.27450782548763075,
          0.2742078331086963,
          0.2737778749871424,
          0.27480300028219423,
          0.27474015643075533,
          0.27254132248895235,
          0.27447617985693185,
          0.2744893682286904,
          0.2729455802533342,
          0.2736903571324708,
          0.27354037142826526,
          0.27327558106743444,
          0.2728779299744455,
          0.27382941420110607,
          0.2738098393373333,
          0.2717163000386601,
          0.27350666099755816,
          0.2735022362737915,
          0.27210858856005543,
          0.27278318210023245,
          0.2726399125940334,
          0.27240294643511836,
          0.2720458078719671,
          0.27292472273287294,
          0.27294468215893825,
          0.2709608894176172,
          0.2726095001552378,
          0.2725868062649564,
          0.2713309594784267,
          0.2719431370452725,
          0.2718029578377977,
          0.271588064159501,
          0.2712781013897556,
          0.2720849780929948,
          0.2721410084900256,
          0.2702731335661662,
          0.27178243448427114,
          0.2717411631970294,
          0.2706119461168063,
          0.2711685704498334,
          0.27102809390599497,
          0.27083092296031147,
          0.27057292256459126,
          0.2713081202080462,
          0.2713967780938688,
          0.26965240205994484,
          0.2710248146488943,
          0.27096514699640184,
          0.269952491321646,
          0.2704594865406127,
          0.27031572501243073,
          0.27013315113601005,
          0.2699296933920179,
          0.27059368119330846,
          0.2707113372835818,
          0.26909912123990565,
          0.2703372487172215,
          0.2702600520832796,
          0.2693550494655701,
          0.2698173195181001,
          0.2696679017669366,
          0.269497870564151,
          0.2693490586678394,
          0.26994261220864946,
          0.2700852537955276,
          0.26861453940518437,
          0.26972127595864515,
          0.26962834311467,
          0.2688234131480946,
          0.26924473481834876,
          0.2690881777360632,
          0.26892956322138084,
          0.2688328870224815,
          0.2693572022326336,
          0.26952021465666737,
          0.2682005047618956,
          0.26917905510565115,
          0.26907334739008665,
          0.2683624911597058,
          0.2687454166365658,
          0.26858144533130907,
          0.2684339098050213,
          0.2683843294550792,
          0.26884106494093934,
          0.2690189847232225,
          0.2678592658503801,
          0.26871308493622403,
          0.2685989147720414,
          0.2679780072000369,
          0.26832382044546566,
          0.268153727940366,
          0.2680175920410352,
          0.26800791317796124,
          0.26839918050713674,
          0.2685854529755696,
          0.267593350437487,
          0.26832602198253114,
          0.2682090866219183,
          0.2676761302479313,
          0.2679849021326013,
          0.26781194218320276,
          0.2676881006212948,
          0.26770966348148234,
          0.2680379978309653,
          0.26822482975295187,
          0.267405632734255,
          0.26802072058039467,
          0.26790789808966947,
          0.2674631129292107,
          0.26773389039208534,
          0.26756369751368253,
          0.2674536629190162,
          0.2674972732376511,
          0.2677656406686745,
          0.26794410172437505,
          0.26729975536272005,
          0.267800698540371,
          0.2676995782281832,
          0.2673451348801891,
          0.26757627494759495,
          0.267417302243816,
          0.2673235269571445,
          0.26738041577940524,
          0.2675923510636577,
          0.267752930870968,
          0.26728115819358517,
          0.2676713489971946,
          0.26758965460878953,
          0.267328832675051,
          0.2675184267363843,
          0.26738240902397237,
          0.26730911046085754,
          0.2673715800787255,
          0.26753155280027746,
          0.26766540882117745,
          0.26735922509206683,
          0.26764246415768794,
          0.2675878954092986,
          0.26742368399729644,
          0.26756989341738646,
          0.26747246510868083,
          0.26742718237534946,
          0.2674887729419331,
          0.26760266802002813,
          0.2677037421078959,
          0.26755181586409776,
          0.2677332246716137,
          0.2677147464426855,
          0.2676485805588309,
          0.2677497985248354,
          0.2677116866052015,
          0.26770743526877017,
          0.2677633635100229,
          0.2678381718937127,
          0.26790565179652487,
          0.26789298334021283,
          0.26797908765239814
         ],
         "yaxis": "y"
        }
       ],
       "layout": {
        "legend": {
         "title": {
          "text": "variable"
         },
         "tracegroupgap": 0
        },
        "margin": {
         "t": 60
        },
        "template": {
         "data": {
          "bar": [
           {
            "error_x": {
             "color": "#2a3f5f"
            },
            "error_y": {
             "color": "#2a3f5f"
            },
            "marker": {
             "line": {
              "color": "#E5ECF6",
              "width": 0.5
             },
             "pattern": {
              "fillmode": "overlay",
              "size": 10,
              "solidity": 0.2
             }
            },
            "type": "bar"
           }
          ],
          "barpolar": [
           {
            "marker": {
             "line": {
              "color": "#E5ECF6",
              "width": 0.5
             },
             "pattern": {
              "fillmode": "overlay",
              "size": 10,
              "solidity": 0.2
             }
            },
            "type": "barpolar"
           }
          ],
          "carpet": [
           {
            "aaxis": {
             "endlinecolor": "#2a3f5f",
             "gridcolor": "white",
             "linecolor": "white",
             "minorgridcolor": "white",
             "startlinecolor": "#2a3f5f"
            },
            "baxis": {
             "endlinecolor": "#2a3f5f",
             "gridcolor": "white",
             "linecolor": "white",
             "minorgridcolor": "white",
             "startlinecolor": "#2a3f5f"
            },
            "type": "carpet"
           }
          ],
          "choropleth": [
           {
            "colorbar": {
             "outlinewidth": 0,
             "ticks": ""
            },
            "type": "choropleth"
           }
          ],
          "contour": [
           {
            "colorbar": {
             "outlinewidth": 0,
             "ticks": ""
            },
            "colorscale": [
             [
              0,
              "#0d0887"
             ],
             [
              0.1111111111111111,
              "#46039f"
             ],
             [
              0.2222222222222222,
              "#7201a8"
             ],
             [
              0.3333333333333333,
              "#9c179e"
             ],
             [
              0.4444444444444444,
              "#bd3786"
             ],
             [
              0.5555555555555556,
              "#d8576b"
             ],
             [
              0.6666666666666666,
              "#ed7953"
             ],
             [
              0.7777777777777778,
              "#fb9f3a"
             ],
             [
              0.8888888888888888,
              "#fdca26"
             ],
             [
              1,
              "#f0f921"
             ]
            ],
            "type": "contour"
           }
          ],
          "contourcarpet": [
           {
            "colorbar": {
             "outlinewidth": 0,
             "ticks": ""
            },
            "type": "contourcarpet"
           }
          ],
          "heatmap": [
           {
            "colorbar": {
             "outlinewidth": 0,
             "ticks": ""
            },
            "colorscale": [
             [
              0,
              "#0d0887"
             ],
             [
              0.1111111111111111,
              "#46039f"
             ],
             [
              0.2222222222222222,
              "#7201a8"
             ],
             [
              0.3333333333333333,
              "#9c179e"
             ],
             [
              0.4444444444444444,
              "#bd3786"
             ],
             [
              0.5555555555555556,
              "#d8576b"
             ],
             [
              0.6666666666666666,
              "#ed7953"
             ],
             [
              0.7777777777777778,
              "#fb9f3a"
             ],
             [
              0.8888888888888888,
              "#fdca26"
             ],
             [
              1,
              "#f0f921"
             ]
            ],
            "type": "heatmap"
           }
          ],
          "heatmapgl": [
           {
            "colorbar": {
             "outlinewidth": 0,
             "ticks": ""
            },
            "colorscale": [
             [
              0,
              "#0d0887"
             ],
             [
              0.1111111111111111,
              "#46039f"
             ],
             [
              0.2222222222222222,
              "#7201a8"
             ],
             [
              0.3333333333333333,
              "#9c179e"
             ],
             [
              0.4444444444444444,
              "#bd3786"
             ],
             [
              0.5555555555555556,
              "#d8576b"
             ],
             [
              0.6666666666666666,
              "#ed7953"
             ],
             [
              0.7777777777777778,
              "#fb9f3a"
             ],
             [
              0.8888888888888888,
              "#fdca26"
             ],
             [
              1,
              "#f0f921"
             ]
            ],
            "type": "heatmapgl"
           }
          ],
          "histogram": [
           {
            "marker": {
             "pattern": {
              "fillmode": "overlay",
              "size": 10,
              "solidity": 0.2
             }
            },
            "type": "histogram"
           }
          ],
          "histogram2d": [
           {
            "colorbar": {
             "outlinewidth": 0,
             "ticks": ""
            },
            "colorscale": [
             [
              0,
              "#0d0887"
             ],
             [
              0.1111111111111111,
              "#46039f"
             ],
             [
              0.2222222222222222,
              "#7201a8"
             ],
             [
              0.3333333333333333,
              "#9c179e"
             ],
             [
              0.4444444444444444,
              "#bd3786"
             ],
             [
              0.5555555555555556,
              "#d8576b"
             ],
             [
              0.6666666666666666,
              "#ed7953"
             ],
             [
              0.7777777777777778,
              "#fb9f3a"
             ],
             [
              0.8888888888888888,
              "#fdca26"
             ],
             [
              1,
              "#f0f921"
             ]
            ],
            "type": "histogram2d"
           }
          ],
          "histogram2dcontour": [
           {
            "colorbar": {
             "outlinewidth": 0,
             "ticks": ""
            },
            "colorscale": [
             [
              0,
              "#0d0887"
             ],
             [
              0.1111111111111111,
              "#46039f"
             ],
             [
              0.2222222222222222,
              "#7201a8"
             ],
             [
              0.3333333333333333,
              "#9c179e"
             ],
             [
              0.4444444444444444,
              "#bd3786"
             ],
             [
              0.5555555555555556,
              "#d8576b"
             ],
             [
              0.6666666666666666,
              "#ed7953"
             ],
             [
              0.7777777777777778,
              "#fb9f3a"
             ],
             [
              0.8888888888888888,
              "#fdca26"
             ],
             [
              1,
              "#f0f921"
             ]
            ],
            "type": "histogram2dcontour"
           }
          ],
          "mesh3d": [
           {
            "colorbar": {
             "outlinewidth": 0,
             "ticks": ""
            },
            "type": "mesh3d"
           }
          ],
          "parcoords": [
           {
            "line": {
             "colorbar": {
              "outlinewidth": 0,
              "ticks": ""
             }
            },
            "type": "parcoords"
           }
          ],
          "pie": [
           {
            "automargin": true,
            "type": "pie"
           }
          ],
          "scatter": [
           {
            "fillpattern": {
             "fillmode": "overlay",
             "size": 10,
             "solidity": 0.2
            },
            "type": "scatter"
           }
          ],
          "scatter3d": [
           {
            "line": {
             "colorbar": {
              "outlinewidth": 0,
              "ticks": ""
             }
            },
            "marker": {
             "colorbar": {
              "outlinewidth": 0,
              "ticks": ""
             }
            },
            "type": "scatter3d"
           }
          ],
          "scattercarpet": [
           {
            "marker": {
             "colorbar": {
              "outlinewidth": 0,
              "ticks": ""
             }
            },
            "type": "scattercarpet"
           }
          ],
          "scattergeo": [
           {
            "marker": {
             "colorbar": {
              "outlinewidth": 0,
              "ticks": ""
             }
            },
            "type": "scattergeo"
           }
          ],
          "scattergl": [
           {
            "marker": {
             "colorbar": {
              "outlinewidth": 0,
              "ticks": ""
             }
            },
            "type": "scattergl"
           }
          ],
          "scattermapbox": [
           {
            "marker": {
             "colorbar": {
              "outlinewidth": 0,
              "ticks": ""
             }
            },
            "type": "scattermapbox"
           }
          ],
          "scatterpolar": [
           {
            "marker": {
             "colorbar": {
              "outlinewidth": 0,
              "ticks": ""
             }
            },
            "type": "scatterpolar"
           }
          ],
          "scatterpolargl": [
           {
            "marker": {
             "colorbar": {
              "outlinewidth": 0,
              "ticks": ""
             }
            },
            "type": "scatterpolargl"
           }
          ],
          "scatterternary": [
           {
            "marker": {
             "colorbar": {
              "outlinewidth": 0,
              "ticks": ""
             }
            },
            "type": "scatterternary"
           }
          ],
          "surface": [
           {
            "colorbar": {
             "outlinewidth": 0,
             "ticks": ""
            },
            "colorscale": [
             [
              0,
              "#0d0887"
             ],
             [
              0.1111111111111111,
              "#46039f"
             ],
             [
              0.2222222222222222,
              "#7201a8"
             ],
             [
              0.3333333333333333,
              "#9c179e"
             ],
             [
              0.4444444444444444,
              "#bd3786"
             ],
             [
              0.5555555555555556,
              "#d8576b"
             ],
             [
              0.6666666666666666,
              "#ed7953"
             ],
             [
              0.7777777777777778,
              "#fb9f3a"
             ],
             [
              0.8888888888888888,
              "#fdca26"
             ],
             [
              1,
              "#f0f921"
             ]
            ],
            "type": "surface"
           }
          ],
          "table": [
           {
            "cells": {
             "fill": {
              "color": "#EBF0F8"
             },
             "line": {
              "color": "white"
             }
            },
            "header": {
             "fill": {
              "color": "#C8D4E3"
             },
             "line": {
              "color": "white"
             }
            },
            "type": "table"
           }
          ]
         },
         "layout": {
          "annotationdefaults": {
           "arrowcolor": "#2a3f5f",
           "arrowhead": 0,
           "arrowwidth": 1
          },
          "autotypenumbers": "strict",
          "coloraxis": {
           "colorbar": {
            "outlinewidth": 0,
            "ticks": ""
           }
          },
          "colorscale": {
           "diverging": [
            [
             0,
             "#8e0152"
            ],
            [
             0.1,
             "#c51b7d"
            ],
            [
             0.2,
             "#de77ae"
            ],
            [
             0.3,
             "#f1b6da"
            ],
            [
             0.4,
             "#fde0ef"
            ],
            [
             0.5,
             "#f7f7f7"
            ],
            [
             0.6,
             "#e6f5d0"
            ],
            [
             0.7,
             "#b8e186"
            ],
            [
             0.8,
             "#7fbc41"
            ],
            [
             0.9,
             "#4d9221"
            ],
            [
             1,
             "#276419"
            ]
           ],
           "sequential": [
            [
             0,
             "#0d0887"
            ],
            [
             0.1111111111111111,
             "#46039f"
            ],
            [
             0.2222222222222222,
             "#7201a8"
            ],
            [
             0.3333333333333333,
             "#9c179e"
            ],
            [
             0.4444444444444444,
             "#bd3786"
            ],
            [
             0.5555555555555556,
             "#d8576b"
            ],
            [
             0.6666666666666666,
             "#ed7953"
            ],
            [
             0.7777777777777778,
             "#fb9f3a"
            ],
            [
             0.8888888888888888,
             "#fdca26"
            ],
            [
             1,
             "#f0f921"
            ]
           ],
           "sequentialminus": [
            [
             0,
             "#0d0887"
            ],
            [
             0.1111111111111111,
             "#46039f"
            ],
            [
             0.2222222222222222,
             "#7201a8"
            ],
            [
             0.3333333333333333,
             "#9c179e"
            ],
            [
             0.4444444444444444,
             "#bd3786"
            ],
            [
             0.5555555555555556,
             "#d8576b"
            ],
            [
             0.6666666666666666,
             "#ed7953"
            ],
            [
             0.7777777777777778,
             "#fb9f3a"
            ],
            [
             0.8888888888888888,
             "#fdca26"
            ],
            [
             1,
             "#f0f921"
            ]
           ]
          },
          "colorway": [
           "#636efa",
           "#EF553B",
           "#00cc96",
           "#ab63fa",
           "#FFA15A",
           "#19d3f3",
           "#FF6692",
           "#B6E880",
           "#FF97FF",
           "#FECB52"
          ],
          "font": {
           "color": "#2a3f5f"
          },
          "geo": {
           "bgcolor": "white",
           "lakecolor": "white",
           "landcolor": "#E5ECF6",
           "showlakes": true,
           "showland": true,
           "subunitcolor": "white"
          },
          "hoverlabel": {
           "align": "left"
          },
          "hovermode": "closest",
          "mapbox": {
           "style": "light"
          },
          "paper_bgcolor": "white",
          "plot_bgcolor": "#E5ECF6",
          "polar": {
           "angularaxis": {
            "gridcolor": "white",
            "linecolor": "white",
            "ticks": ""
           },
           "bgcolor": "#E5ECF6",
           "radialaxis": {
            "gridcolor": "white",
            "linecolor": "white",
            "ticks": ""
           }
          },
          "scene": {
           "xaxis": {
            "backgroundcolor": "#E5ECF6",
            "gridcolor": "white",
            "gridwidth": 2,
            "linecolor": "white",
            "showbackground": true,
            "ticks": "",
            "zerolinecolor": "white"
           },
           "yaxis": {
            "backgroundcolor": "#E5ECF6",
            "gridcolor": "white",
            "gridwidth": 2,
            "linecolor": "white",
            "showbackground": true,
            "ticks": "",
            "zerolinecolor": "white"
           },
           "zaxis": {
            "backgroundcolor": "#E5ECF6",
            "gridcolor": "white",
            "gridwidth": 2,
            "linecolor": "white",
            "showbackground": true,
            "ticks": "",
            "zerolinecolor": "white"
           }
          },
          "shapedefaults": {
           "line": {
            "color": "#2a3f5f"
           }
          },
          "ternary": {
           "aaxis": {
            "gridcolor": "white",
            "linecolor": "white",
            "ticks": ""
           },
           "baxis": {
            "gridcolor": "white",
            "linecolor": "white",
            "ticks": ""
           },
           "bgcolor": "#E5ECF6",
           "caxis": {
            "gridcolor": "white",
            "linecolor": "white",
            "ticks": ""
           }
          },
          "title": {
           "x": 0.05
          },
          "xaxis": {
           "automargin": true,
           "gridcolor": "white",
           "linecolor": "white",
           "ticks": "",
           "title": {
            "standoff": 15
           },
           "zerolinecolor": "white",
           "zerolinewidth": 2
          },
          "yaxis": {
           "automargin": true,
           "gridcolor": "white",
           "linecolor": "white",
           "ticks": "",
           "title": {
            "standoff": 15
           },
           "zerolinecolor": "white",
           "zerolinewidth": 2
          }
         }
        },
        "xaxis": {
         "anchor": "y",
         "domain": [
          0,
          1
         ],
         "title": {
          "text": "index"
         }
        },
        "yaxis": {
         "anchor": "x",
         "domain": [
          0,
          1
         ],
         "title": {
          "text": "value"
         }
        }
       }
      }
     },
     "metadata": {},
     "output_type": "display_data"
    }
   ],
   "source": [
    "dic_list = []\n",
    "for dummy in interesting_model:\n",
    "    dic = {}\n",
    "    dic[dummy['top_name'] + 'tmse'] = dummy['stats']['training_mean_squared_error']\n",
    "    dic[dummy['top_name'] + 'vmse'] = dummy['stats']['validation_mean_squared_error']\n",
    "    dic[dummy['top_name'] + 'tmee'] = dummy['stats']['training_mean_euclidean_error']\n",
    "    dic[dummy['top_name'] + 'vmee'] = dummy['stats']['validation_mean_euclidean_error']\n",
    "    dic_list.append(pd.DataFrame(dic))\n",
    "    \n",
    "for i in dic_list:\n",
    "    fig = px.line(i)\n",
    "    fig.show()"
   ]
  }
 ],
 "metadata": {
  "kernelspec": {
   "display_name": "DM_Proj",
   "language": "python",
   "name": "python3"
  },
  "language_info": {
   "codemirror_mode": {
    "name": "ipython",
    "version": 3
   },
   "file_extension": ".py",
   "mimetype": "text/x-python",
   "name": "python",
   "nbconvert_exporter": "python",
   "pygments_lexer": "ipython3",
   "version": "3.11.6"
  }
 },
 "nbformat": 4,
 "nbformat_minor": 2
}
