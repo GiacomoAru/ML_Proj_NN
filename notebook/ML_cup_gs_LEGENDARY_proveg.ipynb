{
 "cells": [
  {
   "cell_type": "code",
   "execution_count": 1,
   "metadata": {},
   "outputs": [],
   "source": [
    "import matplotlib.pyplot as plt\n",
    "import numpy as np\n",
    "import sys\n",
    "import os\n",
    "import pandas as pd\n",
    "import plotly.express as px\n",
    "from sklearn.preprocessing import MinMaxScaler, StandardScaler\n",
    "\n",
    "sys.path.append(os.path.abspath('../src/'))\n",
    "from ModelSelection import *\n",
    "from ActivationFunctions import *\n",
    "from NeuralNetwork import *\n",
    "from MyUtils import *"
   ]
  },
  {
   "cell_type": "code",
   "execution_count": 2,
   "metadata": {},
   "outputs": [],
   "source": [
    "tr_norm_df = pd.read_csv('../data/divided_std_train_0_8.csv')\n",
    "test_norm_df = pd.read_csv('../data/divided_std_test_0_2.csv')\n",
    "\n",
    "training_len = len(tr_norm_df)\n",
    "test_len = len(test_norm_df)\n",
    "\n",
    "INPUT = 10\n",
    "OUTPUT = 3"
   ]
  },
  {
   "cell_type": "code",
   "execution_count": 3,
   "metadata": {},
   "outputs": [],
   "source": [
    "\n",
    "hidden_fun = 'sigmoid'\n",
    "output_fun = 'identity'\n",
    "sigmoid_l1_big = create_stratified_topology([INPUT,40,OUTPUT], \n",
    "                                      [[None,[]]]*INPUT + [[hidden_fun, [1]]]*40 + [[output_fun, []]]*OUTPUT)\n"
   ]
  },
  {
   "cell_type": "code",
   "execution_count": 4,
   "metadata": {},
   "outputs": [
    {
     "name": "stdout",
     "output_type": "stream",
     "text": [
      "Already done:  0\n",
      "tot conf: 1\n",
      "remaining conf: 1\n",
      "tot conf to do: 1\n",
      "pid: 81758  started new kfold 1 / 1\n"
     ]
    }
   ],
   "source": [
    "MS = ModelSelection('../data/gs_data/2l_sigmoid_4_prova_2.csv')\n",
    "MS.default_values['metrics'] = [ErrorFunctions.mean_euclidean_error, ErrorFunctions.mean_squared_error]\n",
    "hyperparam_grid = {\n",
    "    'lambda_tikhonov':[0.000001],\n",
    "    'batch_size':[10],\n",
    "    'min_epochs': [100],\n",
    "    'max_epochs':[600],\n",
    "    \n",
    "    'adamax' : [False],\n",
    "    'learning_rate':[0.1],\n",
    "    'lr_decay_tau':[175], #epochs\n",
    "    'alpha_momentum':[0.9],\n",
    "    \n",
    "    \n",
    "    'error_increase_tolerance':[0.00001],\n",
    "    'patience':[5],\n",
    "    'topology': [str(sigmoid_l1_big)],\n",
    "}\n",
    "\n",
    "MS.grid_searchKF(tr_norm_df.values, hyperparam_grid,  3, 1, False)"
   ]
  }
 ],
 "metadata": {
  "kernelspec": {
   "display_name": "DM_Proj",
   "language": "python",
   "name": "python3"
  },
  "language_info": {
   "codemirror_mode": {
    "name": "ipython",
    "version": 3
   },
   "file_extension": ".py",
   "mimetype": "text/x-python",
   "name": "python",
   "nbconvert_exporter": "python",
   "pygments_lexer": "ipython3",
   "version": "3.12.1"
  }
 },
 "nbformat": 4,
 "nbformat_minor": 2
}
