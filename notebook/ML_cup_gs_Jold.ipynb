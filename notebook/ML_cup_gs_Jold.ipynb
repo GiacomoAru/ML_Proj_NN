{
 "cells": [
  {
   "cell_type": "code",
   "execution_count": null,
   "metadata": {},
   "outputs": [],
   "source": [
    "import matplotlib.pyplot as plt\n",
    "import numpy as np\n",
    "import sys\n",
    "import os\n",
    "import pandas as pd\n",
    "import plotly.express as px\n",
    "from sklearn.preprocessing import MinMaxScaler, StandardScaler\n",
    "\n",
    "sys.path.append(os.path.abspath('../src/'))\n",
    "from ModelSelection import *\n",
    "from ActivationFunctions import *\n",
    "from NeuralNetwork import *\n",
    "from MyUtils import *"
   ]
  },
  {
   "cell_type": "code",
   "execution_count": null,
   "metadata": {},
   "outputs": [],
   "source": [
    "cup_df = pd.read_csv(\n",
    "    '../data/ML-CUP23-TR.csv',\n",
    "    index_col=0,\n",
    "    comment='#',\n",
    "    header=None,\n",
    "    names=['feature_' + str(i+1) for i in range(10)] + ['target_' + str(i+1) for i in range(3)]\n",
    ")\n",
    "\n",
    "data_set = cup_df.values\n",
    "len_data = len(data_set)\n",
    "np.random.shuffle(data_set)\n",
    "\n",
    "training_len = int(0.8*len_data)\n",
    "\n",
    "training_set = data_set[:int(training_len)] # Training Set for KFold Cross Validation\n",
    "test_set = data_set[int(training_len):] # Hold Out Test Set\n",
    "\n",
    "TR_OUTPUT = 3\n",
    "TR_INPUT = data_set.shape[1] - TR_OUTPUT\n",
    "\n",
    "scaler_out = StandardScaler()\n",
    "scaler_in = StandardScaler()\n",
    "scaler_in.fit(training_set[:,:TR_INPUT])\n",
    "scaler_out.fit(training_set[:,TR_INPUT:])\n",
    "\n",
    "tr_normalized = np.empty((training_len, TR_OUTPUT + TR_INPUT))\n",
    "tr_normalized[:,:TR_INPUT] = scaler_in.transform(training_set[:,:TR_INPUT])\n",
    "tr_normalized[:,TR_INPUT:] = scaler_out.transform(training_set[:,TR_INPUT:])\n",
    "\n",
    "test_normalized = np.empty((len_data - training_len, TR_OUTPUT + TR_INPUT))\n",
    "test_normalized[:,:TR_INPUT] = scaler_in.transform(test_set[:,:TR_INPUT])\n",
    "test_normalized[:,TR_INPUT:] = scaler_out.transform(test_set[:,TR_INPUT:])"
   ]
  },
  {
   "cell_type": "code",
   "execution_count": null,
   "metadata": {},
   "outputs": [],
   "source": [
    "hidden_fun = 'tanh'\n",
    "output_fun = 'identity'\n",
    "tanh_l1 = create_stratified_topology([TR_INPUT, 32,TR_OUTPUT], \n",
    "                                      [[None,[]]]*TR_INPUT + [[hidden_fun, [1]]]*32 + [[output_fun, []]]*TR_OUTPUT)"
   ]
  },
  {
   "cell_type": "code",
   "execution_count": null,
   "metadata": {},
   "outputs": [],
   "source": [
    "NeuralNetwork.display_topology(tanh_l1)"
   ]
  },
  {
   "cell_type": "code",
   "execution_count": null,
   "metadata": {},
   "outputs": [],
   "source": [
    "MS = ModelSelection('../data/gs_data/1l_tanh_4_1.csv')\n",
    "\n",
    "MS.default_values['metrics'] = [ErrorFunctions.mean_euclidean_error, ErrorFunctions.mean_squared_error]\n",
    "hyperparam_grid = {\n",
    "    'adamax' : [False],\n",
    "    \n",
    "    'learning_rate':[0.01, 0.05, 0.1, 0.2],\n",
    "    'lr_decay_tau':[175, 125, 225], #epochs\n",
    "    'lambda_tikhonov':[0.000001],\n",
    "    'alpha_momentum':[0.75],\n",
    "    'batch_size':[15],\n",
    "    'min_epochs': [100],\n",
    "    'max_epochs':[600],\n",
    "    \n",
    "    'error_increase_tolerance':[0.00001],\n",
    "    'patience':[5],\n",
    "    'topology': [str(tanh_l1)],\n",
    "}\n",
    "\n",
    "c1 = lambda x: x\n",
    "MS.grid_searchKF(tr_normalized, hyperparam_grid, 3, 4, False)"
   ]
  }
 ],
 "metadata": {
  "kernelspec": {
   "display_name": "DM_Proj",
   "language": "python",
   "name": "python3"
  },
  "language_info": {
   "codemirror_mode": {
    "name": "ipython",
    "version": 3
   },
   "file_extension": ".py",
   "mimetype": "text/x-python",
   "name": "python",
   "nbconvert_exporter": "python",
   "pygments_lexer": "ipython3",
   "version": "3.11.6"
  }
 },
 "nbformat": 4,
 "nbformat_minor": 2
}
