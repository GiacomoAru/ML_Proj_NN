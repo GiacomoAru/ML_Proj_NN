{
 "cells": [
  {
   "cell_type": "code",
   "execution_count": 1,
   "metadata": {},
   "outputs": [
    {
     "ename": "ModuleNotFoundError",
     "evalue": "No module named 'networkx'",
     "output_type": "error",
     "traceback": [
      "\u001b[0;31m---------------------------------------------------------------------------\u001b[0m",
      "\u001b[0;31mModuleNotFoundError\u001b[0m                       Traceback (most recent call last)",
      "Cell \u001b[0;32mIn[1], line 10\u001b[0m\n\u001b[1;32m      7\u001b[0m \u001b[38;5;28;01mfrom\u001b[39;00m \u001b[38;5;21;01msklearn\u001b[39;00m\u001b[38;5;21;01m.\u001b[39;00m\u001b[38;5;21;01mpreprocessing\u001b[39;00m \u001b[38;5;28;01mimport\u001b[39;00m MinMaxScaler, StandardScaler\n\u001b[1;32m      9\u001b[0m sys\u001b[38;5;241m.\u001b[39mpath\u001b[38;5;241m.\u001b[39mappend(os\u001b[38;5;241m.\u001b[39mpath\u001b[38;5;241m.\u001b[39mabspath(\u001b[38;5;124m'\u001b[39m\u001b[38;5;124m../src/\u001b[39m\u001b[38;5;124m'\u001b[39m))\n\u001b[0;32m---> 10\u001b[0m \u001b[38;5;28;01mfrom\u001b[39;00m \u001b[38;5;21;01mModelSelection\u001b[39;00m \u001b[38;5;28;01mimport\u001b[39;00m \u001b[38;5;241m*\u001b[39m\n\u001b[1;32m     11\u001b[0m \u001b[38;5;28;01mfrom\u001b[39;00m \u001b[38;5;21;01mActivationFunctions\u001b[39;00m \u001b[38;5;28;01mimport\u001b[39;00m \u001b[38;5;241m*\u001b[39m\n\u001b[1;32m     12\u001b[0m \u001b[38;5;28;01mfrom\u001b[39;00m \u001b[38;5;21;01mNeuralNetwork\u001b[39;00m \u001b[38;5;28;01mimport\u001b[39;00m \u001b[38;5;241m*\u001b[39m\n",
      "File \u001b[0;32m~/ML_Proj_NN/src/ModelSelection.py:19\u001b[0m\n\u001b[1;32m     15\u001b[0m \u001b[38;5;28;01mimport\u001b[39;00m \u001b[38;5;21;01mjson\u001b[39;00m\n\u001b[1;32m     17\u001b[0m \u001b[38;5;28;01mfrom\u001b[39;00m \u001b[38;5;21;01mMyProcess\u001b[39;00m \u001b[38;5;28;01mimport\u001b[39;00m \u001b[38;5;241m*\u001b[39m\n\u001b[0;32m---> 19\u001b[0m \u001b[38;5;28;01mfrom\u001b[39;00m \u001b[38;5;21;01mNeuralNetwork\u001b[39;00m \u001b[38;5;28;01mimport\u001b[39;00m NeuralNetwork\n\u001b[1;32m     20\u001b[0m \u001b[38;5;28;01mimport\u001b[39;00m \u001b[38;5;21;01mErrorFunctions\u001b[39;00m\n\u001b[1;32m     23\u001b[0m \u001b[38;5;66;03m#TODO (opzionale) ottimizzare\u001b[39;00m\n",
      "File \u001b[0;32m~/ML_Proj_NN/src/NeuralNetwork.py:13\u001b[0m\n\u001b[1;32m     11\u001b[0m \u001b[38;5;28;01mimport\u001b[39;00m \u001b[38;5;21;01mrandom\u001b[39;00m\n\u001b[1;32m     12\u001b[0m \u001b[38;5;28;01mimport\u001b[39;00m \u001b[38;5;21;01mmatplotlib\u001b[39;00m\u001b[38;5;21;01m.\u001b[39;00m\u001b[38;5;21;01mpyplot\u001b[39;00m \u001b[38;5;28;01mas\u001b[39;00m \u001b[38;5;21;01mplt\u001b[39;00m\n\u001b[0;32m---> 13\u001b[0m \u001b[38;5;28;01mimport\u001b[39;00m \u001b[38;5;21;01mnetworkx\u001b[39;00m \u001b[38;5;28;01mas\u001b[39;00m \u001b[38;5;21;01mnx\u001b[39;00m\n\u001b[1;32m     14\u001b[0m \u001b[38;5;28;01mimport\u001b[39;00m \u001b[38;5;21;01mdatetime\u001b[39;00m\n\u001b[1;32m     15\u001b[0m \u001b[38;5;28;01mimport\u001b[39;00m \u001b[38;5;21;01mjson\u001b[39;00m\n",
      "\u001b[0;31mModuleNotFoundError\u001b[0m: No module named 'networkx'"
     ]
    }
   ],
   "source": [
    "import matplotlib.pyplot as plt\n",
    "import numpy as np\n",
    "import sys\n",
    "import os\n",
    "import pandas as pd\n",
    "import plotly.express as px\n",
    "from sklearn.preprocessing import MinMaxScaler, StandardScaler\n",
    "\n",
    "sys.path.append(os.path.abspath('../src/'))\n",
    "from ModelSelection import *\n",
    "from ActivationFunctions import *\n",
    "from NeuralNetwork import *\n",
    "from MyUtils import *"
   ]
  },
  {
   "cell_type": "code",
   "execution_count": null,
   "metadata": {},
   "outputs": [],
   "source": [
    "cup_df = pd.read_csv(\n",
    "    '../data/ML-CUP23-TR.csv',\n",
    "    index_col=0,\n",
    "    comment='#',\n",
    "    header=None,\n",
    "    names=['feature_' + str(i+1) for i in range(10)] + ['target_' + str(i+1) for i in range(3)]\n",
    ")\n",
    "\n",
    "data_set = cup_df.values\n",
    "len_data = len(data_set)\n",
    "np.random.shuffle(data_set)\n",
    "\n",
    "training_len = int(0.8*len_data)\n",
    "\n",
    "training_set = data_set[:int(training_len)] # Training Set for KFold Cross Validation\n",
    "test_set = data_set[int(training_len):] # Hold Out Test Set\n",
    "\n",
    "TR_OUTPUT = 3\n",
    "TR_INPUT = data_set.shape[1] - TR_OUTPUT\n",
    "\n",
    "scaler_out = StandardScaler()\n",
    "scaler_in = StandardScaler()\n",
    "scaler_in.fit(training_set[:,:TR_INPUT])\n",
    "scaler_out.fit(training_set[:,TR_INPUT:])\n",
    "\n",
    "tr_normalized = np.empty((training_len, TR_OUTPUT + TR_INPUT))\n",
    "tr_normalized[:,:TR_INPUT] = scaler_in.transform(training_set[:,:TR_INPUT])\n",
    "tr_normalized[:,TR_INPUT:] = scaler_out.transform(training_set[:,TR_INPUT:])\n",
    "\n",
    "test_normalized = np.empty((len_data - training_len, TR_OUTPUT + TR_INPUT))\n",
    "test_normalized[:,:TR_INPUT] = scaler_in.transform(test_set[:,:TR_INPUT])\n",
    "test_normalized[:,TR_INPUT:] = scaler_out.transform(test_set[:,TR_INPUT:])"
   ]
  },
  {
   "cell_type": "code",
   "execution_count": null,
   "metadata": {},
   "outputs": [],
   "source": [
    "hidden_len = 32\n",
    "\n",
    "hidden_fun = 'tanh'\n",
    "output_fun = 'identity'\n",
    "\n",
    "tanh_l1 = create_stratified_topology([TR_INPUT,30,TR_OUTPUT], \n",
    "                                      [[None,[]]]*TR_INPUT + [[hidden_fun, [1]]]*hidden_len + [[output_fun, []]]*TR_OUTPUT)\n",
    "\n",
    "hidden_fun = 'sigmoid'\n",
    "output_fun = 'identity'\n",
    "\n",
    "sigmoid_l1 = create_stratified_topology([TR_INPUT,30,TR_OUTPUT], \n",
    "                                      [[None,[]]]*TR_INPUT + [[hidden_fun, [1]]]*hidden_len + [[output_fun, []]]*TR_OUTPUT)\n"
   ]
  },
  {
   "cell_type": "code",
   "execution_count": null,
   "metadata": {},
   "outputs": [],
   "source": [
    "hidden_fun = 'tanh'\n",
    "output_fun = 'identity'\n",
    "\n",
    "tanh_l2 = create_stratified_topology([TR_INPUT,16, 16,TR_OUTPUT], \n",
    "                                      [[None,[]]]*TR_INPUT + [[hidden_fun, [1]]]*16 + [[hidden_fun, [1]]]*16 + [[output_fun, []]]*TR_OUTPUT)\n",
    "\n",
    "hidden_fun = 'ReLU'\n",
    "output_fun = 'identity'\n",
    "relu_l2 = create_stratified_topology([TR_INPUT,16, 16,TR_OUTPUT], \n",
    "                                      [[None,[]]]*TR_INPUT + [[hidden_fun, [1]]]*16 + [[hidden_fun, [1]]]*16 + [[output_fun, []]]*TR_OUTPUT)"
   ]
  },
  {
   "cell_type": "code",
   "execution_count": null,
   "metadata": {},
   "outputs": [
    {
     "ename": "TypeError",
     "evalue": "object of type 'NoneType' has no len()",
     "output_type": "error",
     "traceback": [
      "\u001b[0;31m---------------------------------------------------------------------------\u001b[0m",
      "\u001b[0;31mTypeError\u001b[0m                                 Traceback (most recent call last)",
      "Cell \u001b[0;32mIn[5], line 24\u001b[0m\n\u001b[1;32m     21\u001b[0m c1 \u001b[38;5;241m=\u001b[39m \u001b[38;5;28;01mlambda\u001b[39;00m x: x\n\u001b[1;32m     22\u001b[0m constr \u001b[38;5;241m=\u001b[39m {\u001b[38;5;124m'\u001b[39m\u001b[38;5;124madamax\u001b[39m\u001b[38;5;124m'\u001b[39m: (c1, [\u001b[38;5;124m'\u001b[39m\u001b[38;5;124mlearning_rate\u001b[39m\u001b[38;5;124m'\u001b[39m, \u001b[38;5;124m'\u001b[39m\u001b[38;5;124malpha_momentum\u001b[39m\u001b[38;5;124m'\u001b[39m, \u001b[38;5;124m'\u001b[39m\u001b[38;5;124mlr_decay_tau\u001b[39m\u001b[38;5;124m'\u001b[39m], [\u001b[38;5;124m'\u001b[39m\u001b[38;5;124madamax_learning_rate\u001b[39m\u001b[38;5;124m'\u001b[39m, \u001b[38;5;124m'\u001b[39m\u001b[38;5;124mexp_decay_rate_1\u001b[39m\u001b[38;5;124m'\u001b[39m, \u001b[38;5;124m'\u001b[39m\u001b[38;5;124mexp_decay_rate_2\u001b[39m\u001b[38;5;124m'\u001b[39m])}\n\u001b[0;32m---> 24\u001b[0m \u001b[43mMS\u001b[49m\u001b[38;5;241;43m.\u001b[39;49m\u001b[43mgrid_searchKF\u001b[49m\u001b[43m(\u001b[49m\u001b[43mtr_normalized\u001b[49m\u001b[43m,\u001b[49m\u001b[43m \u001b[49m\u001b[43mhyperparam_grid\u001b[49m\u001b[43m,\u001b[49m\u001b[43m \u001b[49m\u001b[43mconstr\u001b[49m\u001b[43m,\u001b[49m\u001b[43m \u001b[49m\u001b[38;5;241;43m3\u001b[39;49m\u001b[43m,\u001b[49m\u001b[43m \u001b[49m\u001b[38;5;241;43m4\u001b[39;49m\u001b[43m,\u001b[49m\u001b[43m \u001b[49m\u001b[38;5;28;43;01mFalse\u001b[39;49;00m\u001b[43m)\u001b[49m\n",
      "File \u001b[0;32m~/ML/ML_Proj_NN/src/ModelSelection.py:331\u001b[0m, in \u001b[0;36mModelSelection.grid_searchKF\u001b[0;34m(self, data_set, hyperparameters, constraints, k_folds, n_proc, recovery)\u001b[0m\n\u001b[1;32m    328\u001b[0m     \u001b[38;5;28mself\u001b[39m\u001b[38;5;241m.\u001b[39m__process_task_trainKF(data_set, configurations, names, k_folds, \u001b[38;5;28mself\u001b[39m\u001b[38;5;241m.\u001b[39mbackup)\n\u001b[1;32m    329\u001b[0m     \u001b[38;5;28;01mreturn\u001b[39;00m\n\u001b[0;32m--> 331\u001b[0m remainder \u001b[38;5;241m=\u001b[39m \u001b[38;5;28;43mlen\u001b[39;49m\u001b[43m(\u001b[49m\u001b[43mconfigurations\u001b[49m\u001b[43m)\u001b[49m \u001b[38;5;241m%\u001b[39m n_proc\n\u001b[1;32m    332\u001b[0m single_conf_size \u001b[38;5;241m=\u001b[39m \u001b[38;5;28mint\u001b[39m(\u001b[38;5;28mlen\u001b[39m(configurations) \u001b[38;5;241m/\u001b[39m n_proc)\n\u001b[1;32m    333\u001b[0m start \u001b[38;5;241m=\u001b[39m end \u001b[38;5;241m=\u001b[39m \u001b[38;5;241m0\u001b[39m\n",
      "\u001b[0;31mTypeError\u001b[0m: object of type 'NoneType' has no len()"
     ]
    }
   ],
   "source": [
    "MS = ModelSelection('../data/single_layer.csv')\n",
    "\n",
    "hyperparam_grid = {\n",
    "    'learning_rate':[0.01, 0.1, 0.3, 0.5, 0.7],\n",
    "    'lr_decay_tau':[200],\n",
    "    'adamax' : [True, False],\n",
    "    'adamax_learning_rate' : [0.02, 0.01, 0.04, 0.06, 0.1],\n",
    "    'exp_decay_rate_1':[0.9, 0.8],\n",
    "    'exp_decay_rate_2':[0.999, 0.5],\n",
    "    'alpha_momentum':[0, 0.5, 0.9],\n",
    "    'lambda_tikhonov':[0.00001, 0.0001],\n",
    "    'batch_size':[int(training_len/15)],\n",
    "    'min_epochs': [100],\n",
    "    'max_epochs':[800],\n",
    "    'metrics':[[ErrorFunctions.mean_euclidean_error, ErrorFunctions.mean_squared_error]],\n",
    "    'error_increase_tolerance':[0.00001, 0.0001],\n",
    "    'patience':[10],\n",
    "    'topology': [str(tanh_l2)],\n",
    "}\n",
    "\n",
    "c1 = lambda x: x\n",
    "constr = {'adamax': (c1, ['learning_rate', 'alpha_momentum', 'lr_decay_tau'], ['adamax_learning_rate', 'exp_decay_rate_1', 'exp_decay_rate_2'])}\n",
    "\n",
    "MS.grid_searchKF(tr_normalized, hyperparam_grid, constr, 3, 6, True)"
   ]
  }
 ],
 "metadata": {
  "kernelspec": {
   "display_name": "DM_Proj",
   "language": "python",
   "name": "python3"
  },
  "language_info": {
   "codemirror_mode": {
    "name": "ipython",
    "version": 3
   },
   "file_extension": ".py",
   "mimetype": "text/x-python",
   "name": "python",
   "nbconvert_exporter": "python",
   "pygments_lexer": "ipython3",
   "version": "3.12.1"
  }
 },
 "nbformat": 4,
 "nbformat_minor": 2
}
