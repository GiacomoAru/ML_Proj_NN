{
 "cells": [
  {
   "cell_type": "code",
   "execution_count": 1,
   "metadata": {},
   "outputs": [],
   "source": [
    "import matplotlib.pyplot as plt\n",
    "import numpy as np\n",
    "import sys\n",
    "import os\n",
    "import pandas as pd\n",
    "import plotly.express as px\n",
    "from sklearn.preprocessing import MinMaxScaler, StandardScaler\n",
    "\n",
    "sys.path.append(os.path.abspath('../src/'))\n",
    "from ModelSelection import *\n",
    "from ActivationFunctions import *\n",
    "from NeuralNetwork import *\n",
    "from MyUtils import *"
   ]
  },
  {
   "cell_type": "code",
   "execution_count": 2,
   "metadata": {},
   "outputs": [],
   "source": [
    "cup_df = pd.read_csv(\n",
    "    '../data/ML-CUP23-TR.csv',\n",
    "    index_col=0,\n",
    "    comment='#',\n",
    "    header=None,\n",
    "    names=['feature_' + str(i+1) for i in range(10)] + ['target_' + str(i+1) for i in range(3)]\n",
    ")\n",
    "\n",
    "data_set = cup_df.values\n",
    "len_data = len(data_set)\n",
    "np.random.shuffle(data_set)\n",
    "\n",
    "training_len = int(0.8*len_data)\n",
    "\n",
    "training_set = data_set[:int(training_len)] # Training Set for KFold Cross Validation\n",
    "test_set = data_set[int(training_len):] # Hold Out Test Set\n",
    "\n",
    "TR_OUTPUT = 3\n",
    "TR_INPUT = data_set.shape[1] - TR_OUTPUT\n",
    "\n",
    "scaler_out = StandardScaler()\n",
    "scaler_in = StandardScaler()\n",
    "scaler_in.fit(training_set[:,:TR_INPUT])\n",
    "scaler_out.fit(training_set[:,TR_INPUT:])\n",
    "\n",
    "tr_normalized = np.empty((training_len, TR_OUTPUT + TR_INPUT))\n",
    "tr_normalized[:,:TR_INPUT] = scaler_in.transform(training_set[:,:TR_INPUT])\n",
    "tr_normalized[:,TR_INPUT:] = scaler_out.transform(training_set[:,TR_INPUT:])\n",
    "\n",
    "test_normalized = np.empty((len_data - training_len, TR_OUTPUT + TR_INPUT))\n",
    "test_normalized[:,:TR_INPUT] = scaler_in.transform(test_set[:,:TR_INPUT])\n",
    "test_normalized[:,TR_INPUT:] = scaler_out.transform(test_set[:,TR_INPUT:])"
   ]
  },
  {
   "cell_type": "code",
   "execution_count": 3,
   "metadata": {},
   "outputs": [],
   "source": [
    "hidden_len = 32\n",
    "\n",
    "hidden_fun = 'tanh'\n",
    "output_fun = 'identity'\n",
    "\n",
    "tanh_l1 = create_stratified_topology([TR_INPUT,30,TR_OUTPUT], \n",
    "                                      [[None,[]]]*TR_INPUT + [[hidden_fun, [1]]]*hidden_len + [[output_fun, []]]*TR_OUTPUT)\n",
    "\n",
    "hidden_fun = 'sigmoid'\n",
    "output_fun = 'identity'\n",
    "\n",
    "sigmoid_l1 = create_stratified_topology([TR_INPUT,30,TR_OUTPUT], \n",
    "                                      [[None,[]]]*TR_INPUT + [[hidden_fun, [1]]]*hidden_len + [[output_fun, []]]*TR_OUTPUT)\n"
   ]
  },
  {
   "cell_type": "code",
   "execution_count": 4,
   "metadata": {},
   "outputs": [],
   "source": [
    "hidden_fun = 'tanh'\n",
    "output_fun = 'identity'\n",
    "\n",
    "tanh_l2 = create_stratified_topology([TR_INPUT,16, 16,TR_OUTPUT], \n",
    "                                      [[None,[]]]*TR_INPUT + [[hidden_fun, [1]]]*16 + [[hidden_fun, [1]]]*16 + [[output_fun, []]]*TR_OUTPUT)\n",
    "\n",
    "hidden_fun = 'ReLU'\n",
    "output_fun = 'identity'\n",
    "relu_l2 = create_stratified_topology([TR_INPUT,16, 16,TR_OUTPUT], \n",
    "                                      [[None,[]]]*TR_INPUT + [[hidden_fun, [1]]]*16 + [[hidden_fun, [1]]]*16 + [[output_fun, []]]*TR_OUTPUT)"
   ]
  },
  {
   "cell_type": "code",
   "execution_count": 5,
   "metadata": {},
   "outputs": [],
   "source": [
    "MS = ModelSelection('../data/single_layer.csv')\n",
    "\n",
    "hyperparam_grid = {\n",
    "    'learning_rate':[0.01, 0.1, 0.3, 0.5, 0.7],\n",
    "    'lr_decay_tau':[200],\n",
    "    'adamax' : [True, False],\n",
    "    'adamax_learning_rate' : [0.02, 0.01, 0.04, 0.06, 0.1],\n",
    "    'exp_decay_rate_1':[0.9, 0.8],\n",
    "    'exp_decay_rate_2':[0.999, 0.5],\n",
    "    'alpha_momentum':[0, 0.5, 0.9],\n",
    "    'lambda_tikhonov':[0.00001, 0.0001],\n",
    "    'batch_size':[int(training_len/15)],\n",
    "    'min_epochs': [100],\n",
    "    'max_epochs':[800],\n",
    "    'metrics':[[ErrorFunctions.mean_euclidean_error, ErrorFunctions.mean_squared_error]],\n",
    "    'error_increase_tolerance':[0.00001, 0.0001],\n",
    "    'patience':[10],\n",
    "    'topology': [str(tanh_l2)],\n",
    "}\n",
    "\n",
    "c1 = lambda x: x\n",
    "constr = {'adamax': (c1, ['learning_rate', 'alpha_momentum', 'lr_decay_tau'], ['adamax_learning_rate', 'exp_decay_rate_1', 'exp_decay_rate_2'])}\n",
    "\n",
    "MS.grid_searchKF(tr_normalized, hyperparam_grid, constr, 3, 6, True)"
   ]
  }
 ],
 "metadata": {
  "kernelspec": {
   "display_name": "DM_Proj",
   "language": "python",
   "name": "python3"
  },
  "language_info": {
   "codemirror_mode": {
    "name": "ipython",
    "version": 3
   },
   "file_extension": ".py",
   "mimetype": "text/x-python",
   "name": "python",
   "nbconvert_exporter": "python",
   "pygments_lexer": "ipython3",
   "version": "3.8.13"
  }
 },
 "nbformat": 4,
 "nbformat_minor": 2
}
